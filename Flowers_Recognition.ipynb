{
 "cells": [
  {
   "cell_type": "markdown",
   "metadata": {
    "id": "BXgJ6uT1NydQ"
   },
   "source": [
    "Assignment: Flowers Recognition <br>\n",
    "Dataset Description:<br>\n",
    "\n",
    "This dataset contains 4242 images of flowers.<br>\n",
    "The data collection is based on the data flicr, google images, yandex images.<br>\n",
    "You can use this datastet to recognize plants from the photo.<br>\n",
    "\n",
    "Attribute Information:<br>\n",
    "The pictures are divided into five classes: chamomile, tulip, rose, sunflower, dandelion.<br>\n",
    "For each class there are about 800 photos. Photos are not high resolution, about 320x240 pixels. <br>\n",
    "<b>Also explore how to resize images in tensorflow and then resize all the images to a same size. </b> <br>\n",
    "This is a Multiclass Classification Problem.<br>\n",
    "\n",
    "\n"
   ]
  },
  {
   "cell_type": "markdown",
   "metadata": {
    "id": "T7vy-ktuOKJH"
   },
   "source": [
    "WORKFLOW : <br>\n",
    "Load Data <br>\n",
    "Split into 60 and 40 ratio.<br>\n",
    "Encode labels.<br>\n",
    "Create Model<br>\n",
    "Compilation Step (Note : Its a Multiclass Classification problem , select loss , metrics according to it)<br>\n",
    "Train the Model.<br>\n",
    "If the model gets overfit tune your model by changing the units , No. of layers , epochs , add dropout layer or add Regularizer according to the need .<br>\n",
    "Prediction should be > 85%<br>\n",
    "Evaluation Step<br>\n",
    "Prediction<br>\n",
    "\n",
    "\n"
   ]
  },
  {
   "cell_type": "markdown",
   "metadata": {
    "id": "ri3Bg5qfPRic"
   },
   "source": [
    "Data : <br>\n",
    "https://drive.google.com/file/d/1-OX6wn5gA-bJpjPNfSyaYQLz-A-AB_uj/view?usp=sharing"
   ]
  },
  {
   "cell_type": "code",
   "execution_count": 1,
   "metadata": {},
   "outputs": [],
   "source": [
    "import pandas as pd\n",
    "import numpy as np\n",
    "import os\n",
    "import tensorflow as tf\n",
    "import cv2\n",
    "from tensorflow import keras\n",
    "#from tensorflow.keras import layers, Dense, Input, InputLayer, Flatten\n",
    "from tensorflow.keras.models import Sequential, Model\n",
    "from  matplotlib import pyplot as plt\n",
    "import matplotlib.image as mpimg\n",
    "%matplotlib inline\n",
    "\n",
    "import struct\n",
    "import cv2\n",
    "import imageio\n",
    "\n",
    "IMAGE_HEIGHT = 320\n",
    "IMAGE_WIDTH = 240"
   ]
  },
  {
   "cell_type": "code",
   "execution_count": 2,
   "metadata": {
    "id": "hTtg3WuGTA1o"
   },
   "outputs": [],
   "source": [
    "# function to load flower images from local folder named flowers with sub folders named after each class of flowers\n",
    "\n",
    "def create_dataset(img_folder):\n",
    "   \n",
    "    image_array=[]\n",
    "    class_array=[]\n",
    "    label = 0\n",
    "    \n",
    "    for sub_folder in os.listdir(img_folder):\n",
    "        for file in os.listdir(os.path.join(img_folder, sub_folder)):\n",
    "       \n",
    "            image_path= os.path.join(img_folder, sub_folder,  file)\n",
    "           # image= cv2.imread( image_path, cv2.COLOR_BGR2RGB)\n",
    "            image= cv2.imread(image_path, cv2.IMREAD_GRAYSCALE)\n",
    "            image= cv2.resize(image, (IMAGE_HEIGHT, IMAGE_WIDTH), interpolation = cv2.INTER_AREA)\n",
    "            image = image.astype('float32')\n",
    "            image /= 255 \n",
    "            image = image.reshape(IMAGE_HEIGHT*IMAGE_WIDTH*1)\n",
    "            image_array.append(image)\n",
    "            class_array.append(label)\n",
    "            \n",
    "        label += 1\n",
    "       \n",
    "    return image_array, class_array"
   ]
  },
  {
   "cell_type": "code",
   "execution_count": 3,
   "metadata": {},
   "outputs": [],
   "source": [
    "#image_data, class_name = create_dataset('flowers/') ; The data set is stored under local hard disk in subfolder 'flowers'\n",
    "images_data, class_data = create_dataset('flowers/')\n",
    "\n",
    "from sklearn.utils import shuffle\n",
    "x, y = shuffle(images_data, class_data)\n",
    "x = np.array(x)\n",
    "y = np.array(y)"
   ]
  },
  {
   "cell_type": "code",
   "execution_count": 4,
   "metadata": {},
   "outputs": [],
   "source": [
    "# converting'y' to categorical values from non-numeric\n",
    "\n",
    "from keras.utils import to_categorical\n",
    "\n",
    "y = to_categorical(y).astype('float32')"
   ]
  },
  {
   "cell_type": "code",
   "execution_count": null,
   "metadata": {
    "executionInfo": {
     "elapsed": 1616,
     "status": "aborted",
     "timestamp": 1617089068011,
     "user": {
      "displayName": "Tariq Jamil",
      "photoUrl": "https://lh3.googleusercontent.com/a-/AOh14GgDTWFYRmAzAYPlKEXPBbLUin4uLOPxYf0jwdLNofE=s64",
      "userId": "14932491825632509938"
     },
     "user_tz": -300
    },
    "id": "QCVbB_672DJd"
   },
   "outputs": [],
   "source": [
    "from sklearn.model_selection import train_test_split\n",
    "\n",
    "# Defines ratios, w.r.t. whole dataset.\n",
    "ratio_train = 0.6 # 60%\n",
    "ratio_test  = 0.4  # 40%\n",
    "# Produces 40% test split.\n",
    "x_train, x_test, y_train, y_test = train_test_split(x, y, test_size=ratio_test, random_state=42)"
   ]
  },
  {
   "cell_type": "code",
   "execution_count": null,
   "metadata": {
    "executionInfo": {
     "elapsed": 804,
     "status": "ok",
     "timestamp": 1616618211034,
     "user": {
      "displayName": "Tariq Jamil",
      "photoUrl": "https://lh3.googleusercontent.com/a-/AOh14GgDTWFYRmAzAYPlKEXPBbLUin4uLOPxYf0jwdLNofE=s64",
      "userId": "14932491825632509938"
     },
     "user_tz": -300
    },
    "id": "s6Q0t3OA7zOo"
   },
   "outputs": [],
   "source": [
    "from keras import models\n",
    "from keras import layers\n",
    "\n",
    "model=models.Sequential()\n",
    "model.add(layers.Dense(512, activation='relu', input_shape=(IMAGE_HEIGHT*IMAGE_WIDTH,)))\n",
    "model.add(layers.Dense(256, activation='relu'))\n",
    "model.add(layers.Dense(128, activation='relu'))\n",
    "model.add(layers.Dense(5, activation='softmax'))"
   ]
  },
  {
   "cell_type": "code",
   "execution_count": null,
   "metadata": {
    "executionInfo": {
     "elapsed": 762,
     "status": "ok",
     "timestamp": 1616618678144,
     "user": {
      "displayName": "Tariq Jamil",
      "photoUrl": "https://lh3.googleusercontent.com/a-/AOh14GgDTWFYRmAzAYPlKEXPBbLUin4uLOPxYf0jwdLNofE=s64",
      "userId": "14932491825632509938"
     },
     "user_tz": -300
    },
    "id": "cDkTCRbw7zOp"
   },
   "outputs": [],
   "source": [
    "from keras import optimizers\n",
    "from keras import losses\n",
    "from keras import metrics\n",
    "\n",
    "model.compile(optimizer='rmsprop',\n",
    "              loss='categorical_crossentropy',\n",
    "              metrics=['accuracy'])"
   ]
  },
  {
   "cell_type": "code",
   "execution_count": null,
   "metadata": {
    "colab": {
     "base_uri": "https://localhost:8080/"
    },
    "executionInfo": {
     "elapsed": 16758,
     "status": "ok",
     "timestamp": 1616618698793,
     "user": {
      "displayName": "Tariq Jamil",
      "photoUrl": "https://lh3.googleusercontent.com/a-/AOh14GgDTWFYRmAzAYPlKEXPBbLUin4uLOPxYf0jwdLNofE=s64",
      "userId": "14932491825632509938"
     },
     "user_tz": -300
    },
    "id": "g-G5kMoF7zOr",
    "outputId": "3be1e225-002d-48fe-8064-728204fab5d6"
   },
   "outputs": [],
   "source": [
    "history = model.fit(x_train,\n",
    "                    y_train,\n",
    "                    epochs=30,\n",
    "                    batch_size=128)"
   ]
  },
  {
   "cell_type": "code",
   "execution_count": null,
   "metadata": {
    "colab": {
     "base_uri": "https://localhost:8080/"
    },
    "executionInfo": {
     "elapsed": 748,
     "status": "ok",
     "timestamp": 1616619205172,
     "user": {
      "displayName": "Tariq Jamil",
      "photoUrl": "https://lh3.googleusercontent.com/a-/AOh14GgDTWFYRmAzAYPlKEXPBbLUin4uLOPxYf0jwdLNofE=s64",
      "userId": "14932491825632509938"
     },
     "user_tz": -300
    },
    "id": "XbaOnEpE7zOs",
    "outputId": "2711a9fd-7c9f-4707-d582-3e4c04d9b7c8"
   },
   "outputs": [],
   "source": [
    "history_dict=history.history\n",
    "history_dict.keys()"
   ]
  },
  {
   "cell_type": "code",
   "execution_count": null,
   "metadata": {
    "colab": {
     "base_uri": "https://localhost:8080/",
     "height": 295
    },
    "executionInfo": {
     "elapsed": 1089,
     "status": "ok",
     "timestamp": 1616618762615,
     "user": {
      "displayName": "Tariq Jamil",
      "photoUrl": "https://lh3.googleusercontent.com/a-/AOh14GgDTWFYRmAzAYPlKEXPBbLUin4uLOPxYf0jwdLNofE=s64",
      "userId": "14932491825632509938"
     },
     "user_tz": -300
    },
    "id": "2BSBPe0-9YuM",
    "outputId": "06993946-833f-4460-c830-5520c3fc693c"
   },
   "outputs": [],
   "source": [
    "import matplotlib.pyplot as plt\n",
    "loss = history.history['loss']\n",
    "val_loss = history.history['loss']\n",
    "epochs = range(1, len(loss) + 1)\n",
    "\n",
    "plt.plot(epochs, loss, 'bo', label='Training loss')\n",
    "plt.plot(epochs, val_loss, 'b', label='Validation loss')\n",
    "plt.title('Training and validation loss')\n",
    "plt.xlabel('Epochs')\n",
    "plt.ylabel('Loss')\n",
    "plt.legend()\n",
    "plt.show()"
   ]
  },
  {
   "cell_type": "code",
   "execution_count": null,
   "metadata": {
    "colab": {
     "base_uri": "https://localhost:8080/",
     "height": 295
    },
    "executionInfo": {
     "elapsed": 986,
     "status": "ok",
     "timestamp": 1616619225341,
     "user": {
      "displayName": "Tariq Jamil",
      "photoUrl": "https://lh3.googleusercontent.com/a-/AOh14GgDTWFYRmAzAYPlKEXPBbLUin4uLOPxYf0jwdLNofE=s64",
      "userId": "14932491825632509938"
     },
     "user_tz": -300
    },
    "id": "a0CHQAwQY0_I",
    "outputId": "1968b917-c4dd-49ec-9e77-c4dd34f1da10"
   },
   "outputs": [],
   "source": [
    "plt.clf()\n",
    "acc = history.history['accuracy']\n",
    "val_acc = history.history['val_accuracy']\n",
    "plt.plot(epochs, acc, 'bo', label='Training acc')\n",
    "plt.plot(epochs, val_acc, 'b', label='Validation acc')\n",
    "plt.title('Training and validation accuracy')\n",
    "plt.xlabel('Epochs')\n",
    "plt.ylabel('Loss')\n",
    "plt.legend()\n",
    "plt.show()"
   ]
  },
  {
   "cell_type": "code",
   "execution_count": null,
   "metadata": {},
   "outputs": [],
   "source": [
    "history = model.fit(x=np.array(image_data, np.float32), y=np.array(list(map(int,target_val)), np.float32), epochs=5)\n",
    "#history = model.fit(x=tf.cast(np.array(image_data), tf.float64), y=tf.cast(list(map(int,target_val)),tf.int32), epochs=5)"
   ]
  }
 ],
 "metadata": {
  "colab": {
   "name": "Flowers Recognition.ipynb",
   "provenance": []
  },
  "kernelspec": {
   "display_name": "Python 3",
   "language": "python",
   "name": "python3"
  },
  "language_info": {
   "codemirror_mode": {
    "name": "ipython",
    "version": 3
   },
   "file_extension": ".py",
   "mimetype": "text/x-python",
   "name": "python",
   "nbconvert_exporter": "python",
   "pygments_lexer": "ipython3",
   "version": "3.8.5"
  }
 },
 "nbformat": 4,
 "nbformat_minor": 4
}
