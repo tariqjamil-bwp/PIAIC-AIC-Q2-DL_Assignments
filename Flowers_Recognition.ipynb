{
 "cells": [
  {
   "cell_type": "markdown",
   "metadata": {
    "id": "BXgJ6uT1NydQ"
   },
   "source": [
    "Assignment: Flowers Recognition <br>\n",
    "Dataset Description:<br>\n",
    "\n",
    "This dataset contains 4242 images of flowers.<br>\n",
    "The data collection is based on the data flicr, google images, yandex images.<br>\n",
    "You can use this datastet to recognize plants from the photo.<br>\n",
    "\n",
    "Attribute Information:<br>\n",
    "The pictures are divided into five classes: chamomile, tulip, rose, sunflower, dandelion.<br>\n",
    "For each class there are about 800 photos. Photos are not high resolution, about 320x240 pixels. <br>\n",
    "<b>Also explore how to resize images in tensorflow and then resize all the images to a same size. </b> <br>\n",
    "This is a Multiclass Classification Problem.<br>\n",
    "\n",
    "\n"
   ]
  },
  {
   "cell_type": "markdown",
   "metadata": {
    "id": "T7vy-ktuOKJH"
   },
   "source": [
    "WORKFLOW : <br>\n",
    "Load Data <br>\n",
    "Split into 60 and 40 ratio.<br>\n",
    "Encode labels.<br>\n",
    "Create Model<br>\n",
    "Compilation Step (Note : Its a Multiclass Classification problem , select loss , metrics according to it)<br>\n",
    "Train the Model.<br>\n",
    "If the model gets overfit tune your model by changing the units , No. of layers , epochs , add dropout layer or add Regularizer according to the need .<br>\n",
    "Prediction should be > 85%<br>\n",
    "Evaluation Step<br>\n",
    "Prediction<br>\n",
    "\n",
    "\n"
   ]
  },
  {
   "cell_type": "markdown",
   "metadata": {
    "id": "ri3Bg5qfPRic"
   },
   "source": [
    "Data : <br>\n",
    "https://drive.google.com/file/d/1-OX6wn5gA-bJpjPNfSyaYQLz-A-AB_uj/view?usp=sharing"
   ]
  },
  {
   "cell_type": "code",
   "execution_count": 1,
   "metadata": {},
   "outputs": [],
   "source": [
    "import pandas as pd\n",
    "import numpy as np\n",
    "import os\n",
    "import tensorflow as tf\n",
    "import cv2\n",
    "from tensorflow import keras\n",
    "from tensorflow.keras.models import Sequential, Model\n",
    "from keras.layers import Dropout\n",
    "\n",
    "from  matplotlib import pyplot as plt\n",
    "import matplotlib.image as mpimg\n",
    "%matplotlib inline\n",
    "\n",
    "import struct\n",
    "import cv2\n",
    "import imageio\n",
    "\n",
    "IMAGE_HEIGHT = 128 # 320\n",
    "IMAGE_WIDTH = 128 # 240\n",
    "size = (IMAGE_HEIGHT, IMAGE_WIDTH)"
   ]
  },
  {
   "cell_type": "code",
   "execution_count": 2,
   "metadata": {
    "id": "hTtg3WuGTA1o"
   },
   "outputs": [
    {
     "name": "stdout",
     "output_type": "stream",
     "text": [
      "['tulip', 'daisy', 'rose', 'dandelion', 'sunflower']\n"
     ]
    }
   ],
   "source": [
    "# Data upload from files to arrays\n",
    "# The data set is stored under local hard disk in subfolder 'flowers'\n",
    "\n",
    "main_folder = \"flowers/\"               # path of the flowers data on current drive/directory (same as code directory)\n",
    "sub_folders = os.listdir(main_folder)  # List out the sub_directories which are named after folower classes\n",
    "print(sub_folders)\n",
    "\n",
    "image_array=[]\n",
    "class_array=[]\n",
    "    \n",
    "for flower_directory in sub_folders:\n",
    "    for file in os.listdir(os.path.join(main_folder, flower_directory)):\n",
    "        \n",
    "        if file.endswith(\"jpg\"):\n",
    "            image_path= os.path.join(main_folder, flower_directory,  file)\n",
    "            #image  = cv2.imread(image_path)\n",
    "            image  = cv2.imread(image_path, cv2.IMREAD_GRAYSCALE)\n",
    "            image1 = cv2.resize(image, size, interpolation = cv2.INTER_AREA)\n",
    "            image2 = image1.reshape(IMAGE_HEIGHT*IMAGE_WIDTH*1)\n",
    "            image_array.append(image2)\n",
    "            class_array.append(flower_directory)   # storing classe of flowers\n",
    "        else:\n",
    "            continue\n"
   ]
  },
  {
   "cell_type": "code",
   "execution_count": 3,
   "metadata": {
    "id": "hTtg3WuGTA1o"
   },
   "outputs": [],
   "source": [
    "# Normalizing & enccoding the data.\n",
    "\n",
    "images = np.array(image_array)   # conversion of list to numpy array of images\n",
    "images_data = images.astype(float)/255.   # ranginging RGB data between 0-1 and float type.\n",
    "class_labels = pd.get_dummies(class_array).values.argmax(1)  # encoding flower classes into numeric labels"
   ]
  },
  {
   "cell_type": "code",
   "execution_count": 4,
   "metadata": {},
   "outputs": [
    {
     "data": {
      "text/plain": [
       "(4323,)"
      ]
     },
     "execution_count": 4,
     "metadata": {},
     "output_type": "execute_result"
    }
   ],
   "source": [
    "from sklearn.utils import shuffle\n",
    "x, y = shuffle(images_data, class_labels)\n",
    "x = np.array(x)\n",
    "y = np.array(y)\n",
    "y.shape"
   ]
  },
  {
   "cell_type": "code",
   "execution_count": 5,
   "metadata": {
    "executionInfo": {
     "elapsed": 1616,
     "status": "aborted",
     "timestamp": 1617089068011,
     "user": {
      "displayName": "Tariq Jamil",
      "photoUrl": "https://lh3.googleusercontent.com/a-/AOh14GgDTWFYRmAzAYPlKEXPBbLUin4uLOPxYf0jwdLNofE=s64",
      "userId": "14932491825632509938"
     },
     "user_tz": -300
    },
    "id": "QCVbB_672DJd"
   },
   "outputs": [],
   "source": [
    "from sklearn.model_selection import train_test_split\n",
    "\n",
    "# Defines ratios, w.r.t. whole dataset.\n",
    "ratio_train = 0.6 # 60%\n",
    "ratio_test  = 0.4 # 40%\n",
    "\n",
    "# Produces 40% test split.\n",
    "x_train, x_test, y_train, y_test = train_test_split(x, y, test_size=ratio_test, random_state=42)"
   ]
  },
  {
   "cell_type": "code",
   "execution_count": 6,
   "metadata": {
    "executionInfo": {
     "elapsed": 804,
     "status": "ok",
     "timestamp": 1616618211034,
     "user": {
      "displayName": "Tariq Jamil",
      "photoUrl": "https://lh3.googleusercontent.com/a-/AOh14GgDTWFYRmAzAYPlKEXPBbLUin4uLOPxYf0jwdLNofE=s64",
      "userId": "14932491825632509938"
     },
     "user_tz": -300
    },
    "id": "s6Q0t3OA7zOo"
   },
   "outputs": [],
   "source": [
    "from keras import models\n",
    "from keras import layers\n",
    "from keras import regularizers\n",
    "\n",
    "model = models.Sequential()\n",
    "model.add(layers.Dense(128, activation='relu', input_shape=(IMAGE_HEIGHT*IMAGE_WIDTH,)))\n",
    "#model.add(Dropout(0.5))\n",
    "#model.add(layers.Dense(10, activation='relu'))\n",
    "#model.add(Dropout(0.5))\n",
    "model.add(layers.Dense(5,  activation='softmax'))"
   ]
  },
  {
   "cell_type": "code",
   "execution_count": 7,
   "metadata": {
    "executionInfo": {
     "elapsed": 762,
     "status": "ok",
     "timestamp": 1616618678144,
     "user": {
      "displayName": "Tariq Jamil",
      "photoUrl": "https://lh3.googleusercontent.com/a-/AOh14GgDTWFYRmAzAYPlKEXPBbLUin4uLOPxYf0jwdLNofE=s64",
      "userId": "14932491825632509938"
     },
     "user_tz": -300
    },
    "id": "cDkTCRbw7zOp"
   },
   "outputs": [],
   "source": [
    "from keras import optimizers, regularizers\n",
    "from keras import losses\n",
    "from keras import metrics\n",
    "\n",
    "adam = keras.optimizers.Adam(lr=0.00001)\n",
    "#adam = keras.optimizers.Adam(learning_rate=0.001, beta1=0.9, beta2=0.999, epsilon=1e-08)\n",
    "sgd = keras.optimizers.SGD(lr=0.001, nesterov=True)\n",
    "rms = keras.optimizers.RMSprop(lr=0.0001)\n",
    "\n",
    "model.compile(optimizer = adam, #'rmsprop',\n",
    "              loss      = 'sparse_categorical_crossentropy',\n",
    "              metrics   = ['accuracy'])"
   ]
  },
  {
   "cell_type": "code",
   "execution_count": 8,
   "metadata": {
    "colab": {
     "base_uri": "https://localhost:8080/"
    },
    "executionInfo": {
     "elapsed": 16758,
     "status": "ok",
     "timestamp": 1616618698793,
     "user": {
      "displayName": "Tariq Jamil",
      "photoUrl": "https://lh3.googleusercontent.com/a-/AOh14GgDTWFYRmAzAYPlKEXPBbLUin4uLOPxYf0jwdLNofE=s64",
      "userId": "14932491825632509938"
     },
     "user_tz": -300
    },
    "id": "g-G5kMoF7zOr",
    "outputId": "3be1e225-002d-48fe-8064-728204fab5d6"
   },
   "outputs": [
    {
     "name": "stdout",
     "output_type": "stream",
     "text": [
      "Epoch 1/100\n",
      "325/325 [==============================] - 7s 20ms/step - loss: 1.6142 - accuracy: 0.2504\n",
      "Epoch 2/100\n",
      "325/325 [==============================] - 8s 23ms/step - loss: 1.5488 - accuracy: 0.3015\n",
      "Epoch 3/100\n",
      "325/325 [==============================] - 7s 22ms/step - loss: 1.5156 - accuracy: 0.3131\n",
      "Epoch 4/100\n",
      "325/325 [==============================] - 6s 17ms/step - loss: 1.4891 - accuracy: 0.3360\n",
      "Epoch 5/100\n",
      "325/325 [==============================] - 5s 17ms/step - loss: 1.4623 - accuracy: 0.3575\n",
      "Epoch 6/100\n",
      "325/325 [==============================] - 5s 16ms/step - loss: 1.4644 - accuracy: 0.3614\n",
      "Epoch 7/100\n",
      "325/325 [==============================] - 5s 16ms/step - loss: 1.4378 - accuracy: 0.3867\n",
      "Epoch 8/100\n",
      "325/325 [==============================] - 6s 19ms/step - loss: 1.4326 - accuracy: 0.3769\n",
      "Epoch 9/100\n",
      "325/325 [==============================] - 7s 21ms/step - loss: 1.4051 - accuracy: 0.4146\n",
      "Epoch 10/100\n",
      "325/325 [==============================] - 6s 17ms/step - loss: 1.3962 - accuracy: 0.3878\n",
      "Epoch 11/100\n",
      "325/325 [==============================] - 6s 17ms/step - loss: 1.3645 - accuracy: 0.4337\n",
      "Epoch 12/100\n",
      "325/325 [==============================] - 5s 16ms/step - loss: 1.3596 - accuracy: 0.4401\n",
      "Epoch 13/100\n",
      "325/325 [==============================] - 6s 19ms/step - loss: 1.3480 - accuracy: 0.4491\n",
      "Epoch 14/100\n",
      "325/325 [==============================] - 7s 23ms/step - loss: 1.3325 - accuracy: 0.4459\n",
      "Epoch 15/100\n",
      "325/325 [==============================] - 8s 24ms/step - loss: 1.3036 - accuracy: 0.4853\n",
      "Epoch 16/100\n",
      "325/325 [==============================] - 8s 24ms/step - loss: 1.2898 - accuracy: 0.4816\n",
      "Epoch 17/100\n",
      "325/325 [==============================] - 9s 29ms/step - loss: 1.2910 - accuracy: 0.4796\n",
      "Epoch 18/100\n",
      "325/325 [==============================] - 8s 25ms/step - loss: 1.2453 - accuracy: 0.5379\n",
      "Epoch 19/100\n",
      "325/325 [==============================] - 8s 25ms/step - loss: 1.2516 - accuracy: 0.5180\n",
      "Epoch 20/100\n",
      "325/325 [==============================] - 9s 27ms/step - loss: 1.2385 - accuracy: 0.5272\n",
      "Epoch 21/100\n",
      "325/325 [==============================] - 8s 24ms/step - loss: 1.2210 - accuracy: 0.5399\n",
      "Epoch 22/100\n",
      "325/325 [==============================] - 9s 27ms/step - loss: 1.2088 - accuracy: 0.5509\n",
      "Epoch 23/100\n",
      "325/325 [==============================] - 9s 29ms/step - loss: 1.1932 - accuracy: 0.5424\n",
      "Epoch 24/100\n",
      "325/325 [==============================] - 7s 22ms/step - loss: 1.1710 - accuracy: 0.5637\n",
      "Epoch 25/100\n",
      "325/325 [==============================] - 6s 20ms/step - loss: 1.1601 - accuracy: 0.5849\n",
      "Epoch 26/100\n",
      "325/325 [==============================] - 7s 20ms/step - loss: 1.1555 - accuracy: 0.5866\n",
      "Epoch 27/100\n",
      "325/325 [==============================] - 6s 18ms/step - loss: 1.1452 - accuracy: 0.5854\n",
      "Epoch 28/100\n",
      "325/325 [==============================] - 6s 19ms/step - loss: 1.1301 - accuracy: 0.5981\n",
      "Epoch 29/100\n",
      "325/325 [==============================] - 6s 18ms/step - loss: 1.0825 - accuracy: 0.6224\n",
      "Epoch 30/100\n",
      "325/325 [==============================] - 6s 18ms/step - loss: 1.1015 - accuracy: 0.6085\n",
      "Epoch 31/100\n",
      "325/325 [==============================] - 7s 22ms/step - loss: 1.0836 - accuracy: 0.6130\n",
      "Epoch 32/100\n",
      "325/325 [==============================] - 7s 20ms/step - loss: 1.0767 - accuracy: 0.6270\n",
      "Epoch 33/100\n",
      "325/325 [==============================] - 6s 19ms/step - loss: 1.0558 - accuracy: 0.6592\n",
      "Epoch 34/100\n",
      "325/325 [==============================] - 6s 19ms/step - loss: 1.0278 - accuracy: 0.6579\n",
      "Epoch 35/100\n",
      "325/325 [==============================] - 6s 18ms/step - loss: 1.0325 - accuracy: 0.6572\n",
      "Epoch 36/100\n",
      "325/325 [==============================] - 6s 17ms/step - loss: 1.0117 - accuracy: 0.6784\n",
      "Epoch 37/100\n",
      "325/325 [==============================] - 7s 20ms/step - loss: 1.0180 - accuracy: 0.6642\n",
      "Epoch 38/100\n",
      "325/325 [==============================] - 6s 18ms/step - loss: 0.9897 - accuracy: 0.6641\n",
      "Epoch 39/100\n",
      "325/325 [==============================] - 6s 18ms/step - loss: 0.9738 - accuracy: 0.6927\n",
      "Epoch 40/100\n",
      "325/325 [==============================] - 7s 20ms/step - loss: 0.9922 - accuracy: 0.6854\n",
      "Epoch 41/100\n",
      "325/325 [==============================] - 7s 21ms/step - loss: 0.9649 - accuracy: 0.6927\n",
      "Epoch 42/100\n",
      "325/325 [==============================] - 6s 18ms/step - loss: 0.9424 - accuracy: 0.7153\n",
      "Epoch 43/100\n",
      "325/325 [==============================] - 6s 18ms/step - loss: 0.9596 - accuracy: 0.7011\n",
      "Epoch 44/100\n",
      "325/325 [==============================] - 6s 20ms/step - loss: 0.9237 - accuracy: 0.7251\n",
      "Epoch 45/100\n",
      "325/325 [==============================] - 7s 20ms/step - loss: 0.9103 - accuracy: 0.7349\n",
      "Epoch 46/100\n",
      "325/325 [==============================] - 6s 19ms/step - loss: 0.9251 - accuracy: 0.7189\n",
      "Epoch 47/100\n",
      "325/325 [==============================] - 6s 20ms/step - loss: 0.9118 - accuracy: 0.7366\n",
      "Epoch 48/100\n",
      "325/325 [==============================] - 7s 20ms/step - loss: 0.8934 - accuracy: 0.7478\n",
      "Epoch 49/100\n",
      "325/325 [==============================] - 7s 21ms/step - loss: 0.8647 - accuracy: 0.7691\n",
      "Epoch 50/100\n",
      "325/325 [==============================] - 6s 18ms/step - loss: 0.8816 - accuracy: 0.7546\n",
      "Epoch 51/100\n",
      "325/325 [==============================] - 7s 22ms/step - loss: 0.8506 - accuracy: 0.7655\n",
      "Epoch 52/100\n",
      "325/325 [==============================] - 6s 19ms/step - loss: 0.8525 - accuracy: 0.7666\n",
      "Epoch 53/100\n",
      "325/325 [==============================] - 8s 25ms/step - loss: 0.8374 - accuracy: 0.7712\n",
      "Epoch 54/100\n",
      "325/325 [==============================] - 8s 26ms/step - loss: 0.8225 - accuracy: 0.7791\n",
      "Epoch 55/100\n",
      "325/325 [==============================] - 9s 26ms/step - loss: 0.8098 - accuracy: 0.7904\n",
      "Epoch 56/100\n",
      "325/325 [==============================] - 13s 40ms/step - loss: 0.8178 - accuracy: 0.7771\n",
      "Epoch 57/100\n",
      "325/325 [==============================] - 22s 69ms/step - loss: 0.8176 - accuracy: 0.7790\n",
      "Epoch 58/100\n",
      "325/325 [==============================] - 14s 44ms/step - loss: 0.7899 - accuracy: 0.7982\n",
      "Epoch 59/100\n",
      "325/325 [==============================] - 13s 41ms/step - loss: 0.7645 - accuracy: 0.8086\n",
      "Epoch 60/100\n",
      "325/325 [==============================] - 13s 40ms/step - loss: 0.7843 - accuracy: 0.7963\n",
      "Epoch 61/100\n",
      "325/325 [==============================] - 8s 24ms/step - loss: 0.7744 - accuracy: 0.7976\n",
      "Epoch 62/100\n",
      "325/325 [==============================] - 8s 26ms/step - loss: 0.7560 - accuracy: 0.8152\n",
      "Epoch 63/100\n",
      "325/325 [==============================] - 9s 27ms/step - loss: 0.7102 - accuracy: 0.8389\n",
      "Epoch 64/100\n",
      "325/325 [==============================] - 8s 26ms/step - loss: 0.7162 - accuracy: 0.8442\n",
      "Epoch 65/100\n",
      "325/325 [==============================] - 8s 26ms/step - loss: 0.7191 - accuracy: 0.8398\n",
      "Epoch 66/100\n",
      "325/325 [==============================] - 5s 17ms/step - loss: 0.6926 - accuracy: 0.8434\n",
      "Epoch 67/100\n",
      "325/325 [==============================] - 6s 19ms/step - loss: 0.7029 - accuracy: 0.8514\n",
      "Epoch 68/100\n",
      "325/325 [==============================] - 6s 18ms/step - loss: 0.7124 - accuracy: 0.8254\n",
      "Epoch 69/100\n",
      "325/325 [==============================] - 5s 17ms/step - loss: 0.6827 - accuracy: 0.8457\n",
      "Epoch 70/100\n",
      "325/325 [==============================] - 6s 19ms/step - loss: 0.6522 - accuracy: 0.8542\n",
      "Epoch 71/100\n",
      "325/325 [==============================] - 7s 20ms/step - loss: 0.6882 - accuracy: 0.8359\n",
      "Epoch 72/100\n",
      "325/325 [==============================] - 6s 20ms/step - loss: 0.6442 - accuracy: 0.8720\n",
      "Epoch 73/100\n",
      "325/325 [==============================] - 6s 18ms/step - loss: 0.6535 - accuracy: 0.8566\n",
      "Epoch 74/100\n",
      "325/325 [==============================] - 6s 18ms/step - loss: 0.6451 - accuracy: 0.8654\n",
      "Epoch 75/100\n",
      "325/325 [==============================] - 6s 19ms/step - loss: 0.6437 - accuracy: 0.8542\n",
      "Epoch 76/100\n",
      "325/325 [==============================] - 6s 19ms/step - loss: 0.6223 - accuracy: 0.8777\n",
      "Epoch 77/100\n",
      "325/325 [==============================] - 6s 19ms/step - loss: 0.6187 - accuracy: 0.8802\n",
      "Epoch 78/100\n",
      "325/325 [==============================] - 5s 16ms/step - loss: 0.6212 - accuracy: 0.8698\n",
      "Epoch 79/100\n",
      "325/325 [==============================] - 6s 18ms/step - loss: 0.6004 - accuracy: 0.8774\n",
      "Epoch 80/100\n",
      "325/325 [==============================] - 10s 31ms/step - loss: 0.5762 - accuracy: 0.8916\n",
      "Epoch 81/100\n",
      "325/325 [==============================] - 6s 19ms/step - loss: 0.5848 - accuracy: 0.8856\n",
      "Epoch 82/100\n",
      "325/325 [==============================] - 5s 17ms/step - loss: 0.5771 - accuracy: 0.8903\n",
      "Epoch 83/100\n",
      "325/325 [==============================] - 6s 18ms/step - loss: 0.5797 - accuracy: 0.8796\n",
      "Epoch 84/100\n",
      "325/325 [==============================] - 7s 20ms/step - loss: 0.5672 - accuracy: 0.8939\n",
      "Epoch 85/100\n",
      "325/325 [==============================] - 6s 17ms/step - loss: 0.5580 - accuracy: 0.8884\n",
      "Epoch 86/100\n",
      "325/325 [==============================] - 6s 19ms/step - loss: 0.5358 - accuracy: 0.9229\n",
      "Epoch 87/100\n",
      "325/325 [==============================] - 6s 18ms/step - loss: 0.5559 - accuracy: 0.8991\n",
      "Epoch 88/100\n",
      "325/325 [==============================] - 6s 18ms/step - loss: 0.5414 - accuracy: 0.8935\n",
      "Epoch 89/100\n",
      "325/325 [==============================] - 5s 15ms/step - loss: 0.5151 - accuracy: 0.9174\n",
      "Epoch 90/100\n",
      "325/325 [==============================] - 6s 19ms/step - loss: 0.5130 - accuracy: 0.9118\n",
      "Epoch 91/100\n",
      "325/325 [==============================] - 6s 18ms/step - loss: 0.5242 - accuracy: 0.9092\n",
      "Epoch 92/100\n",
      "325/325 [==============================] - 6s 19ms/step - loss: 0.5308 - accuracy: 0.9008\n",
      "Epoch 93/100\n",
      "325/325 [==============================] - 5s 16ms/step - loss: 0.5067 - accuracy: 0.9107\n",
      "Epoch 94/100\n",
      "325/325 [==============================] - 6s 20ms/step - loss: 0.4917 - accuracy: 0.9259\n",
      "Epoch 95/100\n",
      "325/325 [==============================] - 6s 18ms/step - loss: 0.4868 - accuracy: 0.9126\n",
      "Epoch 96/100\n",
      "325/325 [==============================] - 6s 17ms/step - loss: 0.4941 - accuracy: 0.9104\n",
      "Epoch 97/100\n",
      "325/325 [==============================] - 6s 19ms/step - loss: 0.4801 - accuracy: 0.9227\n",
      "Epoch 98/100\n",
      "325/325 [==============================] - 6s 18ms/step - loss: 0.4733 - accuracy: 0.9215\n",
      "Epoch 99/100\n",
      "325/325 [==============================] - 7s 20ms/step - loss: 0.4561 - accuracy: 0.9358\n",
      "Epoch 100/100\n",
      "325/325 [==============================] - 6s 18ms/step - loss: 0.4602 - accuracy: 0.9341\n"
     ]
    }
   ],
   "source": [
    "history = model.fit(x_train, y_train,\n",
    "                    epochs=100, batch_size=8,\n",
    "                    #validation_data=(x_val, y_val),\n",
    "                    verbose=1)"
   ]
  },
  {
   "cell_type": "code",
   "execution_count": 9,
   "metadata": {
    "colab": {
     "base_uri": "https://localhost:8080/"
    },
    "executionInfo": {
     "elapsed": 748,
     "status": "ok",
     "timestamp": 1616619205172,
     "user": {
      "displayName": "Tariq Jamil",
      "photoUrl": "https://lh3.googleusercontent.com/a-/AOh14GgDTWFYRmAzAYPlKEXPBbLUin4uLOPxYf0jwdLNofE=s64",
      "userId": "14932491825632509938"
     },
     "user_tz": -300
    },
    "id": "XbaOnEpE7zOs",
    "outputId": "2711a9fd-7c9f-4707-d582-3e4c04d9b7c8"
   },
   "outputs": [
    {
     "data": {
      "text/plain": [
       "dict_keys(['loss', 'accuracy'])"
      ]
     },
     "execution_count": 9,
     "metadata": {},
     "output_type": "execute_result"
    }
   ],
   "source": [
    "history_dict=history.history\n",
    "history_dict.keys()"
   ]
  },
  {
   "cell_type": "code",
   "execution_count": 10,
   "metadata": {
    "colab": {
     "base_uri": "https://localhost:8080/",
     "height": 295
    },
    "executionInfo": {
     "elapsed": 1089,
     "status": "ok",
     "timestamp": 1616618762615,
     "user": {
      "displayName": "Tariq Jamil",
      "photoUrl": "https://lh3.googleusercontent.com/a-/AOh14GgDTWFYRmAzAYPlKEXPBbLUin4uLOPxYf0jwdLNofE=s64",
      "userId": "14932491825632509938"
     },
     "user_tz": -300
    },
    "id": "2BSBPe0-9YuM",
    "outputId": "06993946-833f-4460-c830-5520c3fc693c"
   },
   "outputs": [
    {
     "data": {
      "image/png": "[encoded data removed]",
      "text/plain": [
       "<Figure size 432x288 with 1 Axes>"
      ]
     },
     "metadata": {
      "needs_background": "light"
     },
     "output_type": "display_data"
    }
   ],
   "source": [
    "import matplotlib.pyplot as plt\n",
    "loss = history.history['loss']\n",
    "epochs = range(1, len(loss) + 1)\n",
    "plt.plot(epochs, loss, 'bo', label='Training loss')\n",
    "plt.title('Training and validation loss')\n",
    "plt.xlabel('Epochs')\n",
    "plt.ylabel('Loss')\n",
    "plt.legend()\n",
    "plt.show()"
   ]
  },
  {
   "cell_type": "code",
   "execution_count": 11,
   "metadata": {
    "colab": {
     "base_uri": "https://localhost:8080/",
     "height": 295
    },
    "executionInfo": {
     "elapsed": 986,
     "status": "ok",
     "timestamp": 1616619225341,
     "user": {
      "displayName": "Tariq Jamil",
      "photoUrl": "https://lh3.googleusercontent.com/a-/AOh14GgDTWFYRmAzAYPlKEXPBbLUin4uLOPxYf0jwdLNofE=s64",
      "userId": "14932491825632509938"
     },
     "user_tz": -300
    },
    "id": "a0CHQAwQY0_I",
    "outputId": "1968b917-c4dd-49ec-9e77-c4dd34f1da10"
   },
   "outputs": [
    {
     "data": {
      "image/png": "[encoded data removed]",
      "text/plain": [
       "<Figure size 432x288 with 1 Axes>"
      ]
     },
     "metadata": {
      "needs_background": "light"
     },
     "output_type": "display_data"
    }
   ],
   "source": [
    "plt.clf()\n",
    "acc = history.history['accuracy']\n",
    "plt.plot(epochs, acc, 'bo', label='Training acc')\n",
    "plt.title('Training and validation accuracy')\n",
    "plt.xlabel('Epochs')\n",
    "plt.ylabel('Accuracy')\n",
    "plt.legend()\n",
    "plt.show()"
   ]
  },
  {
   "cell_type": "code",
   "execution_count": 14,
   "metadata": {},
   "outputs": [
    {
     "name": "stdout",
     "output_type": "stream",
     "text": [
      "55/55 [==============================] - 1s 13ms/step - loss: 1.7778 - accuracy: 0.3023\n"
     ]
    },
    {
     "data": {
      "text/plain": [
       "1.7778005599975586"
      ]
     },
     "metadata": {},
     "output_type": "display_data"
    },
    {
     "data": {
      "text/plain": [
       "0.30231213569641113"
      ]
     },
     "metadata": {},
     "output_type": "display_data"
    }
   ],
   "source": [
    "# pridcting on test values\n",
    "\n",
    "test_loss_score, test_accuracy_score = model.evaluate(x_test, y_test)\n",
    "\n",
    "# display test loss\n",
    "display(test_loss_score)\n",
    "\n",
    "# display test predic \n",
    "display (test_accuracy_score)"
   ]
  },
  {
   "cell_type": "code",
   "execution_count": 13,
   "metadata": {},
   "outputs": [],
   "source": [
    "# The model Test Loss & accuracy could not match those of the training.\n",
    "# The convolutional layers are required to bring this overfitting down and that is out of scope of the syllabus till chapter 4. "
   ]
  },
  {
   "cell_type": "code",
   "execution_count": null,
   "metadata": {},
   "outputs": [],
   "source": []
  }
 ],
 "metadata": {
  "colab": {
   "name": "Flowers Recognition.ipynb",
   "provenance": []
  },
  "kernelspec": {
   "display_name": "Python 3",
   "language": "python",
   "name": "python3"
  },
  "language_info": {
   "codemirror_mode": {
    "name": "ipython",
    "version": 3
   },
   "file_extension": ".py",
   "mimetype": "text/x-python",
   "name": "python",
   "nbconvert_exporter": "python",
   "pygments_lexer": "ipython3",
   "version": "3.8.5"
  }
 },
 "nbformat": 4,
 "nbformat_minor": 4
}
