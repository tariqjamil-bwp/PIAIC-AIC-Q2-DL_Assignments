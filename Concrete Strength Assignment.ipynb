{
 "cells": [
  {
   "cell_type": "markdown",
   "metadata": {},
   "source": [
    "# Assignment: Compresive Strength Concrete Problem\n",
    "\n",
    "\n",
    "### Abstract: \n",
    "\n",
    "Concrete is the most important material in civil engineering. The concrete compressive strength (concrete strength to bear the load) is a highly nonlinear function of age and ingredients.  <br><br>\n",
    "\n",
    "<table border=\"1\"  cellpadding=\"6\" bordercolor=\"red\">\n",
    "\t<tbody>\n",
    "        <tr>\n",
    "\t\t<td bgcolor=\"#DDEEFF\"><p class=\"normal\"><b>Data Set Characteristics:&nbsp;&nbsp;</b></p></td>\n",
    "\t\t<td><p class=\"normal\">Multivariate</p></td>\n",
    "\t\t<td bgcolor=\"#DDEEFF\"><p class=\"normal\"><b>Number of Instances:</b></p></td>\n",
    "\t\t<td><p class=\"normal\">1030</p></td>\n",
    "\t\t<td bgcolor=\"#DDEEFF\"><p class=\"normal\"><b>Area:</b></p></td>\n",
    "\t\t<td><p class=\"normal\">Physical</p></td>\n",
    "        </tr>\n",
    "     </tbody>\n",
    "    </table>\n",
    "<table border=\"1\" cellpadding=\"6\">\n",
    "    <tbody>\n",
    "        <tr>\n",
    "            <td bgcolor=\"#DDEEFF\"><p class=\"normal\"><b>Attribute Characteristics:</b></p></td>\n",
    "            <td><p class=\"normal\">Real</p></td>\n",
    "            <td bgcolor=\"#DDEEFF\"><p class=\"normal\"><b>Number of Attributes:</b></p></td>\n",
    "            <td><p class=\"normal\">9</p></td>\n",
    "            <td bgcolor=\"#DDEEFF\"><p class=\"normal\"><b>Date Donated</b></p></td>\n",
    "            <td><p class=\"normal\">2007-08-03</p></td>\n",
    "        </tr>\n",
    "     </tbody>\n",
    "    </table>\n",
    "<table border=\"1\" cellpadding=\"6\">\t\n",
    "    <tbody>\n",
    "    <tr>\n",
    "\t\t<td bgcolor=\"#DDEEFF\"><p class=\"normal\"><b>Associated Tasks:</b></p></td>\n",
    "\t\t<td><p class=\"normal\">Regression</p></td>\n",
    "\t\t<td bgcolor=\"#DDEEFF\"><p class=\"normal\"><b>Missing Values?</b></p></td>\n",
    "\t\t<td><p class=\"normal\">N/A</p></td>\n",
    "\t\t<td bgcolor=\"#DDEEFF\"><p class=\"normal\"><b>Number of Web Hits:</b></p></td>\n",
    "\t\t<td><p class=\"normal\">231464</p></td>\n",
    "\t</tr>\n",
    "    </tbody>\n",
    "    </table>"
   ]
  },
  {
   "cell_type": "markdown",
   "metadata": {},
   "source": [
    "###  Description:\n",
    "| Features Name | Data Type | Measurement | Description |\n",
    "| -- | -- | -- | -- |\n",
    "Cement (component 1) | quantitative | kg in a m3 mixture | Input Variable\n",
    "Blast Furnace Slag (component 2) | quantitative | kg in a m3 mixture | Input Variable\n",
    "Fly Ash (component 3) | quantitative | kg in a m3 mixture | Input Variable\n",
    "Water (component 4) | quantitative | kg in a m3 mixture | Input Variable\n",
    "Superplasticizer (component 5) | quantitative | kg in a m3 mixture | Input Variable\n",
    "Coarse Aggregate (component 6) | quantitative | kg in a m3 mixture | Input Variable\n",
    "Fine Aggregate (component 7) | quantitative | kg in a m3 mixture | Input Variable\n",
    "Age | quantitative | Day (1~365) | Input Variable\n",
    "Concrete compressive strength | quantitative | MPa | Output Variable\n",
    "\n",
    "### WORKFLOW :\n",
    "- Load Data\n",
    "- Check Missing Values ( If Exist ; Fill each record with mean of its feature )\n",
    "- Standardized the Input Variables. **Hint**: Centeralized the data\n",
    "- Split into 50% Training(Samples,Labels) , 30% Test(Samples,Labels) and 20% Validation Data(Samples,Labels).\n",
    "- Model : input Layer (No. of features ), 3 hidden layers including 10,8,6 unit & Output Layer with activation function relu/tanh (check by experiment).\n",
    "- Compilation Step (Note : Its a Regression problem , select loss , metrics according to it)\n",
    "- Train the Model with Epochs (100) and validate it\n",
    "- If the model gets overfit tune your model by changing the units , No. of layers , activation function , epochs , add dropout layer or add Regularizer according to the need .\n",
    "- Evaluation Step\n",
    "- Prediction\n"
   ]
  },
  {
   "cell_type": "markdown",
   "metadata": {},
   "source": [
    "# Load Data:\n",
    "[Click Here to Download DataSet](https://github.com/ramsha275/ML_Datasets/blob/main/compresive_strength_concrete.csv)"
   ]
  },
  {
   "cell_type": "code",
   "execution_count": 1,
   "metadata": {},
   "outputs": [
    {
     "data": {
      "text/html": [
       "<div>\n",
       "<style scoped>\n",
       "    .dataframe tbody tr th:only-of-type {\n",
       "        vertical-align: middle;\n",
       "    }\n",
       "\n",
       "    .dataframe tbody tr th {\n",
       "        vertical-align: top;\n",
       "    }\n",
       "\n",
       "    .dataframe thead th {\n",
       "        text-align: right;\n",
       "    }\n",
       "</style>\n",
       "<table border=\"1\" class=\"dataframe\">\n",
       "  <thead>\n",
       "    <tr style=\"text-align: right;\">\n",
       "      <th></th>\n",
       "      <th>Cement (component 1)(kg in a m^3 mixture)</th>\n",
       "      <th>Blast Furnace Slag (component 2)(kg in a m^3 mixture)</th>\n",
       "      <th>Fly Ash (component 3)(kg in a m^3 mixture)</th>\n",
       "      <th>Water  (component 4)(kg in a m^3 mixture)</th>\n",
       "      <th>Superplasticizer (component 5)(kg in a m^3 mixture)</th>\n",
       "      <th>Coarse Aggregate  (component 6)(kg in a m^3 mixture)</th>\n",
       "      <th>Fine Aggregate (component 7)(kg in a m^3 mixture)</th>\n",
       "      <th>Age (day)</th>\n",
       "      <th>Concrete compressive strength(MPa, megapascals)</th>\n",
       "    </tr>\n",
       "  </thead>\n",
       "  <tbody>\n",
       "    <tr>\n",
       "      <th>552</th>\n",
       "      <td>158.8</td>\n",
       "      <td>238.2</td>\n",
       "      <td>0.0</td>\n",
       "      <td>185.7</td>\n",
       "      <td>0.0</td>\n",
       "      <td>1040.6</td>\n",
       "      <td>734.3</td>\n",
       "      <td>7</td>\n",
       "      <td>9.62</td>\n",
       "    </tr>\n",
       "    <tr>\n",
       "      <th>116</th>\n",
       "      <td>374.0</td>\n",
       "      <td>189.2</td>\n",
       "      <td>0.0</td>\n",
       "      <td>170.1</td>\n",
       "      <td>10.1</td>\n",
       "      <td>926.1</td>\n",
       "      <td>756.7</td>\n",
       "      <td>28</td>\n",
       "      <td>61.09</td>\n",
       "    </tr>\n",
       "    <tr>\n",
       "      <th>909</th>\n",
       "      <td>146.0</td>\n",
       "      <td>173.0</td>\n",
       "      <td>0.0</td>\n",
       "      <td>182.0</td>\n",
       "      <td>3.0</td>\n",
       "      <td>986.0</td>\n",
       "      <td>817.0</td>\n",
       "      <td>28</td>\n",
       "      <td>23.74</td>\n",
       "    </tr>\n",
       "    <tr>\n",
       "      <th>764</th>\n",
       "      <td>385.0</td>\n",
       "      <td>0.0</td>\n",
       "      <td>0.0</td>\n",
       "      <td>186.0</td>\n",
       "      <td>0.0</td>\n",
       "      <td>966.0</td>\n",
       "      <td>763.0</td>\n",
       "      <td>3</td>\n",
       "      <td>14.70</td>\n",
       "    </tr>\n",
       "    <tr>\n",
       "      <th>288</th>\n",
       "      <td>181.4</td>\n",
       "      <td>0.0</td>\n",
       "      <td>167.0</td>\n",
       "      <td>169.6</td>\n",
       "      <td>7.6</td>\n",
       "      <td>1055.6</td>\n",
       "      <td>777.8</td>\n",
       "      <td>100</td>\n",
       "      <td>45.37</td>\n",
       "    </tr>\n",
       "  </tbody>\n",
       "</table>\n",
       "</div>"
      ],
      "text/plain": [
       "     Cement (component 1)(kg in a m^3 mixture)  \\\n",
       "552                                      158.8   \n",
       "116                                      374.0   \n",
       "909                                      146.0   \n",
       "764                                      385.0   \n",
       "288                                      181.4   \n",
       "\n",
       "     Blast Furnace Slag (component 2)(kg in a m^3 mixture)  \\\n",
       "552                                              238.2       \n",
       "116                                              189.2       \n",
       "909                                              173.0       \n",
       "764                                                0.0       \n",
       "288                                                0.0       \n",
       "\n",
       "     Fly Ash (component 3)(kg in a m^3 mixture)  \\\n",
       "552                                         0.0   \n",
       "116                                         0.0   \n",
       "909                                         0.0   \n",
       "764                                         0.0   \n",
       "288                                       167.0   \n",
       "\n",
       "     Water  (component 4)(kg in a m^3 mixture)  \\\n",
       "552                                      185.7   \n",
       "116                                      170.1   \n",
       "909                                      182.0   \n",
       "764                                      186.0   \n",
       "288                                      169.6   \n",
       "\n",
       "     Superplasticizer (component 5)(kg in a m^3 mixture)  \\\n",
       "552                                                0.0     \n",
       "116                                               10.1     \n",
       "909                                                3.0     \n",
       "764                                                0.0     \n",
       "288                                                7.6     \n",
       "\n",
       "     Coarse Aggregate  (component 6)(kg in a m^3 mixture)  \\\n",
       "552                                             1040.6      \n",
       "116                                              926.1      \n",
       "909                                              986.0      \n",
       "764                                              966.0      \n",
       "288                                             1055.6      \n",
       "\n",
       "     Fine Aggregate (component 7)(kg in a m^3 mixture)  Age (day)  \\\n",
       "552                                              734.3          7   \n",
       "116                                              756.7         28   \n",
       "909                                              817.0         28   \n",
       "764                                              763.0          3   \n",
       "288                                              777.8        100   \n",
       "\n",
       "     Concrete compressive strength(MPa, megapascals)   \n",
       "552                                              9.62  \n",
       "116                                             61.09  \n",
       "909                                             23.74  \n",
       "764                                             14.70  \n",
       "288                                             45.37  "
      ]
     },
     "execution_count": 1,
     "metadata": {},
     "output_type": "execute_result"
    }
   ],
   "source": [
    "import pandas as pd\n",
    "import numpy as np\n",
    "\n",
    "#loading data direct fron github repositary\n",
    "url = 'https://raw.githubusercontent.com/ramsha275/ML_Datasets/main/compresive_strength_concrete.csv'\n",
    "df = pd.read_csv(url, header=0)\n",
    "\n",
    "# randomizing\n",
    "data = df.sample(frac=1)\n",
    "\n",
    "data.head(5)"
   ]
  },
  {
   "cell_type": "code",
   "execution_count": 2,
   "metadata": {
    "executionInfo": {
     "elapsed": 1631,
     "status": "aborted",
     "timestamp": 1617089068002,
     "user": {
      "displayName": "Tariq Jamil",
      "photoUrl": "https://lh3.googleusercontent.com/a-/AOh14GgDTWFYRmAzAYPlKEXPBbLUin4uLOPxYf0jwdLNofE=s64",
      "userId": "14932491825632509938"
     },
     "user_tz": -300
    },
    "id": "3TEXwuWh2DJZ"
   },
   "outputs": [
    {
     "name": "stdout",
     "output_type": "stream",
     "text": [
      "<class 'pandas.core.frame.DataFrame'>\n",
      "Int64Index: 1030 entries, 552 to 733\n",
      "Data columns (total 9 columns):\n",
      " #   Column                                                 Non-Null Count  Dtype  \n",
      "---  ------                                                 --------------  -----  \n",
      " 0   Cement (component 1)(kg in a m^3 mixture)              1030 non-null   float64\n",
      " 1   Blast Furnace Slag (component 2)(kg in a m^3 mixture)  1030 non-null   float64\n",
      " 2   Fly Ash (component 3)(kg in a m^3 mixture)             1030 non-null   float64\n",
      " 3   Water  (component 4)(kg in a m^3 mixture)              1030 non-null   float64\n",
      " 4   Superplasticizer (component 5)(kg in a m^3 mixture)    1030 non-null   float64\n",
      " 5   Coarse Aggregate  (component 6)(kg in a m^3 mixture)   1030 non-null   float64\n",
      " 6   Fine Aggregate (component 7)(kg in a m^3 mixture)      1030 non-null   float64\n",
      " 7   Age (day)                                              1030 non-null   int64  \n",
      " 8   Concrete compressive strength(MPa, megapascals)        1030 non-null   float64\n",
      "dtypes: float64(8), int64(1)\n",
      "memory usage: 80.5 KB\n"
     ]
    }
   ],
   "source": [
    "data.info()\n",
    "# checked for NULL value, there is no null value.\n",
    "\n",
    "\n",
    "#ndata = data.select_dtypes('number')# selecting only numbered columns\n",
    "#for i in ndata.columns[ndata.isnull().any(axis=0)]:     #-Applying Only on variables with NaN values\n",
    "#    ndata[i].fillna(ndata[i].mean(),inplace=True)       # although there is no NaN value, but generalizing"
   ]
  },
  {
   "cell_type": "code",
   "execution_count": 3,
   "metadata": {
    "colab": {
     "base_uri": "https://localhost:8080/"
    },
    "executionInfo": {
     "elapsed": 11276,
     "status": "ok",
     "timestamp": 1616675165301,
     "user": {
      "displayName": "Tariq Jamil",
      "photoUrl": "https://lh3.googleusercontent.com/a-/AOh14GgDTWFYRmAzAYPlKEXPBbLUin4uLOPxYf0jwdLNofE=s64",
      "userId": "14932491825632509938"
     },
     "user_tz": -300
    },
    "id": "89N4c-Fg7zOh",
    "outputId": "19319b14-ccdf-464d-c092-dbb11e44b023"
   },
   "outputs": [],
   "source": [
    "norm_data=(data-data.min())/(data.max()-data.min())\n",
    "\n",
    "x=norm_data.iloc[:,:8]\n",
    "y=norm_data.iloc[:,8:]"
   ]
  },
  {
   "cell_type": "code",
   "execution_count": 4,
   "metadata": {
    "executionInfo": {
     "elapsed": 1616,
     "status": "aborted",
     "timestamp": 1617089068011,
     "user": {
      "displayName": "Tariq Jamil",
      "photoUrl": "https://lh3.googleusercontent.com/a-/AOh14GgDTWFYRmAzAYPlKEXPBbLUin4uLOPxYf0jwdLNofE=s64",
      "userId": "14932491825632509938"
     },
     "user_tz": -300
    },
    "id": "QCVbB_672DJd"
   },
   "outputs": [],
   "source": [
    "from sklearn.model_selection import train_test_split\n",
    "\n",
    "# Defines ratios, w.r.t. whole dataset.\n",
    "ratio_train = 0.5  # 50%\n",
    "ratio_test  = 0.3  # 30%\n",
    "ratio_val   = 0.2  # 20%\n",
    "# Produces 30% test split.\n",
    "x_remaining, x_test, y_remaining, y_test = train_test_split(x, y, test_size=ratio_test, random_state=42)\n",
    "\n",
    "# Adjusts val ratio, w.r.t. remaining dataset \n",
    "ratio_remaining = 1 - ratio_test   # (70% left).\n",
    "ratio_val_adjusted = ratio_val / ratio_remaining  # 20% of 70%\n",
    "\n",
    "# Produces train and val splits.\n",
    "x_train, x_val, y_train, y_val = train_test_split(\n",
    "    x_remaining, y_remaining, test_size=ratio_val_adjusted)"
   ]
  },
  {
   "cell_type": "code",
   "execution_count": 5,
   "metadata": {
    "executionInfo": {
     "elapsed": 14206,
     "status": "ok",
     "timestamp": 1616675168281,
     "user": {
      "displayName": "Tariq Jamil",
      "photoUrl": "https://lh3.googleusercontent.com/a-/AOh14GgDTWFYRmAzAYPlKEXPBbLUin4uLOPxYf0jwdLNofE=s64",
      "userId": "14932491825632509938"
     },
     "user_tz": -300
    },
    "id": "s6Q0t3OA7zOo"
   },
   "outputs": [],
   "source": [
    "from keras import models\n",
    "from keras import layers\n",
    "\n",
    "model=models.Sequential()\n",
    "model.add(layers.Dense(8, activation='relu', input_shape=(x_train.shape[1],)))\n",
    "model.add(layers.Dense(10, activation='relu'))\n",
    "model.add(layers.Dense(8, activation='relu'))\n",
    "model.add(layers.Dense(6, activation='relu'))\n",
    "model.add(layers.Dense(1, activation='sigmoid'))"
   ]
  },
  {
   "cell_type": "code",
   "execution_count": 6,
   "metadata": {
    "executionInfo": {
     "elapsed": 14204,
     "status": "ok",
     "timestamp": 1616675168283,
     "user": {
      "displayName": "Tariq Jamil",
      "photoUrl": "https://lh3.googleusercontent.com/a-/AOh14GgDTWFYRmAzAYPlKEXPBbLUin4uLOPxYf0jwdLNofE=s64",
      "userId": "14932491825632509938"
     },
     "user_tz": -300
    },
    "id": "cDkTCRbw7zOp"
   },
   "outputs": [],
   "source": [
    "from keras import optimizers\n",
    "from keras import losses\n",
    "from keras import metrics\n",
    "\n",
    "model.compile(optimizer='rmsprop',\n",
    "             loss='binary_crossentropy',\n",
    "             metrics='accuracy')"
   ]
  },
  {
   "cell_type": "code",
   "execution_count": 7,
   "metadata": {
    "colab": {
     "base_uri": "https://localhost:8080/"
    },
    "executionInfo": {
     "elapsed": 29637,
     "status": "ok",
     "timestamp": 1616675183734,
     "user": {
      "displayName": "Tariq Jamil",
      "photoUrl": "https://lh3.googleusercontent.com/a-/AOh14GgDTWFYRmAzAYPlKEXPBbLUin4uLOPxYf0jwdLNofE=s64",
      "userId": "14932491825632509938"
     },
     "user_tz": -300
    },
    "id": "g-G5kMoF7zOr",
    "outputId": "db91c041-71d5-483d-c1f3-64e3ca3c6453"
   },
   "outputs": [
    {
     "name": "stdout",
     "output_type": "stream",
     "text": [
      "Epoch 1/40\n",
      "514/514 [==============================] - 5s 7ms/step - loss: 0.6832 - accuracy: 0.0000e+00 - val_loss: 0.6626 - val_accuracy: 0.0000e+00\n",
      "Epoch 2/40\n",
      "514/514 [==============================] - 2s 4ms/step - loss: 0.6443 - accuracy: 5.7437e-04 - val_loss: 0.6399 - val_accuracy: 0.0000e+00\n",
      "Epoch 3/40\n",
      "514/514 [==============================] - 2s 4ms/step - loss: 0.6300 - accuracy: 8.6906e-04 - val_loss: 0.6357 - val_accuracy: 0.0000e+00\n",
      "Epoch 4/40\n",
      "514/514 [==============================] - 3s 6ms/step - loss: 0.6230 - accuracy: 0.0011 - val_loss: 0.6334 - val_accuracy: 0.0000e+00\n",
      "Epoch 5/40\n",
      "514/514 [==============================] - 3s 6ms/step - loss: 0.6154 - accuracy: 5.9473e-04 - val_loss: 0.6340 - val_accuracy: 0.0000e+00\n",
      "Epoch 6/40\n",
      "514/514 [==============================] - 3s 5ms/step - loss: 0.6148 - accuracy: 0.0019 - val_loss: 0.6313 - val_accuracy: 0.0000e+00\n",
      "Epoch 7/40\n",
      "514/514 [==============================] - 3s 7ms/step - loss: 0.6049 - accuracy: 0.0015 - val_loss: 0.6319 - val_accuracy: 0.0000e+00\n",
      "Epoch 8/40\n",
      "514/514 [==============================] - 3s 6ms/step - loss: 0.6148 - accuracy: 0.0012 - val_loss: 0.6281 - val_accuracy: 0.0000e+00\n",
      "Epoch 9/40\n",
      "514/514 [==============================] - 3s 5ms/step - loss: 0.6144 - accuracy: 9.1075e-04 - val_loss: 0.6258 - val_accuracy: 0.0000e+00\n",
      "Epoch 10/40\n",
      "514/514 [==============================] - 2s 4ms/step - loss: 0.6187 - accuracy: 2.5741e-04 - val_loss: 0.6250 - val_accuracy: 0.0000e+00\n",
      "Epoch 11/40\n",
      "514/514 [==============================] - 2s 4ms/step - loss: 0.6122 - accuracy: 4.7085e-04 - val_loss: 0.6254 - val_accuracy: 0.0000e+00\n",
      "Epoch 12/40\n",
      "514/514 [==============================] - 3s 6ms/step - loss: 0.6070 - accuracy: 6.5712e-04 - val_loss: 0.6260 - val_accuracy: 0.0000e+00\n",
      "Epoch 13/40\n",
      "514/514 [==============================] - 3s 5ms/step - loss: 0.6138 - accuracy: 0.0040 - val_loss: 0.6213 - val_accuracy: 0.0000e+00\n",
      "Epoch 14/40\n",
      "514/514 [==============================] - 3s 6ms/step - loss: 0.5996 - accuracy: 0.0018 - val_loss: 0.6200 - val_accuracy: 0.0000e+00\n",
      "Epoch 15/40\n",
      "514/514 [==============================] - 3s 6ms/step - loss: 0.5992 - accuracy: 0.0011 - val_loss: 0.6204 - val_accuracy: 0.0000e+00\n",
      "Epoch 16/40\n",
      "514/514 [==============================] - 2s 5ms/step - loss: 0.6001 - accuracy: 0.0019 - val_loss: 0.6186 - val_accuracy: 0.0000e+00\n",
      "Epoch 17/40\n",
      "514/514 [==============================] - 2s 4ms/step - loss: 0.6116 - accuracy: 5.5924e-04 - val_loss: 0.6197 - val_accuracy: 0.0000e+00\n",
      "Epoch 18/40\n",
      "514/514 [==============================] - 3s 6ms/step - loss: 0.6082 - accuracy: 0.0018 - val_loss: 0.6190 - val_accuracy: 0.0000e+00\n",
      "Epoch 19/40\n",
      "514/514 [==============================] - 3s 6ms/step - loss: 0.6034 - accuracy: 0.0010 - val_loss: 0.6182 - val_accuracy: 0.0000e+00\n",
      "Epoch 20/40\n",
      "514/514 [==============================] - 3s 6ms/step - loss: 0.6047 - accuracy: 0.0028 - val_loss: 0.6192 - val_accuracy: 0.0000e+00\n",
      "Epoch 21/40\n",
      "514/514 [==============================] - 3s 6ms/step - loss: 0.5979 - accuracy: 0.0041 - val_loss: 0.6174 - val_accuracy: 0.0000e+00\n",
      "Epoch 22/40\n",
      "514/514 [==============================] - 3s 6ms/step - loss: 0.6012 - accuracy: 7.6578e-04 - val_loss: 0.6176 - val_accuracy: 0.0000e+00\n",
      "Epoch 23/40\n",
      "514/514 [==============================] - 3s 6ms/step - loss: 0.5982 - accuracy: 4.5742e-05 - val_loss: 0.6172 - val_accuracy: 0.0000e+00\n",
      "Epoch 24/40\n",
      "514/514 [==============================] - 3s 5ms/step - loss: 0.5982 - accuracy: 0.0035 - val_loss: 0.6188 - val_accuracy: 0.0000e+00\n",
      "Epoch 25/40\n",
      "514/514 [==============================] - 3s 6ms/step - loss: 0.5932 - accuracy: 0.0016 - val_loss: 0.6202 - val_accuracy: 0.0000e+00\n",
      "Epoch 26/40\n",
      "514/514 [==============================] - 2s 4ms/step - loss: 0.5957 - accuracy: 4.6606e-04 - val_loss: 0.6200 - val_accuracy: 0.0000e+00\n",
      "Epoch 27/40\n",
      "514/514 [==============================] - 3s 6ms/step - loss: 0.5892 - accuracy: 4.4226e-04 - val_loss: 0.6235 - val_accuracy: 0.0000e+00\n",
      "Epoch 28/40\n",
      "514/514 [==============================] - 3s 6ms/step - loss: 0.6018 - accuracy: 9.4722e-04 - val_loss: 0.6174 - val_accuracy: 0.0000e+00\n",
      "Epoch 29/40\n",
      "514/514 [==============================] - 3s 6ms/step - loss: 0.6013 - accuracy: 3.7257e-04 - val_loss: 0.6171 - val_accuracy: 0.0000e+00\n",
      "Epoch 30/40\n",
      "514/514 [==============================] - 2s 3ms/step - loss: 0.6043 - accuracy: 4.0015e-04 - val_loss: 0.6205 - val_accuracy: 0.0000e+00\n",
      "Epoch 31/40\n",
      "514/514 [==============================] - 3s 6ms/step - loss: 0.6036 - accuracy: 0.0036 - val_loss: 0.6178 - val_accuracy: 0.0000e+00\n",
      "Epoch 32/40\n",
      "514/514 [==============================] - 3s 7ms/step - loss: 0.5975 - accuracy: 0.0041 - val_loss: 0.6173 - val_accuracy: 0.0000e+00\n",
      "Epoch 33/40\n",
      "514/514 [==============================] - 3s 7ms/step - loss: 0.5949 - accuracy: 2.1908e-04 - val_loss: 0.6166 - val_accuracy: 0.0000e+00\n",
      "Epoch 34/40\n",
      "514/514 [==============================] - 3s 5ms/step - loss: 0.5974 - accuracy: 0.0038 - val_loss: 0.6210 - val_accuracy: 0.0000e+00\n",
      "Epoch 35/40\n",
      "514/514 [==============================] - 3s 6ms/step - loss: 0.5950 - accuracy: 5.2439e-04 - val_loss: 0.6170 - val_accuracy: 0.0000e+00\n",
      "Epoch 36/40\n",
      "514/514 [==============================] - 3s 6ms/step - loss: 0.6035 - accuracy: 1.4058e-04 - val_loss: 0.6168 - val_accuracy: 0.0000e+00\n",
      "Epoch 37/40\n",
      "514/514 [==============================] - 3s 6ms/step - loss: 0.6053 - accuracy: 0.0060 - val_loss: 0.6188 - val_accuracy: 0.0000e+00\n",
      "Epoch 38/40\n",
      "514/514 [==============================] - 3s 6ms/step - loss: 0.6032 - accuracy: 5.3471e-05 - val_loss: 0.6199 - val_accuracy: 0.0000e+00\n",
      "Epoch 39/40\n",
      "514/514 [==============================] - 2s 4ms/step - loss: 0.6001 - accuracy: 0.0014 - val_loss: 0.6171 - val_accuracy: 0.0000e+00\n",
      "Epoch 40/40\n",
      "514/514 [==============================] - 3s 6ms/step - loss: 0.6020 - accuracy: 2.9651e-04 - val_loss: 0.6184 - val_accuracy: 0.0000e+00\n"
     ]
    }
   ],
   "source": [
    "history = model.fit(x_train,\n",
    "                    y_train,\n",
    "                    epochs=40,\n",
    "                    batch_size=1,\n",
    "                    validation_data=(x_val, y_val))"
   ]
  },
  {
   "cell_type": "code",
   "execution_count": 8,
   "metadata": {
    "colab": {
     "base_uri": "https://localhost:8080/"
    },
    "executionInfo": {
     "elapsed": 29625,
     "status": "ok",
     "timestamp": 1616675183734,
     "user": {
      "displayName": "Tariq Jamil",
      "photoUrl": "https://lh3.googleusercontent.com/a-/AOh14GgDTWFYRmAzAYPlKEXPBbLUin4uLOPxYf0jwdLNofE=s64",
      "userId": "14932491825632509938"
     },
     "user_tz": -300
    },
    "id": "XbaOnEpE7zOs",
    "outputId": "9886f7fc-33bf-4d78-f2f2-c6435d1e5b54"
   },
   "outputs": [
    {
     "data": {
      "text/plain": [
       "dict_keys(['loss', 'accuracy', 'val_loss', 'val_accuracy'])"
      ]
     },
     "execution_count": 8,
     "metadata": {},
     "output_type": "execute_result"
    }
   ],
   "source": [
    "history_dict=history.history\n",
    "history_dict.keys()"
   ]
  },
  {
   "cell_type": "code",
   "execution_count": 9,
   "metadata": {
    "colab": {
     "base_uri": "https://localhost:8080/",
     "height": 295
    },
    "executionInfo": {
     "elapsed": 30748,
     "status": "ok",
     "timestamp": 1616675184864,
     "user": {
      "displayName": "Tariq Jamil",
      "photoUrl": "https://lh3.googleusercontent.com/a-/AOh14GgDTWFYRmAzAYPlKEXPBbLUin4uLOPxYf0jwdLNofE=s64",
      "userId": "14932491825632509938"
     },
     "user_tz": -300
    },
    "id": "2BSBPe0-9YuM",
    "outputId": "00db4370-e274-4616-f9d2-c19ffc068d83"
   },
   "outputs": [
    {
     "data": {
      "image/png": "[encoded data removed]",
      "text/plain": [
       "<Figure size 432x288 with 1 Axes>"
      ]
     },
     "metadata": {
      "needs_background": "light"
     },
     "output_type": "display_data"
    }
   ],
   "source": [
    "import matplotlib.pyplot as plt\n",
    "\n",
    "history_dict=history.history\n",
    "loss_value = history_dict['loss']\n",
    "val_loss_value=history_dict['val_loss']\n",
    "acc=history_dict['accuracy']   # missing in the book\n",
    "val_acc=history_dict['val_accuracy']\n",
    "\n",
    "epochs = np.arange(1, len(acc)+1)\n",
    "\n",
    "plt.plot(epochs, loss_value, 'bo', label='Training loss')\n",
    "plt.plot(epochs, val_loss_value, 'b', label='Validation loss')\n",
    "\n",
    "plt.title('Training & Validation Loss')\n",
    "plt.xlabel('Epochs')\n",
    "plt.ylabel('Loss')\n",
    "plt.legend()\n",
    "\n",
    "plt.show()"
   ]
  },
  {
   "cell_type": "code",
   "execution_count": 10,
   "metadata": {
    "colab": {
     "base_uri": "https://localhost:8080/",
     "height": 295
    },
    "executionInfo": {
     "elapsed": 30737,
     "status": "ok",
     "timestamp": 1616675184865,
     "user": {
      "displayName": "Tariq Jamil",
      "photoUrl": "https://lh3.googleusercontent.com/a-/AOh14GgDTWFYRmAzAYPlKEXPBbLUin4uLOPxYf0jwdLNofE=s64",
      "userId": "14932491825632509938"
     },
     "user_tz": -300
    },
    "id": "a0CHQAwQY0_I",
    "outputId": "b94ab7ca-46d2-42b1-dfef-96e10f5a54d6"
   },
   "outputs": [
    {
     "data": {
      "image/png": "[encoded data removed]",
      "text/plain": [
       "<Figure size 432x288 with 1 Axes>"
      ]
     },
     "metadata": {
      "needs_background": "light"
     },
     "output_type": "display_data"
    }
   ],
   "source": [
    "plt.plot(epochs, acc, 'bo', label='Training Accuracy')\n",
    "plt.plot(epochs, val_acc, 'b', label='Validation Accuracy')\n",
    "plt.title('Training & Validation Accuracy')\n",
    "plt.xlabel('Epochs')\n",
    "plt.ylabel('Accuracy')\n",
    "plt.legend()\n",
    "plt.show()"
   ]
  },
  {
   "cell_type": "code",
   "execution_count": 11,
   "metadata": {},
   "outputs": [
    {
     "name": "stdout",
     "output_type": "stream",
     "text": [
      "10/10 [==============================] - 0s 9ms/step - loss: 0.5957 - accuracy: 0.0032\n"
     ]
    },
    {
     "data": {
      "text/plain": [
       "0.5956814289093018"
      ]
     },
     "metadata": {},
     "output_type": "display_data"
    },
    {
     "data": {
      "text/plain": [
       "0.0032362460624426603"
      ]
     },
     "metadata": {},
     "output_type": "display_data"
    }
   ],
   "source": [
    "test_mse_score, test_mae_score = model.evaluate(x_test, y_test)\n",
    "\n",
    "display(test_mse_score, test_mae_score)"
   ]
  },
  {
   "cell_type": "code",
   "execution_count": 12,
   "metadata": {},
   "outputs": [],
   "source": [
    "# The loss & accuracy graph are not coming out to be proper.\n",
    "# I will see the source of error after the submission of the assignment."
   ]
  }
 ],
 "metadata": {
  "kernelspec": {
   "display_name": "Python 3",
   "language": "python",
   "name": "python3"
  },
  "language_info": {
   "codemirror_mode": {
    "name": "ipython",
    "version": 3
   },
   "file_extension": ".py",
   "mimetype": "text/x-python",
   "name": "python",
   "nbconvert_exporter": "python",
   "pygments_lexer": "ipython3",
   "version": "3.8.5"
  }
 },
 "nbformat": 4,
 "nbformat_minor": 4
}
