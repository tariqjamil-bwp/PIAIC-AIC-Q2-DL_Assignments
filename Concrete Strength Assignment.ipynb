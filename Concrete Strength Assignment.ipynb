{
 "cells": [
  {
   "cell_type": "markdown",
   "metadata": {},
   "source": [
    "# Assignment: Compresive Strength Concrete Problem\n",
    "\n",
    "\n",
    "### Abstract: \n",
    "\n",
    "Concrete is the most important material in civil engineering. The concrete compressive strength (concrete strength to bear the load) is a highly nonlinear function of age and ingredients.  <br><br>\n",
    "\n",
    "<table border=\"1\"  cellpadding=\"6\" bordercolor=\"red\">\n",
    "\t<tbody>\n",
    "        <tr>\n",
    "\t\t<td bgcolor=\"#DDEEFF\"><p class=\"normal\"><b>Data Set Characteristics:&nbsp;&nbsp;</b></p></td>\n",
    "\t\t<td><p class=\"normal\">Multivariate</p></td>\n",
    "\t\t<td bgcolor=\"#DDEEFF\"><p class=\"normal\"><b>Number of Instances:</b></p></td>\n",
    "\t\t<td><p class=\"normal\">1030</p></td>\n",
    "\t\t<td bgcolor=\"#DDEEFF\"><p class=\"normal\"><b>Area:</b></p></td>\n",
    "\t\t<td><p class=\"normal\">Physical</p></td>\n",
    "        </tr>\n",
    "     </tbody>\n",
    "    </table>\n",
    "<table border=\"1\" cellpadding=\"6\">\n",
    "    <tbody>\n",
    "        <tr>\n",
    "            <td bgcolor=\"#DDEEFF\"><p class=\"normal\"><b>Attribute Characteristics:</b></p></td>\n",
    "            <td><p class=\"normal\">Real</p></td>\n",
    "            <td bgcolor=\"#DDEEFF\"><p class=\"normal\"><b>Number of Attributes:</b></p></td>\n",
    "            <td><p class=\"normal\">9</p></td>\n",
    "            <td bgcolor=\"#DDEEFF\"><p class=\"normal\"><b>Date Donated</b></p></td>\n",
    "            <td><p class=\"normal\">2007-08-03</p></td>\n",
    "        </tr>\n",
    "     </tbody>\n",
    "    </table>\n",
    "<table border=\"1\" cellpadding=\"6\">\t\n",
    "    <tbody>\n",
    "    <tr>\n",
    "\t\t<td bgcolor=\"#DDEEFF\"><p class=\"normal\"><b>Associated Tasks:</b></p></td>\n",
    "\t\t<td><p class=\"normal\">Regression</p></td>\n",
    "\t\t<td bgcolor=\"#DDEEFF\"><p class=\"normal\"><b>Missing Values?</b></p></td>\n",
    "\t\t<td><p class=\"normal\">N/A</p></td>\n",
    "\t\t<td bgcolor=\"#DDEEFF\"><p class=\"normal\"><b>Number of Web Hits:</b></p></td>\n",
    "\t\t<td><p class=\"normal\">231464</p></td>\n",
    "\t</tr>\n",
    "    </tbody>\n",
    "    </table>"
   ]
  },
  {
   "cell_type": "markdown",
   "metadata": {},
   "source": [
    "###  Description:\n",
    "| Features Name | Data Type | Measurement | Description |\n",
    "| -- | -- | -- | -- |\n",
    "Cement (component 1) | quantitative | kg in a m3 mixture | Input Variable\n",
    "Blast Furnace Slag (component 2) | quantitative | kg in a m3 mixture | Input Variable\n",
    "Fly Ash (component 3) | quantitative | kg in a m3 mixture | Input Variable\n",
    "Water (component 4) | quantitative | kg in a m3 mixture | Input Variable\n",
    "Superplasticizer (component 5) | quantitative | kg in a m3 mixture | Input Variable\n",
    "Coarse Aggregate (component 6) | quantitative | kg in a m3 mixture | Input Variable\n",
    "Fine Aggregate (component 7) | quantitative | kg in a m3 mixture | Input Variable\n",
    "Age | quantitative | Day (1~365) | Input Variable\n",
    "Concrete compressive strength | quantitative | MPa | Output Variable\n",
    "\n",
    "### WORKFLOW :\n",
    "- Load Data\n",
    "- Check Missing Values ( If Exist ; Fill each record with mean of its feature )\n",
    "- Standardized the Input Variables. **Hint**: Centeralized the data\n",
    "- Split into 50% Training(Samples,Labels) , 30% Test(Samples,Labels) and 20% Validation Data(Samples,Labels).\n",
    "- Model : input Layer (No. of features ), 3 hidden layers including 10,8,6 unit & Output Layer with activation function relu/tanh (check by experiment).\n",
    "- Compilation Step (Note : Its a Regression problem , select loss , metrics according to it)\n",
    "- Train the Model with Epochs (100) and validate it\n",
    "- If the model gets overfit tune your model by changing the units , No. of layers , activation function , epochs , add dropout layer or add Regularizer according to the need .\n",
    "- Evaluation Step\n",
    "- Prediction\n"
   ]
  },
  {
   "cell_type": "markdown",
   "metadata": {},
   "source": [
    "# Load Data:\n",
    "[Click Here to Download DataSet](https://github.com/ramsha275/ML_Datasets/blob/main/compresive_strength_concrete.csv)"
   ]
  },
  {
   "cell_type": "code",
   "execution_count": 1,
   "metadata": {},
   "outputs": [
    {
     "data": {
      "text/html": [
       "<div>\n",
       "<style scoped>\n",
       "    .dataframe tbody tr th:only-of-type {\n",
       "        vertical-align: middle;\n",
       "    }\n",
       "\n",
       "    .dataframe tbody tr th {\n",
       "        vertical-align: top;\n",
       "    }\n",
       "\n",
       "    .dataframe thead th {\n",
       "        text-align: right;\n",
       "    }\n",
       "</style>\n",
       "<table border=\"1\" class=\"dataframe\">\n",
       "  <thead>\n",
       "    <tr style=\"text-align: right;\">\n",
       "      <th></th>\n",
       "      <th>Cement (component 1)(kg in a m^3 mixture)</th>\n",
       "      <th>Blast Furnace Slag (component 2)(kg in a m^3 mixture)</th>\n",
       "      <th>Fly Ash (component 3)(kg in a m^3 mixture)</th>\n",
       "      <th>Water  (component 4)(kg in a m^3 mixture)</th>\n",
       "      <th>Superplasticizer (component 5)(kg in a m^3 mixture)</th>\n",
       "      <th>Coarse Aggregate  (component 6)(kg in a m^3 mixture)</th>\n",
       "      <th>Fine Aggregate (component 7)(kg in a m^3 mixture)</th>\n",
       "      <th>Age (day)</th>\n",
       "      <th>Concrete compressive strength(MPa, megapascals)</th>\n",
       "    </tr>\n",
       "  </thead>\n",
       "  <tbody>\n",
       "    <tr>\n",
       "      <th>332</th>\n",
       "      <td>246.8</td>\n",
       "      <td>0.0</td>\n",
       "      <td>125.1</td>\n",
       "      <td>143.3</td>\n",
       "      <td>12.0</td>\n",
       "      <td>1086.8</td>\n",
       "      <td>800.9</td>\n",
       "      <td>56</td>\n",
       "      <td>60.32</td>\n",
       "    </tr>\n",
       "    <tr>\n",
       "      <th>76</th>\n",
       "      <td>469.0</td>\n",
       "      <td>117.2</td>\n",
       "      <td>0.0</td>\n",
       "      <td>137.8</td>\n",
       "      <td>32.2</td>\n",
       "      <td>852.1</td>\n",
       "      <td>840.5</td>\n",
       "      <td>3</td>\n",
       "      <td>40.20</td>\n",
       "    </tr>\n",
       "    <tr>\n",
       "      <th>590</th>\n",
       "      <td>238.1</td>\n",
       "      <td>0.0</td>\n",
       "      <td>0.0</td>\n",
       "      <td>185.7</td>\n",
       "      <td>0.0</td>\n",
       "      <td>1118.8</td>\n",
       "      <td>789.3</td>\n",
       "      <td>7</td>\n",
       "      <td>10.34</td>\n",
       "    </tr>\n",
       "    <tr>\n",
       "      <th>572</th>\n",
       "      <td>220.8</td>\n",
       "      <td>147.2</td>\n",
       "      <td>0.0</td>\n",
       "      <td>185.7</td>\n",
       "      <td>0.0</td>\n",
       "      <td>1055.0</td>\n",
       "      <td>744.3</td>\n",
       "      <td>7</td>\n",
       "      <td>13.09</td>\n",
       "    </tr>\n",
       "    <tr>\n",
       "      <th>105</th>\n",
       "      <td>401.8</td>\n",
       "      <td>94.7</td>\n",
       "      <td>0.0</td>\n",
       "      <td>147.4</td>\n",
       "      <td>11.4</td>\n",
       "      <td>946.8</td>\n",
       "      <td>852.1</td>\n",
       "      <td>7</td>\n",
       "      <td>54.10</td>\n",
       "    </tr>\n",
       "  </tbody>\n",
       "</table>\n",
       "</div>"
      ],
      "text/plain": [
       "     Cement (component 1)(kg in a m^3 mixture)  \\\n",
       "332                                      246.8   \n",
       "76                                       469.0   \n",
       "590                                      238.1   \n",
       "572                                      220.8   \n",
       "105                                      401.8   \n",
       "\n",
       "     Blast Furnace Slag (component 2)(kg in a m^3 mixture)  \\\n",
       "332                                                0.0       \n",
       "76                                               117.2       \n",
       "590                                                0.0       \n",
       "572                                              147.2       \n",
       "105                                               94.7       \n",
       "\n",
       "     Fly Ash (component 3)(kg in a m^3 mixture)  \\\n",
       "332                                       125.1   \n",
       "76                                          0.0   \n",
       "590                                         0.0   \n",
       "572                                         0.0   \n",
       "105                                         0.0   \n",
       "\n",
       "     Water  (component 4)(kg in a m^3 mixture)  \\\n",
       "332                                      143.3   \n",
       "76                                       137.8   \n",
       "590                                      185.7   \n",
       "572                                      185.7   \n",
       "105                                      147.4   \n",
       "\n",
       "     Superplasticizer (component 5)(kg in a m^3 mixture)  \\\n",
       "332                                               12.0     \n",
       "76                                                32.2     \n",
       "590                                                0.0     \n",
       "572                                                0.0     \n",
       "105                                               11.4     \n",
       "\n",
       "     Coarse Aggregate  (component 6)(kg in a m^3 mixture)  \\\n",
       "332                                             1086.8      \n",
       "76                                               852.1      \n",
       "590                                             1118.8      \n",
       "572                                             1055.0      \n",
       "105                                              946.8      \n",
       "\n",
       "     Fine Aggregate (component 7)(kg in a m^3 mixture)  Age (day)  \\\n",
       "332                                              800.9         56   \n",
       "76                                               840.5          3   \n",
       "590                                              789.3          7   \n",
       "572                                              744.3          7   \n",
       "105                                              852.1          7   \n",
       "\n",
       "     Concrete compressive strength(MPa, megapascals)   \n",
       "332                                             60.32  \n",
       "76                                              40.20  \n",
       "590                                             10.34  \n",
       "572                                             13.09  \n",
       "105                                             54.10  "
      ]
     },
     "execution_count": 1,
     "metadata": {},
     "output_type": "execute_result"
    }
   ],
   "source": [
    "import pandas as pd\n",
    "import numpy as np\n",
    "\n",
    "#loading data direct fron github repositary\n",
    "url = 'https://raw.githubusercontent.com/ramsha275/ML_Datasets/main/compresive_strength_concrete.csv'\n",
    "df = pd.read_csv(url, header=0)\n",
    "\n",
    "# randomizing\n",
    "data = df.sample(frac=1)\n",
    "\n",
    "data.head(5)"
   ]
  },
  {
   "cell_type": "code",
   "execution_count": 2,
   "metadata": {
    "executionInfo": {
     "elapsed": 1631,
     "status": "aborted",
     "timestamp": 1617089068002,
     "user": {
      "displayName": "Tariq Jamil",
      "photoUrl": "https://lh3.googleusercontent.com/a-/AOh14GgDTWFYRmAzAYPlKEXPBbLUin4uLOPxYf0jwdLNofE=s64",
      "userId": "14932491825632509938"
     },
     "user_tz": -300
    },
    "id": "3TEXwuWh2DJZ"
   },
   "outputs": [
    {
     "name": "stdout",
     "output_type": "stream",
     "text": [
      "<class 'pandas.core.frame.DataFrame'>\n",
      "Int64Index: 1030 entries, 332 to 646\n",
      "Data columns (total 9 columns):\n",
      " #   Column                                                 Non-Null Count  Dtype  \n",
      "---  ------                                                 --------------  -----  \n",
      " 0   Cement (component 1)(kg in a m^3 mixture)              1030 non-null   float64\n",
      " 1   Blast Furnace Slag (component 2)(kg in a m^3 mixture)  1030 non-null   float64\n",
      " 2   Fly Ash (component 3)(kg in a m^3 mixture)             1030 non-null   float64\n",
      " 3   Water  (component 4)(kg in a m^3 mixture)              1030 non-null   float64\n",
      " 4   Superplasticizer (component 5)(kg in a m^3 mixture)    1030 non-null   float64\n",
      " 5   Coarse Aggregate  (component 6)(kg in a m^3 mixture)   1030 non-null   float64\n",
      " 6   Fine Aggregate (component 7)(kg in a m^3 mixture)      1030 non-null   float64\n",
      " 7   Age (day)                                              1030 non-null   int64  \n",
      " 8   Concrete compressive strength(MPa, megapascals)        1030 non-null   float64\n",
      "dtypes: float64(8), int64(1)\n",
      "memory usage: 80.5 KB\n"
     ]
    }
   ],
   "source": [
    "data.info()\n",
    "# checked for NULL value, there is no null value.\n",
    "\n",
    "\n",
    "#ndata = data.select_dtypes('number')# selecting only numbered columns\n",
    "#for i in ndata.columns[ndata.isnull().any(axis=0)]:     #-Applying Only on variables with NaN values\n",
    "#    ndata[i].fillna(ndata[i].mean(),inplace=True)       # although there is no NaN value, but generalizing"
   ]
  },
  {
   "cell_type": "code",
   "execution_count": 3,
   "metadata": {
    "colab": {
     "base_uri": "https://localhost:8080/"
    },
    "executionInfo": {
     "elapsed": 11276,
     "status": "ok",
     "timestamp": 1616675165301,
     "user": {
      "displayName": "Tariq Jamil",
      "photoUrl": "https://lh3.googleusercontent.com/a-/AOh14GgDTWFYRmAzAYPlKEXPBbLUin4uLOPxYf0jwdLNofE=s64",
      "userId": "14932491825632509938"
     },
     "user_tz": -300
    },
    "id": "89N4c-Fg7zOh",
    "outputId": "19319b14-ccdf-464d-c092-dbb11e44b023"
   },
   "outputs": [],
   "source": [
    "norm_data=(data-data.min())/(data.max()-data.min())\n",
    "\n",
    "x=norm_data.iloc[:,:8]\n",
    "y=norm_data.iloc[:,8:]"
   ]
  },
  {
   "cell_type": "code",
   "execution_count": 4,
   "metadata": {
    "executionInfo": {
     "elapsed": 1616,
     "status": "aborted",
     "timestamp": 1617089068011,
     "user": {
      "displayName": "Tariq Jamil",
      "photoUrl": "https://lh3.googleusercontent.com/a-/AOh14GgDTWFYRmAzAYPlKEXPBbLUin4uLOPxYf0jwdLNofE=s64",
      "userId": "14932491825632509938"
     },
     "user_tz": -300
    },
    "id": "QCVbB_672DJd"
   },
   "outputs": [],
   "source": [
    "from sklearn.model_selection import train_test_split\n",
    "\n",
    "# Defines ratios, w.r.t. whole dataset.\n",
    "ratio_train = 0.5  # 50%\n",
    "ratio_test  = 0.3  # 30%\n",
    "ratio_val   = 0.2  # 20%\n",
    "# Produces 30% test split.\n",
    "x_remaining, x_test, y_remaining, y_test = train_test_split(x, y, test_size=ratio_test, random_state=42)\n",
    "\n",
    "# Adjusts val ratio, w.r.t. remaining dataset \n",
    "ratio_remaining = 1 - ratio_test   # (70% left).\n",
    "ratio_val_adjusted = ratio_val / ratio_remaining  # 20% of 70%\n",
    "\n",
    "# Produces train and val splits.\n",
    "x_train, x_val, y_train, y_val = train_test_split(\n",
    "    x_remaining, y_remaining, test_size=ratio_val_adjusted)"
   ]
  },
  {
   "cell_type": "code",
   "execution_count": 5,
   "metadata": {
    "executionInfo": {
     "elapsed": 1614,
     "status": "aborted",
     "timestamp": 1617089068013,
     "user": {
      "displayName": "Tariq Jamil",
      "photoUrl": "https://lh3.googleusercontent.com/a-/AOh14GgDTWFYRmAzAYPlKEXPBbLUin4uLOPxYf0jwdLNofE=s64",
      "userId": "14932491825632509938"
     },
     "user_tz": -300
    },
    "id": "MumeWvFl2DJe"
   },
   "outputs": [],
   "source": [
    "#Normalizing the data.\n",
    "\n",
    "mean = x_train.mean(axis=0)\n",
    "x_train -= mean\n",
    "std = x_train.std(axis=0)\n",
    "x_train /= std\n",
    "\n",
    "x_val -= mean\n",
    "x_val /= std\n",
    "\n",
    "x_test -= mean\n",
    "x_test /= std"
   ]
  },
  {
   "cell_type": "code",
   "execution_count": 6,
   "metadata": {
    "executionInfo": {
     "elapsed": 14206,
     "status": "ok",
     "timestamp": 1616675168281,
     "user": {
      "displayName": "Tariq Jamil",
      "photoUrl": "https://lh3.googleusercontent.com/a-/AOh14GgDTWFYRmAzAYPlKEXPBbLUin4uLOPxYf0jwdLNofE=s64",
      "userId": "14932491825632509938"
     },
     "user_tz": -300
    },
    "id": "s6Q0t3OA7zOo"
   },
   "outputs": [],
   "source": [
    "from keras import models\n",
    "from keras import layers\n",
    "\n",
    "model=models.Sequential()\n",
    "model.add(layers.Dense(8, activation='relu', input_shape=(x_train.shape[1],)))\n",
    "model.add(layers.Dense(10, activation='relu'))\n",
    "model.add(layers.Dense(8, activation='relu'))\n",
    "model.add(layers.Dense(6, activation='relu'))\n",
    "model.add(layers.Dense(1))"
   ]
  },
  {
   "cell_type": "code",
   "execution_count": 7,
   "metadata": {
    "executionInfo": {
     "elapsed": 14204,
     "status": "ok",
     "timestamp": 1616675168283,
     "user": {
      "displayName": "Tariq Jamil",
      "photoUrl": "https://lh3.googleusercontent.com/a-/AOh14GgDTWFYRmAzAYPlKEXPBbLUin4uLOPxYf0jwdLNofE=s64",
      "userId": "14932491825632509938"
     },
     "user_tz": -300
    },
    "id": "cDkTCRbw7zOp"
   },
   "outputs": [],
   "source": [
    "from keras import optimizers\n",
    "from keras import losses\n",
    "from keras import metrics\n",
    "\n",
    "model.compile(optimizer='rmsprop', loss='mse', metrics=['mae'])\n",
    "#model.compile(optimizer='rmsprop',\n",
    "#             loss='binary_crossentropy',\n",
    "#             metrics='accuracy')"
   ]
  },
  {
   "cell_type": "code",
   "execution_count": 8,
   "metadata": {
    "colab": {
     "base_uri": "https://localhost:8080/"
    },
    "executionInfo": {
     "elapsed": 29637,
     "status": "ok",
     "timestamp": 1616675183734,
     "user": {
      "displayName": "Tariq Jamil",
      "photoUrl": "https://lh3.googleusercontent.com/a-/AOh14GgDTWFYRmAzAYPlKEXPBbLUin4uLOPxYf0jwdLNofE=s64",
      "userId": "14932491825632509938"
     },
     "user_tz": -300
    },
    "id": "g-G5kMoF7zOr",
    "outputId": "db91c041-71d5-483d-c1f3-64e3ca3c6453"
   },
   "outputs": [
    {
     "name": "stdout",
     "output_type": "stream",
     "text": [
      "Epoch 1/40\n",
      "514/514 [==============================] - 1s 1ms/step - loss: 0.1245 - mae: 0.2776 - val_loss: 0.0382 - val_mae: 0.1497\n",
      "Epoch 2/40\n",
      "514/514 [==============================] - 0s 926us/step - loss: 0.0312 - mae: 0.1421 - val_loss: 0.0214 - val_mae: 0.1165\n",
      "Epoch 3/40\n",
      "514/514 [==============================] - 0s 926us/step - loss: 0.0195 - mae: 0.1095 - val_loss: 0.0148 - val_mae: 0.0946\n",
      "Epoch 4/40\n",
      "514/514 [==============================] - 0s 910us/step - loss: 0.0135 - mae: 0.0916 - val_loss: 0.0138 - val_mae: 0.0883\n",
      "Epoch 5/40\n",
      "514/514 [==============================] - 0s 906us/step - loss: 0.0121 - mae: 0.0882 - val_loss: 0.0142 - val_mae: 0.0916\n",
      "Epoch 6/40\n",
      "514/514 [==============================] - 0s 880us/step - loss: 0.0104 - mae: 0.0800 - val_loss: 0.0112 - val_mae: 0.0788\n",
      "Epoch 7/40\n",
      "514/514 [==============================] - 0s 921us/step - loss: 0.0114 - mae: 0.0847 - val_loss: 0.0100 - val_mae: 0.0740\n",
      "Epoch 8/40\n",
      "514/514 [==============================] - 0s 970us/step - loss: 0.0098 - mae: 0.0769 - val_loss: 0.0107 - val_mae: 0.0767\n",
      "Epoch 9/40\n",
      "514/514 [==============================] - 0s 938us/step - loss: 0.0098 - mae: 0.0801 - val_loss: 0.0112 - val_mae: 0.0785\n",
      "Epoch 10/40\n",
      "514/514 [==============================] - 0s 933us/step - loss: 0.0089 - mae: 0.0752 - val_loss: 0.0099 - val_mae: 0.0742\n",
      "Epoch 11/40\n",
      "514/514 [==============================] - 0s 931us/step - loss: 0.0063 - mae: 0.0633 - val_loss: 0.0086 - val_mae: 0.0697\n",
      "Epoch 12/40\n",
      "514/514 [==============================] - 0s 860us/step - loss: 0.0070 - mae: 0.0660 - val_loss: 0.0089 - val_mae: 0.0705\n",
      "Epoch 13/40\n",
      "514/514 [==============================] - 0s 910us/step - loss: 0.0074 - mae: 0.0668 - val_loss: 0.0094 - val_mae: 0.0733\n",
      "Epoch 14/40\n",
      "514/514 [==============================] - 0s 907us/step - loss: 0.0064 - mae: 0.0620 - val_loss: 0.0099 - val_mae: 0.0758\n",
      "Epoch 15/40\n",
      "514/514 [==============================] - 0s 897us/step - loss: 0.0059 - mae: 0.0581 - val_loss: 0.0079 - val_mae: 0.0674\n",
      "Epoch 16/40\n",
      "514/514 [==============================] - 0s 888us/step - loss: 0.0075 - mae: 0.0648 - val_loss: 0.0087 - val_mae: 0.0710\n",
      "Epoch 17/40\n",
      "514/514 [==============================] - 0s 915us/step - loss: 0.0058 - mae: 0.0586 - val_loss: 0.0084 - val_mae: 0.0703\n",
      "Epoch 18/40\n",
      "514/514 [==============================] - 0s 896us/step - loss: 0.0066 - mae: 0.0602 - val_loss: 0.0085 - val_mae: 0.0704\n",
      "Epoch 19/40\n",
      "514/514 [==============================] - 0s 905us/step - loss: 0.0061 - mae: 0.0591 - val_loss: 0.0086 - val_mae: 0.0718\n",
      "Epoch 20/40\n",
      "514/514 [==============================] - 0s 929us/step - loss: 0.0061 - mae: 0.0601 - val_loss: 0.0081 - val_mae: 0.0680\n",
      "Epoch 21/40\n",
      "514/514 [==============================] - 0s 947us/step - loss: 0.0057 - mae: 0.0584 - val_loss: 0.0093 - val_mae: 0.0740\n",
      "Epoch 22/40\n",
      "514/514 [==============================] - 0s 941us/step - loss: 0.0053 - mae: 0.0563 - val_loss: 0.0082 - val_mae: 0.0683\n",
      "Epoch 23/40\n",
      "514/514 [==============================] - 0s 918us/step - loss: 0.0060 - mae: 0.0610 - val_loss: 0.0085 - val_mae: 0.0705\n",
      "Epoch 24/40\n",
      "514/514 [==============================] - 0s 926us/step - loss: 0.0055 - mae: 0.0578 - val_loss: 0.0093 - val_mae: 0.0747\n",
      "Epoch 25/40\n",
      "514/514 [==============================] - 0s 933us/step - loss: 0.0056 - mae: 0.0570 - val_loss: 0.0081 - val_mae: 0.0684\n",
      "Epoch 26/40\n",
      "514/514 [==============================] - 0s 913us/step - loss: 0.0055 - mae: 0.0558 - val_loss: 0.0081 - val_mae: 0.0691\n",
      "Epoch 27/40\n",
      "514/514 [==============================] - 0s 897us/step - loss: 0.0051 - mae: 0.0553 - val_loss: 0.0091 - val_mae: 0.0719\n",
      "Epoch 28/40\n",
      "514/514 [==============================] - 0s 899us/step - loss: 0.0061 - mae: 0.0607 - val_loss: 0.0098 - val_mae: 0.0759\n",
      "Epoch 29/40\n",
      "514/514 [==============================] - 0s 938us/step - loss: 0.0057 - mae: 0.0585 - val_loss: 0.0084 - val_mae: 0.0698\n",
      "Epoch 30/40\n",
      "514/514 [==============================] - 0s 900us/step - loss: 0.0050 - mae: 0.0542 - val_loss: 0.0080 - val_mae: 0.0676\n",
      "Epoch 31/40\n",
      "514/514 [==============================] - 0s 902us/step - loss: 0.0055 - mae: 0.0570 - val_loss: 0.0084 - val_mae: 0.0693\n",
      "Epoch 32/40\n",
      "514/514 [==============================] - 1s 1ms/step - loss: 0.0051 - mae: 0.0557 - val_loss: 0.0082 - val_mae: 0.0691\n",
      "Epoch 33/40\n",
      "514/514 [==============================] - 1s 1ms/step - loss: 0.0050 - mae: 0.0557 - val_loss: 0.0077 - val_mae: 0.0664\n",
      "Epoch 34/40\n",
      "514/514 [==============================] - 0s 970us/step - loss: 0.0057 - mae: 0.0581 - val_loss: 0.0103 - val_mae: 0.0792\n",
      "Epoch 35/40\n",
      "514/514 [==============================] - 1s 1000us/step - loss: 0.0052 - mae: 0.0539 - val_loss: 0.0079 - val_mae: 0.0675\n",
      "Epoch 36/40\n",
      "514/514 [==============================] - 1s 1ms/step - loss: 0.0048 - mae: 0.0535 - val_loss: 0.0082 - val_mae: 0.0686\n",
      "Epoch 37/40\n",
      "514/514 [==============================] - 0s 937us/step - loss: 0.0051 - mae: 0.0547 - val_loss: 0.0080 - val_mae: 0.0677\n",
      "Epoch 38/40\n",
      "514/514 [==============================] - 1s 1ms/step - loss: 0.0047 - mae: 0.0534 - val_loss: 0.0083 - val_mae: 0.0686\n",
      "Epoch 39/40\n",
      "514/514 [==============================] - 0s 957us/step - loss: 0.0047 - mae: 0.0535 - val_loss: 0.0086 - val_mae: 0.0693\n",
      "Epoch 40/40\n",
      "514/514 [==============================] - 0s 964us/step - loss: 0.0047 - mae: 0.0508 - val_loss: 0.0088 - val_mae: 0.0721\n"
     ]
    }
   ],
   "source": [
    "history = model.fit(x_train,\n",
    "                    y_train,\n",
    "                    epochs=40,\n",
    "                    batch_size=1,\n",
    "                    validation_data=(x_val, y_val))"
   ]
  },
  {
   "cell_type": "code",
   "execution_count": 9,
   "metadata": {
    "colab": {
     "base_uri": "https://localhost:8080/"
    },
    "executionInfo": {
     "elapsed": 29625,
     "status": "ok",
     "timestamp": 1616675183734,
     "user": {
      "displayName": "Tariq Jamil",
      "photoUrl": "https://lh3.googleusercontent.com/a-/AOh14GgDTWFYRmAzAYPlKEXPBbLUin4uLOPxYf0jwdLNofE=s64",
      "userId": "14932491825632509938"
     },
     "user_tz": -300
    },
    "id": "XbaOnEpE7zOs",
    "outputId": "9886f7fc-33bf-4d78-f2f2-c6435d1e5b54"
   },
   "outputs": [
    {
     "data": {
      "text/plain": [
       "dict_keys(['loss', 'mae', 'val_loss', 'val_mae'])"
      ]
     },
     "execution_count": 9,
     "metadata": {},
     "output_type": "execute_result"
    }
   ],
   "source": [
    "history_dict=history.history\n",
    "history_dict.keys()"
   ]
  },
  {
   "cell_type": "code",
   "execution_count": 10,
   "metadata": {
    "colab": {
     "base_uri": "https://localhost:8080/",
     "height": 295
    },
    "executionInfo": {
     "elapsed": 30748,
     "status": "ok",
     "timestamp": 1616675184864,
     "user": {
      "displayName": "Tariq Jamil",
      "photoUrl": "https://lh3.googleusercontent.com/a-/AOh14GgDTWFYRmAzAYPlKEXPBbLUin4uLOPxYf0jwdLNofE=s64",
      "userId": "14932491825632509938"
     },
     "user_tz": -300
    },
    "id": "2BSBPe0-9YuM",
    "outputId": "00db4370-e274-4616-f9d2-c19ffc068d83"
   },
   "outputs": [
    {
     "data": {
      "image/png": "[encoded data removed]",
      "text/plain": [
       "<Figure size 432x288 with 1 Axes>"
      ]
     },
     "metadata": {
      "needs_background": "light"
     },
     "output_type": "display_data"
    }
   ],
   "source": [
    "# evaluating validation loss\n",
    "\n",
    "import matplotlib.pyplot as plt\n",
    "\n",
    "history_dict=history.history\n",
    "loss_value = history_dict['loss']\n",
    "val_loss_value=history_dict['val_loss']\n",
    "acc=history_dict['mae']   # missing in the book\n",
    "val_acc=history_dict['val_mae']\n",
    "\n",
    "epochs = np.arange(1, len(acc)+1)\n",
    "\n",
    "plt.plot(epochs, loss_value, 'bo', label='Training loss')\n",
    "plt.plot(epochs, val_loss_value, 'b', label='Validation loss')\n",
    "\n",
    "plt.title('Training & Validation Loss')\n",
    "plt.xlabel('Epochs')\n",
    "plt.ylabel('Loss')\n",
    "plt.legend()\n",
    "\n",
    "plt.show()"
   ]
  },
  {
   "cell_type": "code",
   "execution_count": 11,
   "metadata": {
    "colab": {
     "base_uri": "https://localhost:8080/",
     "height": 295
    },
    "executionInfo": {
     "elapsed": 30737,
     "status": "ok",
     "timestamp": 1616675184865,
     "user": {
      "displayName": "Tariq Jamil",
      "photoUrl": "https://lh3.googleusercontent.com/a-/AOh14GgDTWFYRmAzAYPlKEXPBbLUin4uLOPxYf0jwdLNofE=s64",
      "userId": "14932491825632509938"
     },
     "user_tz": -300
    },
    "id": "a0CHQAwQY0_I",
    "outputId": "b94ab7ca-46d2-42b1-dfef-96e10f5a54d6"
   },
   "outputs": [
    {
     "data": {
      "image/png": "[encoded data removed]",
      "text/plain": [
       "<Figure size 432x288 with 1 Axes>"
      ]
     },
     "metadata": {
      "needs_background": "light"
     },
     "output_type": "display_data"
    }
   ],
   "source": [
    "# evaluating validation accuracy\n",
    "\n",
    "plt.plot(epochs, acc, 'bo', label='Training Accuracy in MEA')\n",
    "plt.plot(epochs, val_acc, 'b', label='Validation Accuracy in MEA')\n",
    "plt.title('Training & Validation Accuracy')\n",
    "plt.xlabel('Epochs')\n",
    "plt.ylabel('MAE')\n",
    "plt.legend()\n",
    "plt.show()"
   ]
  },
  {
   "cell_type": "code",
   "execution_count": 12,
   "metadata": {},
   "outputs": [
    {
     "name": "stdout",
     "output_type": "stream",
     "text": [
      "10/10 [==============================] - 0s 918us/step - loss: 0.0079 - mae: 0.0688\n"
     ]
    },
    {
     "data": {
      "text/plain": [
       "0.007854570634663105"
      ]
     },
     "metadata": {},
     "output_type": "display_data"
    },
    {
     "data": {
      "text/plain": [
       "0.06875289231538773"
      ]
     },
     "metadata": {},
     "output_type": "display_data"
    }
   ],
   "source": [
    "test_mse_score, test_mae_score = model.evaluate(x_test, y_test)\n",
    "\n",
    "display(test_mse_score, test_mae_score)"
   ]
  },
  {
   "cell_type": "code",
   "execution_count": 13,
   "metadata": {},
   "outputs": [],
   "source": [
    "#The MSE and MAE graphis have less than 2% offset, which I could not correct."
   ]
  }
 ],
 "metadata": {
  "kernelspec": {
   "display_name": "gpu2",
   "language": "python",
   "name": "gpu2"
  },
  "language_info": {
   "codemirror_mode": {
    "name": "ipython",
    "version": 3
   },
   "file_extension": ".py",
   "mimetype": "text/x-python",
   "name": "python",
   "nbconvert_exporter": "python",
   "pygments_lexer": "ipython3",
   "version": "3.8.8"
  }
 },
 "nbformat": 4,
 "nbformat_minor": 4
}
