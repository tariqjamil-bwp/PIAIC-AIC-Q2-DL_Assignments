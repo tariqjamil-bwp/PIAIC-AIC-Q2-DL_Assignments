{
 "cells": [
  {
   "cell_type": "markdown",
   "metadata": {},
   "source": [
    "# Assignment: Ionosphere Data Problem\n",
    "\n",
    "### Dataset Description: \n",
    "\n",
    "This radar data was collected by a system in Goose Bay, Labrador. This system consists of a phased array of 16 high-frequency antennas with a total transmitted power on the order of 6.4 kilowatts. See the paper for more details. The targets were free electrons in the ionosphere. \"Good\" radar returns are those showing evidence of some type of structure in the ionosphere. \"Bad\" returns are those that do not; their signals pass through the ionosphere.\n",
    "\n",
    "Received signals were processed using an autocorrelation function whose arguments are the time of a pulse and the pulse number. There were 17 pulse numbers for the Goose Bay system. Instances in this databse are described by 2 attributes per pulse number, corresponding to the complex values returned by the function resulting from the complex electromagnetic signal.\n",
    "\n",
    "### Attribute Information:\n",
    "\n",
    "- All 34 are continuous\n",
    "- The 35th attribute is either \"good\" or \"bad\" according to the definition summarized above. This is a binary classification task.\n",
    "\n",
    " <br><br>\n",
    "\n",
    "<table border=\"1\"  cellpadding=\"6\">\n",
    "\t<tbody>\n",
    "        <tr>\n",
    "\t\t<td bgcolor=\"#DDEEFF\"><p class=\"normal\"><b>Data Set Characteristics:&nbsp;&nbsp;</b></p></td>\n",
    "\t\t<td><p class=\"normal\">Multivariate</p></td>\n",
    "\t\t<td bgcolor=\"#DDEEFF\"><p class=\"normal\"><b>Number of Instances:</b></p></td>\n",
    "\t\t<td><p class=\"normal\">351</p></td>\n",
    "\t\t<td bgcolor=\"#DDEEFF\"><p class=\"normal\"><b>Area:</b></p></td>\n",
    "\t\t<td><p class=\"normal\">Physical</p></td>\n",
    "        </tr>\n",
    "     </tbody>\n",
    "    </table>\n",
    "<table border=\"1\" cellpadding=\"6\">\n",
    "    <tbody>\n",
    "        <tr>\n",
    "            <td bgcolor=\"#DDEEFF\"><p class=\"normal\"><b>Attribute Characteristics:</b></p></td>\n",
    "            <td><p class=\"normal\">Integer,Real</p></td>\n",
    "            <td bgcolor=\"#DDEEFF\"><p class=\"normal\"><b>Number of Attributes:</b></p></td>\n",
    "            <td><p class=\"normal\">34</p></td>\n",
    "            <td bgcolor=\"#DDEEFF\"><p class=\"normal\"><b>Date Donated</b></p></td>\n",
    "            <td><p class=\"normal\">N/A</p></td>\n",
    "        </tr>\n",
    "     </tbody>\n",
    "    </table>\n",
    "<table border=\"1\" cellpadding=\"6\">\t\n",
    "    <tbody>\n",
    "    <tr>\n",
    "\t\t<td bgcolor=\"#DDEEFF\"><p class=\"normal\"><b>Associated Tasks:</b></p></td>\n",
    "\t\t<td><p class=\"normal\">Classification</p></td>\n",
    "\t\t<td bgcolor=\"#DDEEFF\"><p class=\"normal\"><b>Missing Values?</b></p></td>\n",
    "\t\t<td><p class=\"normal\">N/A</p></td>\n",
    "\t\t<td bgcolor=\"#DDEEFF\"><p class=\"normal\"><b>Number of Web Hits:</b></p></td>\n",
    "\t\t<td><p class=\"normal\">N/A</p></td>\n",
    "\t</tr>\n",
    "    </tbody>\n",
    "    </table>"
   ]
  },
  {
   "cell_type": "markdown",
   "metadata": {},
   "source": [
    "### WORKFLOW :\n",
    "- Load Data\n",
    "- Check Missing Values ( If Exist ; Fill each record with mean of its feature ) or any usless column.\n",
    "- Shuffle the data if needed.\n",
    "- Standardized the Input Variables. **Hint**: Centeralized the data\n",
    "- Split into 60 and 40 ratio.\n",
    "- Encode labels.\n",
    "- Model : 1 hidden layers including 16 unit.\n",
    "- Compilation Step (Note : Its a Binary problem , select loss , metrics according to it)\n",
    "- Train the Model with Epochs (100).\n",
    "- If the model gets overfit tune your model by changing the units , No. of layers , epochs , add dropout layer or add Regularizer according to the need .\n",
    "- Prediction should be > **92%**\n",
    "- Evaluation Step\n",
    "- Prediction\n"
   ]
  },
  {
   "cell_type": "markdown",
   "metadata": {},
   "source": [
    "# Load Data:\n",
    "[Click Here to Download DataSet](https://github.com/ramsha275/ML_Datasets/blob/main/ionosphere_data.csv)"
   ]
  },
  {
   "cell_type": "code",
   "execution_count": 1,
   "metadata": {},
   "outputs": [
    {
     "data": {
      "text/html": [
       "<div>\n",
       "<style scoped>\n",
       "    .dataframe tbody tr th:only-of-type {\n",
       "        vertical-align: middle;\n",
       "    }\n",
       "\n",
       "    .dataframe tbody tr th {\n",
       "        vertical-align: top;\n",
       "    }\n",
       "\n",
       "    .dataframe thead th {\n",
       "        text-align: right;\n",
       "    }\n",
       "</style>\n",
       "<table border=\"1\" class=\"dataframe\">\n",
       "  <thead>\n",
       "    <tr style=\"text-align: right;\">\n",
       "      <th></th>\n",
       "      <th>feature1</th>\n",
       "      <th>feature2</th>\n",
       "      <th>feature3</th>\n",
       "      <th>feature4</th>\n",
       "      <th>feature5</th>\n",
       "      <th>feature6</th>\n",
       "      <th>feature7</th>\n",
       "      <th>feature8</th>\n",
       "      <th>feature9</th>\n",
       "      <th>feature10</th>\n",
       "      <th>...</th>\n",
       "      <th>feature26</th>\n",
       "      <th>feature27</th>\n",
       "      <th>feature28</th>\n",
       "      <th>feature29</th>\n",
       "      <th>feature30</th>\n",
       "      <th>feature31</th>\n",
       "      <th>feature32</th>\n",
       "      <th>feature33</th>\n",
       "      <th>feature34</th>\n",
       "      <th>label</th>\n",
       "    </tr>\n",
       "  </thead>\n",
       "  <tbody>\n",
       "    <tr>\n",
       "      <th>27</th>\n",
       "      <td>0</td>\n",
       "      <td>0</td>\n",
       "      <td>-1.00000</td>\n",
       "      <td>-1.00000</td>\n",
       "      <td>0.00000</td>\n",
       "      <td>0.00000</td>\n",
       "      <td>-1.00000</td>\n",
       "      <td>1.00000</td>\n",
       "      <td>1.00000</td>\n",
       "      <td>-0.37500</td>\n",
       "      <td>...</td>\n",
       "      <td>-1.00000</td>\n",
       "      <td>-1.00000</td>\n",
       "      <td>1.00000</td>\n",
       "      <td>-1.00000</td>\n",
       "      <td>-1.00000</td>\n",
       "      <td>0.00000</td>\n",
       "      <td>0.00000</td>\n",
       "      <td>-1.00000</td>\n",
       "      <td>1.00000</td>\n",
       "      <td>b</td>\n",
       "    </tr>\n",
       "    <tr>\n",
       "      <th>223</th>\n",
       "      <td>1</td>\n",
       "      <td>0</td>\n",
       "      <td>0.97467</td>\n",
       "      <td>0.13082</td>\n",
       "      <td>0.94120</td>\n",
       "      <td>0.20036</td>\n",
       "      <td>0.88783</td>\n",
       "      <td>0.32248</td>\n",
       "      <td>0.89009</td>\n",
       "      <td>0.32711</td>\n",
       "      <td>...</td>\n",
       "      <td>0.76210</td>\n",
       "      <td>0.16813</td>\n",
       "      <td>0.78541</td>\n",
       "      <td>0.07497</td>\n",
       "      <td>0.80439</td>\n",
       "      <td>-0.02962</td>\n",
       "      <td>0.77702</td>\n",
       "      <td>-0.10289</td>\n",
       "      <td>0.74242</td>\n",
       "      <td>g</td>\n",
       "    </tr>\n",
       "    <tr>\n",
       "      <th>145</th>\n",
       "      <td>1</td>\n",
       "      <td>0</td>\n",
       "      <td>0.25000</td>\n",
       "      <td>0.16667</td>\n",
       "      <td>0.46667</td>\n",
       "      <td>0.26667</td>\n",
       "      <td>0.19036</td>\n",
       "      <td>0.23966</td>\n",
       "      <td>0.07766</td>\n",
       "      <td>0.19939</td>\n",
       "      <td>...</td>\n",
       "      <td>-0.00539</td>\n",
       "      <td>-0.00621</td>\n",
       "      <td>-0.00586</td>\n",
       "      <td>-0.00294</td>\n",
       "      <td>-0.00520</td>\n",
       "      <td>-0.00089</td>\n",
       "      <td>-0.00408</td>\n",
       "      <td>0.00025</td>\n",
       "      <td>-0.00291</td>\n",
       "      <td>g</td>\n",
       "    </tr>\n",
       "    <tr>\n",
       "      <th>196</th>\n",
       "      <td>1</td>\n",
       "      <td>0</td>\n",
       "      <td>1.00000</td>\n",
       "      <td>-1.00000</td>\n",
       "      <td>1.00000</td>\n",
       "      <td>1.00000</td>\n",
       "      <td>1.00000</td>\n",
       "      <td>1.00000</td>\n",
       "      <td>1.00000</td>\n",
       "      <td>-0.50000</td>\n",
       "      <td>...</td>\n",
       "      <td>1.00000</td>\n",
       "      <td>1.00000</td>\n",
       "      <td>0.62500</td>\n",
       "      <td>1.00000</td>\n",
       "      <td>-0.75000</td>\n",
       "      <td>-0.75000</td>\n",
       "      <td>1.00000</td>\n",
       "      <td>1.00000</td>\n",
       "      <td>1.00000</td>\n",
       "      <td>b</td>\n",
       "    </tr>\n",
       "    <tr>\n",
       "      <th>89</th>\n",
       "      <td>1</td>\n",
       "      <td>0</td>\n",
       "      <td>0.41932</td>\n",
       "      <td>0.12482</td>\n",
       "      <td>0.35000</td>\n",
       "      <td>0.12500</td>\n",
       "      <td>0.23182</td>\n",
       "      <td>0.27955</td>\n",
       "      <td>-0.03636</td>\n",
       "      <td>0.44318</td>\n",
       "      <td>...</td>\n",
       "      <td>-0.04802</td>\n",
       "      <td>-0.09971</td>\n",
       "      <td>-0.07114</td>\n",
       "      <td>-1.00000</td>\n",
       "      <td>-1.00000</td>\n",
       "      <td>-0.02916</td>\n",
       "      <td>-0.07464</td>\n",
       "      <td>-0.00526</td>\n",
       "      <td>-0.06314</td>\n",
       "      <td>b</td>\n",
       "    </tr>\n",
       "  </tbody>\n",
       "</table>\n",
       "<p>5 rows × 35 columns</p>\n",
       "</div>"
      ],
      "text/plain": [
       "     feature1  feature2  feature3  feature4  feature5  feature6  feature7  \\\n",
       "27          0         0  -1.00000  -1.00000   0.00000   0.00000  -1.00000   \n",
       "223         1         0   0.97467   0.13082   0.94120   0.20036   0.88783   \n",
       "145         1         0   0.25000   0.16667   0.46667   0.26667   0.19036   \n",
       "196         1         0   1.00000  -1.00000   1.00000   1.00000   1.00000   \n",
       "89          1         0   0.41932   0.12482   0.35000   0.12500   0.23182   \n",
       "\n",
       "     feature8  feature9  feature10  ...  feature26  feature27  feature28  \\\n",
       "27    1.00000   1.00000   -0.37500  ...   -1.00000   -1.00000    1.00000   \n",
       "223   0.32248   0.89009    0.32711  ...    0.76210    0.16813    0.78541   \n",
       "145   0.23966   0.07766    0.19939  ...   -0.00539   -0.00621   -0.00586   \n",
       "196   1.00000   1.00000   -0.50000  ...    1.00000    1.00000    0.62500   \n",
       "89    0.27955  -0.03636    0.44318  ...   -0.04802   -0.09971   -0.07114   \n",
       "\n",
       "     feature29  feature30  feature31  feature32  feature33  feature34  label  \n",
       "27    -1.00000   -1.00000    0.00000    0.00000   -1.00000    1.00000      b  \n",
       "223    0.07497    0.80439   -0.02962    0.77702   -0.10289    0.74242      g  \n",
       "145   -0.00294   -0.00520   -0.00089   -0.00408    0.00025   -0.00291      g  \n",
       "196    1.00000   -0.75000   -0.75000    1.00000    1.00000    1.00000      b  \n",
       "89    -1.00000   -1.00000   -0.02916   -0.07464   -0.00526   -0.06314      b  \n",
       "\n",
       "[5 rows x 35 columns]"
      ]
     },
     "execution_count": 1,
     "metadata": {},
     "output_type": "execute_result"
    }
   ],
   "source": [
    "import os\n",
    "os.environ['CUDA_VISIBLE_DEVICES'] = '0'\n",
    "\n",
    "import pandas as pd\n",
    "import numpy as np\n",
    "\n",
    "# loading data directly from github link.\n",
    "url = 'https://raw.githubusercontent.com/ramsha275/ML_Datasets/main/ionosphere_data.csv'\n",
    "df = pd.read_csv(url, header=0)\n",
    "data = df.sample(frac=1)\n",
    "\n",
    "data.head(5)"
   ]
  },
  {
   "cell_type": "code",
   "execution_count": 2,
   "metadata": {
    "executionInfo": {
     "elapsed": 1631,
     "status": "aborted",
     "timestamp": 1617089068002,
     "user": {
      "displayName": "Tariq Jamil",
      "photoUrl": "https://lh3.googleusercontent.com/a-/AOh14GgDTWFYRmAzAYPlKEXPBbLUin4uLOPxYf0jwdLNofE=s64",
      "userId": "14932491825632509938"
     },
     "user_tz": -300
    },
    "id": "3TEXwuWh2DJZ"
   },
   "outputs": [],
   "source": [
    "#ndata = data.select_dtypes('number')# selecting only numbered columns\n",
    "#for i in ndata.columns[ndata.isnull().any(axis=0)]:     #-Applying Only on variables with NaN values\n",
    "#    ndata[i].fillna(ndata[i].mean(),inplace=True)       # although there is no NaN value, but generalizing"
   ]
  },
  {
   "cell_type": "code",
   "execution_count": 3,
   "metadata": {
    "colab": {
     "base_uri": "https://localhost:8080/"
    },
    "executionInfo": {
     "elapsed": 11276,
     "status": "ok",
     "timestamp": 1616675165301,
     "user": {
      "displayName": "Tariq Jamil",
      "photoUrl": "https://lh3.googleusercontent.com/a-/AOh14GgDTWFYRmAzAYPlKEXPBbLUin4uLOPxYf0jwdLNofE=s64",
      "userId": "14932491825632509938"
     },
     "user_tz": -300
    },
    "id": "89N4c-Fg7zOh",
    "outputId": "19319b14-ccdf-464d-c092-dbb11e44b023"
   },
   "outputs": [],
   "source": [
    "from sklearn.preprocessing import LabelEncoder\n",
    "labelencoder = LabelEncoder()\n",
    "\n",
    "data['label'] = labelencoder.fit_transform(data['label'])   # label encoding the 'label' field."
   ]
  },
  {
   "cell_type": "code",
   "execution_count": 4,
   "metadata": {
    "colab": {
     "base_uri": "https://localhost:8080/"
    },
    "executionInfo": {
     "elapsed": 11276,
     "status": "ok",
     "timestamp": 1616675165301,
     "user": {
      "displayName": "Tariq Jamil",
      "photoUrl": "https://lh3.googleusercontent.com/a-/AOh14GgDTWFYRmAzAYPlKEXPBbLUin4uLOPxYf0jwdLNofE=s64",
      "userId": "14932491825632509938"
     },
     "user_tz": -300
    },
    "id": "89N4c-Fg7zOh",
    "outputId": "19319b14-ccdf-464d-c092-dbb11e44b023"
   },
   "outputs": [],
   "source": [
    "from sklearn.preprocessing import StandardScaler"
   ]
  },
  {
   "cell_type": "code",
   "execution_count": 5,
   "metadata": {
    "colab": {
     "base_uri": "https://localhost:8080/"
    },
    "executionInfo": {
     "elapsed": 11276,
     "status": "ok",
     "timestamp": 1616675165301,
     "user": {
      "displayName": "Tariq Jamil",
      "photoUrl": "https://lh3.googleusercontent.com/a-/AOh14GgDTWFYRmAzAYPlKEXPBbLUin4uLOPxYf0jwdLNofE=s64",
      "userId": "14932491825632509938"
     },
     "user_tz": -300
    },
    "id": "89N4c-Fg7zOh",
    "outputId": "19319b14-ccdf-464d-c092-dbb11e44b023"
   },
   "outputs": [],
   "source": [
    "x = data.iloc[:,:34]    # starting standardizing the features excluding the first 2 an the last\n",
    "y = data.iloc[:,34:]"
   ]
  },
  {
   "cell_type": "code",
   "execution_count": 6,
   "metadata": {
    "colab": {
     "base_uri": "https://localhost:8080/"
    },
    "executionInfo": {
     "elapsed": 11276,
     "status": "ok",
     "timestamp": 1616675165301,
     "user": {
      "displayName": "Tariq Jamil",
      "photoUrl": "https://lh3.googleusercontent.com/a-/AOh14GgDTWFYRmAzAYPlKEXPBbLUin4uLOPxYf0jwdLNofE=s64",
      "userId": "14932491825632509938"
     },
     "user_tz": -300
    },
    "id": "89N4c-Fg7zOh",
    "outputId": "19319b14-ccdf-464d-c092-dbb11e44b023"
   },
   "outputs": [
    {
     "data": {
      "text/html": [
       "<div>\n",
       "<style scoped>\n",
       "    .dataframe tbody tr th:only-of-type {\n",
       "        vertical-align: middle;\n",
       "    }\n",
       "\n",
       "    .dataframe tbody tr th {\n",
       "        vertical-align: top;\n",
       "    }\n",
       "\n",
       "    .dataframe thead th {\n",
       "        text-align: right;\n",
       "    }\n",
       "</style>\n",
       "<table border=\"1\" class=\"dataframe\">\n",
       "  <thead>\n",
       "    <tr style=\"text-align: right;\">\n",
       "      <th></th>\n",
       "      <th>0</th>\n",
       "      <th>1</th>\n",
       "      <th>2</th>\n",
       "      <th>3</th>\n",
       "      <th>4</th>\n",
       "      <th>5</th>\n",
       "      <th>6</th>\n",
       "      <th>7</th>\n",
       "      <th>8</th>\n",
       "      <th>9</th>\n",
       "      <th>...</th>\n",
       "      <th>24</th>\n",
       "      <th>25</th>\n",
       "      <th>26</th>\n",
       "      <th>27</th>\n",
       "      <th>28</th>\n",
       "      <th>29</th>\n",
       "      <th>30</th>\n",
       "      <th>31</th>\n",
       "      <th>32</th>\n",
       "      <th>33</th>\n",
       "    </tr>\n",
       "  </thead>\n",
       "  <tbody>\n",
       "    <tr>\n",
       "      <th>0</th>\n",
       "      <td>-2.869990</td>\n",
       "      <td>0.0</td>\n",
       "      <td>-3.302507</td>\n",
       "      <td>-2.369235</td>\n",
       "      <td>-1.157858</td>\n",
       "      <td>-0.251849</td>\n",
       "      <td>-3.150910</td>\n",
       "      <td>1.693513</td>\n",
       "      <td>0.964074</td>\n",
       "      <td>-1.151470</td>\n",
       "      <td>...</td>\n",
       "      <td>1.045426</td>\n",
       "      <td>-1.829202</td>\n",
       "      <td>-2.990755</td>\n",
       "      <td>1.947300</td>\n",
       "      <td>-2.397027</td>\n",
       "      <td>-1.916398</td>\n",
       "      <td>-0.617720</td>\n",
       "      <td>0.007398</td>\n",
       "      <td>-2.585392</td>\n",
       "      <td>2.107299</td>\n",
       "    </tr>\n",
       "    <tr>\n",
       "      <th>1</th>\n",
       "      <td>0.348433</td>\n",
       "      <td>0.0</td>\n",
       "      <td>0.670682</td>\n",
       "      <td>0.196114</td>\n",
       "      <td>0.655208</td>\n",
       "      <td>0.183571</td>\n",
       "      <td>0.686521</td>\n",
       "      <td>0.390609</td>\n",
       "      <td>0.747008</td>\n",
       "      <td>0.301689</td>\n",
       "      <td>...</td>\n",
       "      <td>-0.221276</td>\n",
       "      <td>1.641073</td>\n",
       "      <td>-0.724604</td>\n",
       "      <td>1.556598</td>\n",
       "      <td>-0.527724</td>\n",
       "      <td>1.640803</td>\n",
       "      <td>-0.669624</td>\n",
       "      <td>1.522522</td>\n",
       "      <td>-0.866522</td>\n",
       "      <td>1.556526</td>\n",
       "    </tr>\n",
       "    <tr>\n",
       "      <th>2</th>\n",
       "      <td>0.348433</td>\n",
       "      <td>0.0</td>\n",
       "      <td>-0.787410</td>\n",
       "      <td>0.277442</td>\n",
       "      <td>-0.258895</td>\n",
       "      <td>0.327676</td>\n",
       "      <td>-0.731241</td>\n",
       "      <td>0.231342</td>\n",
       "      <td>-0.857498</td>\n",
       "      <td>0.037347</td>\n",
       "      <td>...</td>\n",
       "      <td>-0.704789</td>\n",
       "      <td>0.129580</td>\n",
       "      <td>-1.062820</td>\n",
       "      <td>0.115937</td>\n",
       "      <td>-0.663204</td>\n",
       "      <td>0.044765</td>\n",
       "      <td>-0.619280</td>\n",
       "      <td>-0.000558</td>\n",
       "      <td>-0.668905</td>\n",
       "      <td>-0.037185</td>\n",
       "    </tr>\n",
       "    <tr>\n",
       "      <th>3</th>\n",
       "      <td>0.348433</td>\n",
       "      <td>0.0</td>\n",
       "      <td>0.721648</td>\n",
       "      <td>-2.369235</td>\n",
       "      <td>0.768477</td>\n",
       "      <td>1.921340</td>\n",
       "      <td>0.914531</td>\n",
       "      <td>1.693513</td>\n",
       "      <td>0.964074</td>\n",
       "      <td>-1.410182</td>\n",
       "      <td>...</td>\n",
       "      <td>1.045426</td>\n",
       "      <td>2.109592</td>\n",
       "      <td>0.889208</td>\n",
       "      <td>1.264540</td>\n",
       "      <td>1.080843</td>\n",
       "      <td>-1.423544</td>\n",
       "      <td>-1.931968</td>\n",
       "      <td>1.957315</td>\n",
       "      <td>1.246625</td>\n",
       "      <td>2.107299</td>\n",
       "    </tr>\n",
       "    <tr>\n",
       "      <th>4</th>\n",
       "      <td>0.348433</td>\n",
       "      <td>0.0</td>\n",
       "      <td>-0.446725</td>\n",
       "      <td>0.182503</td>\n",
       "      <td>-0.483641</td>\n",
       "      <td>0.019800</td>\n",
       "      <td>-0.646964</td>\n",
       "      <td>0.308053</td>\n",
       "      <td>-1.082682</td>\n",
       "      <td>0.541920</td>\n",
       "      <td>...</td>\n",
       "      <td>-0.928221</td>\n",
       "      <td>0.045625</td>\n",
       "      <td>-1.244209</td>\n",
       "      <td>-0.002917</td>\n",
       "      <td>-2.397027</td>\n",
       "      <td>-1.916398</td>\n",
       "      <td>-0.668818</td>\n",
       "      <td>-0.138144</td>\n",
       "      <td>-0.679462</td>\n",
       "      <td>-0.165972</td>\n",
       "    </tr>\n",
       "    <tr>\n",
       "      <th>...</th>\n",
       "      <td>...</td>\n",
       "      <td>...</td>\n",
       "      <td>...</td>\n",
       "      <td>...</td>\n",
       "      <td>...</td>\n",
       "      <td>...</td>\n",
       "      <td>...</td>\n",
       "      <td>...</td>\n",
       "      <td>...</td>\n",
       "      <td>...</td>\n",
       "      <td>...</td>\n",
       "      <td>...</td>\n",
       "      <td>...</td>\n",
       "      <td>...</td>\n",
       "      <td>...</td>\n",
       "      <td>...</td>\n",
       "      <td>...</td>\n",
       "      <td>...</td>\n",
       "      <td>...</td>\n",
       "      <td>...</td>\n",
       "      <td>...</td>\n",
       "    </tr>\n",
       "    <tr>\n",
       "      <th>346</th>\n",
       "      <td>0.348433</td>\n",
       "      <td>0.0</td>\n",
       "      <td>0.229977</td>\n",
       "      <td>1.025414</td>\n",
       "      <td>0.451595</td>\n",
       "      <td>0.928215</td>\n",
       "      <td>-0.001901</td>\n",
       "      <td>1.156271</td>\n",
       "      <td>-0.315198</td>\n",
       "      <td>1.089853</td>\n",
       "      <td>...</td>\n",
       "      <td>-2.399501</td>\n",
       "      <td>-0.432880</td>\n",
       "      <td>-2.415589</td>\n",
       "      <td>-0.470435</td>\n",
       "      <td>-1.759046</td>\n",
       "      <td>-0.323199</td>\n",
       "      <td>-1.215808</td>\n",
       "      <td>-1.171406</td>\n",
       "      <td>-1.045094</td>\n",
       "      <td>-1.377126</td>\n",
       "    </tr>\n",
       "    <tr>\n",
       "      <th>347</th>\n",
       "      <td>0.348433</td>\n",
       "      <td>0.0</td>\n",
       "      <td>-0.287006</td>\n",
       "      <td>-0.059418</td>\n",
       "      <td>-0.327280</td>\n",
       "      <td>-0.460692</td>\n",
       "      <td>-0.088637</td>\n",
       "      <td>-0.309458</td>\n",
       "      <td>-0.020832</td>\n",
       "      <td>-0.176433</td>\n",
       "      <td>...</td>\n",
       "      <td>0.339450</td>\n",
       "      <td>0.140195</td>\n",
       "      <td>-0.018412</td>\n",
       "      <td>0.066888</td>\n",
       "      <td>0.091685</td>\n",
       "      <td>0.121591</td>\n",
       "      <td>0.338088</td>\n",
       "      <td>-0.098970</td>\n",
       "      <td>0.460314</td>\n",
       "      <td>-0.214233</td>\n",
       "    </tr>\n",
       "    <tr>\n",
       "      <th>348</th>\n",
       "      <td>0.348433</td>\n",
       "      <td>0.0</td>\n",
       "      <td>-1.290430</td>\n",
       "      <td>-0.100661</td>\n",
       "      <td>-1.157858</td>\n",
       "      <td>-0.251849</td>\n",
       "      <td>-1.118190</td>\n",
       "      <td>-0.229536</td>\n",
       "      <td>-2.985820</td>\n",
       "      <td>1.694372</td>\n",
       "      <td>...</td>\n",
       "      <td>-0.685798</td>\n",
       "      <td>0.140195</td>\n",
       "      <td>0.889208</td>\n",
       "      <td>0.539303</td>\n",
       "      <td>-0.658092</td>\n",
       "      <td>0.055016</td>\n",
       "      <td>-0.617720</td>\n",
       "      <td>0.007398</td>\n",
       "      <td>-0.669384</td>\n",
       "      <td>-0.030962</td>\n",
       "    </tr>\n",
       "    <tr>\n",
       "      <th>349</th>\n",
       "      <td>0.348433</td>\n",
       "      <td>0.0</td>\n",
       "      <td>-3.302507</td>\n",
       "      <td>-1.454478</td>\n",
       "      <td>-1.157858</td>\n",
       "      <td>-0.251849</td>\n",
       "      <td>-3.150910</td>\n",
       "      <td>1.011138</td>\n",
       "      <td>-2.730992</td>\n",
       "      <td>1.694372</td>\n",
       "      <td>...</td>\n",
       "      <td>-0.169218</td>\n",
       "      <td>0.600778</td>\n",
       "      <td>0.889208</td>\n",
       "      <td>1.066321</td>\n",
       "      <td>-0.658092</td>\n",
       "      <td>0.055016</td>\n",
       "      <td>-0.617720</td>\n",
       "      <td>0.007398</td>\n",
       "      <td>-0.669384</td>\n",
       "      <td>-0.030962</td>\n",
       "    </tr>\n",
       "    <tr>\n",
       "      <th>350</th>\n",
       "      <td>0.348433</td>\n",
       "      <td>0.0</td>\n",
       "      <td>-0.337349</td>\n",
       "      <td>-0.339451</td>\n",
       "      <td>0.456045</td>\n",
       "      <td>-0.213688</td>\n",
       "      <td>0.572119</td>\n",
       "      <td>-0.179248</td>\n",
       "      <td>0.340406</td>\n",
       "      <td>-0.484260</td>\n",
       "      <td>...</td>\n",
       "      <td>0.043134</td>\n",
       "      <td>0.554812</td>\n",
       "      <td>0.218343</td>\n",
       "      <td>0.289887</td>\n",
       "      <td>0.257145</td>\n",
       "      <td>-0.360025</td>\n",
       "      <td>0.436306</td>\n",
       "      <td>0.193303</td>\n",
       "      <td>0.430750</td>\n",
       "      <td>0.176855</td>\n",
       "    </tr>\n",
       "  </tbody>\n",
       "</table>\n",
       "<p>351 rows × 34 columns</p>\n",
       "</div>"
      ],
      "text/plain": [
       "           0    1         2         3         4         5         6   \\\n",
       "0   -2.869990  0.0 -3.302507 -2.369235 -1.157858 -0.251849 -3.150910   \n",
       "1    0.348433  0.0  0.670682  0.196114  0.655208  0.183571  0.686521   \n",
       "2    0.348433  0.0 -0.787410  0.277442 -0.258895  0.327676 -0.731241   \n",
       "3    0.348433  0.0  0.721648 -2.369235  0.768477  1.921340  0.914531   \n",
       "4    0.348433  0.0 -0.446725  0.182503 -0.483641  0.019800 -0.646964   \n",
       "..        ...  ...       ...       ...       ...       ...       ...   \n",
       "346  0.348433  0.0  0.229977  1.025414  0.451595  0.928215 -0.001901   \n",
       "347  0.348433  0.0 -0.287006 -0.059418 -0.327280 -0.460692 -0.088637   \n",
       "348  0.348433  0.0 -1.290430 -0.100661 -1.157858 -0.251849 -1.118190   \n",
       "349  0.348433  0.0 -3.302507 -1.454478 -1.157858 -0.251849 -3.150910   \n",
       "350  0.348433  0.0 -0.337349 -0.339451  0.456045 -0.213688  0.572119   \n",
       "\n",
       "           7         8         9   ...        24        25        26  \\\n",
       "0    1.693513  0.964074 -1.151470  ...  1.045426 -1.829202 -2.990755   \n",
       "1    0.390609  0.747008  0.301689  ... -0.221276  1.641073 -0.724604   \n",
       "2    0.231342 -0.857498  0.037347  ... -0.704789  0.129580 -1.062820   \n",
       "3    1.693513  0.964074 -1.410182  ...  1.045426  2.109592  0.889208   \n",
       "4    0.308053 -1.082682  0.541920  ... -0.928221  0.045625 -1.244209   \n",
       "..        ...       ...       ...  ...       ...       ...       ...   \n",
       "346  1.156271 -0.315198  1.089853  ... -2.399501 -0.432880 -2.415589   \n",
       "347 -0.309458 -0.020832 -0.176433  ...  0.339450  0.140195 -0.018412   \n",
       "348 -0.229536 -2.985820  1.694372  ... -0.685798  0.140195  0.889208   \n",
       "349  1.011138 -2.730992  1.694372  ... -0.169218  0.600778  0.889208   \n",
       "350 -0.179248  0.340406 -0.484260  ...  0.043134  0.554812  0.218343   \n",
       "\n",
       "           27        28        29        30        31        32        33  \n",
       "0    1.947300 -2.397027 -1.916398 -0.617720  0.007398 -2.585392  2.107299  \n",
       "1    1.556598 -0.527724  1.640803 -0.669624  1.522522 -0.866522  1.556526  \n",
       "2    0.115937 -0.663204  0.044765 -0.619280 -0.000558 -0.668905 -0.037185  \n",
       "3    1.264540  1.080843 -1.423544 -1.931968  1.957315  1.246625  2.107299  \n",
       "4   -0.002917 -2.397027 -1.916398 -0.668818 -0.138144 -0.679462 -0.165972  \n",
       "..        ...       ...       ...       ...       ...       ...       ...  \n",
       "346 -0.470435 -1.759046 -0.323199 -1.215808 -1.171406 -1.045094 -1.377126  \n",
       "347  0.066888  0.091685  0.121591  0.338088 -0.098970  0.460314 -0.214233  \n",
       "348  0.539303 -0.658092  0.055016 -0.617720  0.007398 -0.669384 -0.030962  \n",
       "349  1.066321 -0.658092  0.055016 -0.617720  0.007398 -0.669384 -0.030962  \n",
       "350  0.289887  0.257145 -0.360025  0.436306  0.193303  0.430750  0.176855  \n",
       "\n",
       "[351 rows x 34 columns]"
      ]
     },
     "execution_count": 6,
     "metadata": {},
     "output_type": "execute_result"
    }
   ],
   "source": [
    "x = pd.DataFrame(StandardScaler().fit_transform(x))  # applying standard scaling\n",
    "x"
   ]
  },
  {
   "cell_type": "code",
   "execution_count": 7,
   "metadata": {
    "executionInfo": {
     "elapsed": 1616,
     "status": "aborted",
     "timestamp": 1617089068011,
     "user": {
      "displayName": "Tariq Jamil",
      "photoUrl": "https://lh3.googleusercontent.com/a-/AOh14GgDTWFYRmAzAYPlKEXPBbLUin4uLOPxYf0jwdLNofE=s64",
      "userId": "14932491825632509938"
     },
     "user_tz": -300
    },
    "id": "QCVbB_672DJd"
   },
   "outputs": [],
   "source": [
    "from sklearn.model_selection import train_test_split\n",
    "\n",
    "# Defines ratios, w.r.t. whole dataset.\n",
    "ratio_train = 0.5  # 50%\n",
    "ratio_test  = 0.3  # 30%\n",
    "ratio_val   = 0.2  # 20%\n",
    "# Produces 30% test split.\n",
    "x_remaining, x_test, y_remaining, y_test = train_test_split(x, y, test_size=ratio_test, random_state=42)\n",
    "\n",
    "# Adjusts val ratio, w.r.t. remaining dataset \n",
    "ratio_remaining = 1 - ratio_test   # (70% left).\n",
    "ratio_val_adjusted = ratio_val / ratio_remaining  # 20% of 70%\n",
    "\n",
    "# Produces train and val splits.\n",
    "x_train, x_val, y_train, y_val = train_test_split(\n",
    "    x_remaining, y_remaining, test_size=ratio_val_adjusted)"
   ]
  },
  {
   "cell_type": "code",
   "execution_count": 8,
   "metadata": {
    "executionInfo": {
     "elapsed": 14206,
     "status": "ok",
     "timestamp": 1616675168281,
     "user": {
      "displayName": "Tariq Jamil",
      "photoUrl": "https://lh3.googleusercontent.com/a-/AOh14GgDTWFYRmAzAYPlKEXPBbLUin4uLOPxYf0jwdLNofE=s64",
      "userId": "14932491825632509938"
     },
     "user_tz": -300
    },
    "id": "s6Q0t3OA7zOo"
   },
   "outputs": [],
   "source": [
    "from keras import models\n",
    "from keras import layers\n",
    "from keras.layers import Dropout\n",
    "\n",
    "model=models.Sequential()\n",
    "model.add(Dropout(0.15, input_shape=(x_train.shape[1],)))\n",
    "model.add(layers.Dense(34, activation='tanh'))\n",
    "model.add(layers.Dense(8, activation='tanh'))\n",
    "model.add(layers.Dense(2, activation='tanh'))\n",
    "#model.add(layers.Dense(1, activation='tanh'))\n",
    "model.add(layers.Dense(1, activation='sigmoid'))"
   ]
  },
  {
   "cell_type": "code",
   "execution_count": 9,
   "metadata": {
    "executionInfo": {
     "elapsed": 14204,
     "status": "ok",
     "timestamp": 1616675168283,
     "user": {
      "displayName": "Tariq Jamil",
      "photoUrl": "https://lh3.googleusercontent.com/a-/AOh14GgDTWFYRmAzAYPlKEXPBbLUin4uLOPxYf0jwdLNofE=s64",
      "userId": "14932491825632509938"
     },
     "user_tz": -300
    },
    "id": "cDkTCRbw7zOp"
   },
   "outputs": [],
   "source": [
    "from keras import optimizers\n",
    "from keras import losses\n",
    "from keras import metrics\n",
    "\n",
    "#model.compile(optimizer='rmsprop', loss='binary_crossentropy, metrics='accuracy')"
   ]
  },
  {
   "cell_type": "code",
   "execution_count": 10,
   "metadata": {
    "executionInfo": {
     "elapsed": 14201,
     "status": "ok",
     "timestamp": 1616675168284,
     "user": {
      "displayName": "Tariq Jamil",
      "photoUrl": "https://lh3.googleusercontent.com/a-/AOh14GgDTWFYRmAzAYPlKEXPBbLUin4uLOPxYf0jwdLNofE=s64",
      "userId": "14932491825632509938"
     },
     "user_tz": -300
    },
    "id": "VjRzMdLM7zOp"
   },
   "outputs": [],
   "source": [
    "#from keras.optimizers import SGD\n",
    "#sgd = SGD(lr=0.01, momentum=0.8)\n",
    "\n",
    "from keras.optimizers import RMSprop\n",
    "rmsprop = RMSprop(lr=0.0001)\n",
    "\n",
    "model.compile(loss='binary_crossentropy', optimizer=rmsprop, metrics=['accuracy'])\n",
    "\n",
    "#model.compile(optimizer=optimizers.RMSprop(lr=0.00005),\n",
    "#             loss=losses.binary_crossentropy,\n",
    "#             metrics=metrics.binary_accuracy)"
   ]
  },
  {
   "cell_type": "code",
   "execution_count": 11,
   "metadata": {
    "colab": {
     "base_uri": "https://localhost:8080/"
    },
    "executionInfo": {
     "elapsed": 29637,
     "status": "ok",
     "timestamp": 1616675183734,
     "user": {
      "displayName": "Tariq Jamil",
      "photoUrl": "https://lh3.googleusercontent.com/a-/AOh14GgDTWFYRmAzAYPlKEXPBbLUin4uLOPxYf0jwdLNofE=s64",
      "userId": "14932491825632509938"
     },
     "user_tz": -300
    },
    "id": "g-G5kMoF7zOr",
    "outputId": "db91c041-71d5-483d-c1f3-64e3ca3c6453"
   },
   "outputs": [],
   "source": [
    "history = model.fit(x_train, y_train,\n",
    "                    epochs=150,\n",
    "                    batch_size=1,\n",
    "                    validation_data=(x_val, y_val)\n",
    "                    , verbose=0)"
   ]
  },
  {
   "cell_type": "code",
   "execution_count": 12,
   "metadata": {
    "colab": {
     "base_uri": "https://localhost:8080/"
    },
    "executionInfo": {
     "elapsed": 29625,
     "status": "ok",
     "timestamp": 1616675183734,
     "user": {
      "displayName": "Tariq Jamil",
      "photoUrl": "https://lh3.googleusercontent.com/a-/AOh14GgDTWFYRmAzAYPlKEXPBbLUin4uLOPxYf0jwdLNofE=s64",
      "userId": "14932491825632509938"
     },
     "user_tz": -300
    },
    "id": "XbaOnEpE7zOs",
    "outputId": "9886f7fc-33bf-4d78-f2f2-c6435d1e5b54"
   },
   "outputs": [
    {
     "data": {
      "text/plain": [
       "dict_keys(['loss', 'accuracy', 'val_loss', 'val_accuracy'])"
      ]
     },
     "execution_count": 12,
     "metadata": {},
     "output_type": "execute_result"
    }
   ],
   "source": [
    "history_dict=history.history\n",
    "history_dict.keys()"
   ]
  },
  {
   "cell_type": "code",
   "execution_count": 13,
   "metadata": {
    "colab": {
     "base_uri": "https://localhost:8080/",
     "height": 295
    },
    "executionInfo": {
     "elapsed": 30748,
     "status": "ok",
     "timestamp": 1616675184864,
     "user": {
      "displayName": "Tariq Jamil",
      "photoUrl": "https://lh3.googleusercontent.com/a-/AOh14GgDTWFYRmAzAYPlKEXPBbLUin4uLOPxYf0jwdLNofE=s64",
      "userId": "14932491825632509938"
     },
     "user_tz": -300
    },
    "id": "2BSBPe0-9YuM",
    "outputId": "00db4370-e274-4616-f9d2-c19ffc068d83"
   },
   "outputs": [
    {
     "data": {
      "image/png": "[encoded data removed]",
      "text/plain": [
       "<Figure size 432x288 with 1 Axes>"
      ]
     },
     "metadata": {
      "needs_background": "light"
     },
     "output_type": "display_data"
    }
   ],
   "source": [
    "import matplotlib.pyplot as plt\n",
    "\n",
    "history_dict=history.history\n",
    "loss_value = history_dict['loss']\n",
    "val_loss_value=history_dict['val_loss']\n",
    "acc=history_dict['accuracy']   # missing in the book\n",
    "val_acc=history_dict['val_accuracy']\n",
    "\n",
    "epochs = np.arange(1, len(acc)+1)\n",
    "\n",
    "plt.plot(epochs, loss_value, 'bo', label='Training loss')\n",
    "plt.plot(epochs, val_loss_value, 'b', label='Validation loss')\n",
    "\n",
    "plt.title('Training & Validation Loss')\n",
    "plt.xlabel('Epochs')\n",
    "plt.ylabel('Loss')\n",
    "plt.legend()\n",
    "\n",
    "plt.show()"
   ]
  },
  {
   "cell_type": "code",
   "execution_count": 14,
   "metadata": {
    "colab": {
     "base_uri": "https://localhost:8080/",
     "height": 295
    },
    "executionInfo": {
     "elapsed": 30737,
     "status": "ok",
     "timestamp": 1616675184865,
     "user": {
      "displayName": "Tariq Jamil",
      "photoUrl": "https://lh3.googleusercontent.com/a-/AOh14GgDTWFYRmAzAYPlKEXPBbLUin4uLOPxYf0jwdLNofE=s64",
      "userId": "14932491825632509938"
     },
     "user_tz": -300
    },
    "id": "a0CHQAwQY0_I",
    "outputId": "b94ab7ca-46d2-42b1-dfef-96e10f5a54d6"
   },
   "outputs": [
    {
     "data": {
      "image/png": "[encoded data removed]",
      "text/plain": [
       "<Figure size 432x288 with 1 Axes>"
      ]
     },
     "metadata": {
      "needs_background": "light"
     },
     "output_type": "display_data"
    }
   ],
   "source": [
    "plt.plot(epochs, acc, 'bo', label='Training Accuracy')\n",
    "plt.plot(epochs, val_acc, 'b', label='Validation Accuracy')\n",
    "plt.title('Training & Validation Accuracy')\n",
    "plt.xlabel('Epochs')\n",
    "plt.ylabel('Accuracy')\n",
    "plt.legend()\n",
    "plt.show()"
   ]
  },
  {
   "cell_type": "code",
   "execution_count": 15,
   "metadata": {},
   "outputs": [
    {
     "name": "stdout",
     "output_type": "stream",
     "text": [
      "4/4 [==============================] - 0s 1ms/step - loss: 0.2314 - accuracy: 0.9151\n"
     ]
    },
    {
     "data": {
      "text/plain": [
       "0.2313915342092514"
      ]
     },
     "metadata": {},
     "output_type": "display_data"
    },
    {
     "data": {
      "text/plain": [
       "0.9150943160057068"
      ]
     },
     "metadata": {},
     "output_type": "display_data"
    }
   ],
   "source": [
    "#prediction with model\n",
    "test_loss_score, test_acc_score = model.evaluate(x_test, y_test)\n",
    "\n",
    "display(test_loss_score, test_acc_score)"
   ]
  },
  {
   "cell_type": "code",
   "execution_count": null,
   "metadata": {},
   "outputs": [],
   "source": [
    "# I could reach the min loss value of 23% and max accuracy of 91%. The loss increases when dropout is made >= 20%"
   ]
  }
 ],
 "metadata": {
  "kernelspec": {
   "display_name": "TensorFlow-GPU",
   "language": "python",
   "name": "tf-gpu"
  },
  "language_info": {
   "codemirror_mode": {
    "name": "ipython",
    "version": 3
   },
   "file_extension": ".py",
   "mimetype": "text/x-python",
   "name": "python",
   "nbconvert_exporter": "python",
   "pygments_lexer": "ipython3",
   "version": "3.8.8"
  }
 },
 "nbformat": 4,
 "nbformat_minor": 4
}
