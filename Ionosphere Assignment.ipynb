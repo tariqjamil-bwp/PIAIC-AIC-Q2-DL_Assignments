{
 "cells": [
  {
   "cell_type": "markdown",
   "metadata": {},
   "source": [
    "# Assignment: Ionosphere Data Problem\n",
    "\n",
    "### Dataset Description: \n",
    "\n",
    "This radar data was collected by a system in Goose Bay, Labrador. This system consists of a phased array of 16 high-frequency antennas with a total transmitted power on the order of 6.4 kilowatts. See the paper for more details. The targets were free electrons in the ionosphere. \"Good\" radar returns are those showing evidence of some type of structure in the ionosphere. \"Bad\" returns are those that do not; their signals pass through the ionosphere.\n",
    "\n",
    "Received signals were processed using an autocorrelation function whose arguments are the time of a pulse and the pulse number. There were 17 pulse numbers for the Goose Bay system. Instances in this databse are described by 2 attributes per pulse number, corresponding to the complex values returned by the function resulting from the complex electromagnetic signal.\n",
    "\n",
    "### Attribute Information:\n",
    "\n",
    "- All 34 are continuous\n",
    "- The 35th attribute is either \"good\" or \"bad\" according to the definition summarized above. This is a binary classification task.\n",
    "\n",
    " <br><br>\n",
    "\n",
    "<table border=\"1\"  cellpadding=\"6\">\n",
    "\t<tbody>\n",
    "        <tr>\n",
    "\t\t<td bgcolor=\"#DDEEFF\"><p class=\"normal\"><b>Data Set Characteristics:&nbsp;&nbsp;</b></p></td>\n",
    "\t\t<td><p class=\"normal\">Multivariate</p></td>\n",
    "\t\t<td bgcolor=\"#DDEEFF\"><p class=\"normal\"><b>Number of Instances:</b></p></td>\n",
    "\t\t<td><p class=\"normal\">351</p></td>\n",
    "\t\t<td bgcolor=\"#DDEEFF\"><p class=\"normal\"><b>Area:</b></p></td>\n",
    "\t\t<td><p class=\"normal\">Physical</p></td>\n",
    "        </tr>\n",
    "     </tbody>\n",
    "    </table>\n",
    "<table border=\"1\" cellpadding=\"6\">\n",
    "    <tbody>\n",
    "        <tr>\n",
    "            <td bgcolor=\"#DDEEFF\"><p class=\"normal\"><b>Attribute Characteristics:</b></p></td>\n",
    "            <td><p class=\"normal\">Integer,Real</p></td>\n",
    "            <td bgcolor=\"#DDEEFF\"><p class=\"normal\"><b>Number of Attributes:</b></p></td>\n",
    "            <td><p class=\"normal\">34</p></td>\n",
    "            <td bgcolor=\"#DDEEFF\"><p class=\"normal\"><b>Date Donated</b></p></td>\n",
    "            <td><p class=\"normal\">N/A</p></td>\n",
    "        </tr>\n",
    "     </tbody>\n",
    "    </table>\n",
    "<table border=\"1\" cellpadding=\"6\">\t\n",
    "    <tbody>\n",
    "    <tr>\n",
    "\t\t<td bgcolor=\"#DDEEFF\"><p class=\"normal\"><b>Associated Tasks:</b></p></td>\n",
    "\t\t<td><p class=\"normal\">Classification</p></td>\n",
    "\t\t<td bgcolor=\"#DDEEFF\"><p class=\"normal\"><b>Missing Values?</b></p></td>\n",
    "\t\t<td><p class=\"normal\">N/A</p></td>\n",
    "\t\t<td bgcolor=\"#DDEEFF\"><p class=\"normal\"><b>Number of Web Hits:</b></p></td>\n",
    "\t\t<td><p class=\"normal\">N/A</p></td>\n",
    "\t</tr>\n",
    "    </tbody>\n",
    "    </table>"
   ]
  },
  {
   "cell_type": "markdown",
   "metadata": {},
   "source": [
    "### WORKFLOW :\n",
    "- Load Data\n",
    "- Check Missing Values ( If Exist ; Fill each record with mean of its feature ) or any usless column.\n",
    "- Shuffle the data if needed.\n",
    "- Standardized the Input Variables. **Hint**: Centeralized the data\n",
    "- Split into 60 and 40 ratio.\n",
    "- Encode labels.\n",
    "- Model : 1 hidden layers including 16 unit.\n",
    "- Compilation Step (Note : Its a Binary problem , select loss , metrics according to it)\n",
    "- Train the Model with Epochs (100).\n",
    "- If the model gets overfit tune your model by changing the units , No. of layers , epochs , add dropout layer or add Regularizer according to the need .\n",
    "- Prediction should be > **92%**\n",
    "- Evaluation Step\n",
    "- Prediction\n"
   ]
  },
  {
   "cell_type": "markdown",
   "metadata": {},
   "source": [
    "# Load Data:\n",
    "[Click Here to Download DataSet](https://github.com/ramsha275/ML_Datasets/blob/main/ionosphere_data.csv)"
   ]
  },
  {
   "cell_type": "code",
   "execution_count": 1,
   "metadata": {},
   "outputs": [
    {
     "data": {
      "text/html": [
       "<div>\n",
       "<style scoped>\n",
       "    .dataframe tbody tr th:only-of-type {\n",
       "        vertical-align: middle;\n",
       "    }\n",
       "\n",
       "    .dataframe tbody tr th {\n",
       "        vertical-align: top;\n",
       "    }\n",
       "\n",
       "    .dataframe thead th {\n",
       "        text-align: right;\n",
       "    }\n",
       "</style>\n",
       "<table border=\"1\" class=\"dataframe\">\n",
       "  <thead>\n",
       "    <tr style=\"text-align: right;\">\n",
       "      <th></th>\n",
       "      <th>feature1</th>\n",
       "      <th>feature2</th>\n",
       "      <th>feature3</th>\n",
       "      <th>feature4</th>\n",
       "      <th>feature5</th>\n",
       "      <th>feature6</th>\n",
       "      <th>feature7</th>\n",
       "      <th>feature8</th>\n",
       "      <th>feature9</th>\n",
       "      <th>feature10</th>\n",
       "      <th>...</th>\n",
       "      <th>feature26</th>\n",
       "      <th>feature27</th>\n",
       "      <th>feature28</th>\n",
       "      <th>feature29</th>\n",
       "      <th>feature30</th>\n",
       "      <th>feature31</th>\n",
       "      <th>feature32</th>\n",
       "      <th>feature33</th>\n",
       "      <th>feature34</th>\n",
       "      <th>label</th>\n",
       "    </tr>\n",
       "  </thead>\n",
       "  <tbody>\n",
       "    <tr>\n",
       "      <th>291</th>\n",
       "      <td>1</td>\n",
       "      <td>0</td>\n",
       "      <td>0.59887</td>\n",
       "      <td>0.14689</td>\n",
       "      <td>0.69868</td>\n",
       "      <td>-0.13936</td>\n",
       "      <td>0.85122</td>\n",
       "      <td>-0.13936</td>\n",
       "      <td>0.80979</td>\n",
       "      <td>0.02448</td>\n",
       "      <td>...</td>\n",
       "      <td>-0.33145</td>\n",
       "      <td>0.61444</td>\n",
       "      <td>-0.16837</td>\n",
       "      <td>0.52731</td>\n",
       "      <td>-0.02072</td>\n",
       "      <td>0.53861</td>\n",
       "      <td>-0.31262</td>\n",
       "      <td>0.67420</td>\n",
       "      <td>-0.22034</td>\n",
       "      <td>g</td>\n",
       "    </tr>\n",
       "    <tr>\n",
       "      <th>264</th>\n",
       "      <td>1</td>\n",
       "      <td>0</td>\n",
       "      <td>0.94631</td>\n",
       "      <td>0.17498</td>\n",
       "      <td>0.90946</td>\n",
       "      <td>0.33143</td>\n",
       "      <td>0.85096</td>\n",
       "      <td>0.49960</td>\n",
       "      <td>0.73678</td>\n",
       "      <td>0.63842</td>\n",
       "      <td>...</td>\n",
       "      <td>0.76482</td>\n",
       "      <td>-0.58563</td>\n",
       "      <td>0.66335</td>\n",
       "      <td>-0.67929</td>\n",
       "      <td>0.52564</td>\n",
       "      <td>-0.75321</td>\n",
       "      <td>0.42488</td>\n",
       "      <td>-0.81210</td>\n",
       "      <td>0.26092</td>\n",
       "      <td>g</td>\n",
       "    </tr>\n",
       "    <tr>\n",
       "      <th>350</th>\n",
       "      <td>1</td>\n",
       "      <td>0</td>\n",
       "      <td>0.84710</td>\n",
       "      <td>0.13533</td>\n",
       "      <td>0.73638</td>\n",
       "      <td>-0.06151</td>\n",
       "      <td>0.87873</td>\n",
       "      <td>0.08260</td>\n",
       "      <td>0.88928</td>\n",
       "      <td>-0.09139</td>\n",
       "      <td>...</td>\n",
       "      <td>-0.15114</td>\n",
       "      <td>0.81147</td>\n",
       "      <td>-0.04822</td>\n",
       "      <td>0.78207</td>\n",
       "      <td>-0.00703</td>\n",
       "      <td>0.75747</td>\n",
       "      <td>-0.06678</td>\n",
       "      <td>0.85764</td>\n",
       "      <td>-0.06151</td>\n",
       "      <td>g</td>\n",
       "    </tr>\n",
       "    <tr>\n",
       "      <th>299</th>\n",
       "      <td>1</td>\n",
       "      <td>0</td>\n",
       "      <td>0.83479</td>\n",
       "      <td>0.28993</td>\n",
       "      <td>0.69256</td>\n",
       "      <td>0.47702</td>\n",
       "      <td>0.49234</td>\n",
       "      <td>0.68381</td>\n",
       "      <td>0.21991</td>\n",
       "      <td>0.86761</td>\n",
       "      <td>...</td>\n",
       "      <td>-0.52954</td>\n",
       "      <td>-0.16950</td>\n",
       "      <td>-0.60863</td>\n",
       "      <td>0.08425</td>\n",
       "      <td>-0.61488</td>\n",
       "      <td>0.25164</td>\n",
       "      <td>-0.48468</td>\n",
       "      <td>0.40591</td>\n",
       "      <td>-0.35339</td>\n",
       "      <td>g</td>\n",
       "    </tr>\n",
       "    <tr>\n",
       "      <th>221</th>\n",
       "      <td>1</td>\n",
       "      <td>0</td>\n",
       "      <td>0.80627</td>\n",
       "      <td>0.13069</td>\n",
       "      <td>0.73061</td>\n",
       "      <td>0.24323</td>\n",
       "      <td>0.64615</td>\n",
       "      <td>0.19038</td>\n",
       "      <td>0.36923</td>\n",
       "      <td>0.45577</td>\n",
       "      <td>...</td>\n",
       "      <td>0.40006</td>\n",
       "      <td>-0.19940</td>\n",
       "      <td>0.34976</td>\n",
       "      <td>-0.23832</td>\n",
       "      <td>0.29541</td>\n",
       "      <td>-0.26634</td>\n",
       "      <td>0.23896</td>\n",
       "      <td>-0.23846</td>\n",
       "      <td>0.31154</td>\n",
       "      <td>g</td>\n",
       "    </tr>\n",
       "  </tbody>\n",
       "</table>\n",
       "<p>5 rows × 35 columns</p>\n",
       "</div>"
      ],
      "text/plain": [
       "     feature1  feature2  feature3  feature4  feature5  feature6  feature7  \\\n",
       "291         1         0   0.59887   0.14689   0.69868  -0.13936   0.85122   \n",
       "264         1         0   0.94631   0.17498   0.90946   0.33143   0.85096   \n",
       "350         1         0   0.84710   0.13533   0.73638  -0.06151   0.87873   \n",
       "299         1         0   0.83479   0.28993   0.69256   0.47702   0.49234   \n",
       "221         1         0   0.80627   0.13069   0.73061   0.24323   0.64615   \n",
       "\n",
       "     feature8  feature9  feature10  ...  feature26  feature27  feature28  \\\n",
       "291  -0.13936   0.80979    0.02448  ...   -0.33145    0.61444   -0.16837   \n",
       "264   0.49960   0.73678    0.63842  ...    0.76482   -0.58563    0.66335   \n",
       "350   0.08260   0.88928   -0.09139  ...   -0.15114    0.81147   -0.04822   \n",
       "299   0.68381   0.21991    0.86761  ...   -0.52954   -0.16950   -0.60863   \n",
       "221   0.19038   0.36923    0.45577  ...    0.40006   -0.19940    0.34976   \n",
       "\n",
       "     feature29  feature30  feature31  feature32  feature33  feature34  label  \n",
       "291    0.52731   -0.02072    0.53861   -0.31262    0.67420   -0.22034      g  \n",
       "264   -0.67929    0.52564   -0.75321    0.42488   -0.81210    0.26092      g  \n",
       "350    0.78207   -0.00703    0.75747   -0.06678    0.85764   -0.06151      g  \n",
       "299    0.08425   -0.61488    0.25164   -0.48468    0.40591   -0.35339      g  \n",
       "221   -0.23832    0.29541   -0.26634    0.23896   -0.23846    0.31154      g  \n",
       "\n",
       "[5 rows x 35 columns]"
      ]
     },
     "execution_count": 1,
     "metadata": {},
     "output_type": "execute_result"
    }
   ],
   "source": [
    "import pandas as pd\n",
    "import numpy as np\n",
    "\n",
    "# loading data directly from github link.\n",
    "url = 'https://raw.githubusercontent.com/ramsha275/ML_Datasets/main/ionosphere_data.csv'\n",
    "df = pd.read_csv(url, header=0)\n",
    "data = df.sample(frac=1)\n",
    "\n",
    "data.head(5)"
   ]
  },
  {
   "cell_type": "code",
   "execution_count": 2,
   "metadata": {
    "executionInfo": {
     "elapsed": 1631,
     "status": "aborted",
     "timestamp": 1617089068002,
     "user": {
      "displayName": "Tariq Jamil",
      "photoUrl": "https://lh3.googleusercontent.com/a-/AOh14GgDTWFYRmAzAYPlKEXPBbLUin4uLOPxYf0jwdLNofE=s64",
      "userId": "14932491825632509938"
     },
     "user_tz": -300
    },
    "id": "3TEXwuWh2DJZ"
   },
   "outputs": [],
   "source": [
    "#ndata = data.select_dtypes('number')# selecting only numbered columns\n",
    "#for i in ndata.columns[ndata.isnull().any(axis=0)]:     #-Applying Only on variables with NaN values\n",
    "#    ndata[i].fillna(ndata[i].mean(),inplace=True)       # although there is no NaN value, but generalizing"
   ]
  },
  {
   "cell_type": "code",
   "execution_count": 3,
   "metadata": {
    "colab": {
     "base_uri": "https://localhost:8080/"
    },
    "executionInfo": {
     "elapsed": 11276,
     "status": "ok",
     "timestamp": 1616675165301,
     "user": {
      "displayName": "Tariq Jamil",
      "photoUrl": "https://lh3.googleusercontent.com/a-/AOh14GgDTWFYRmAzAYPlKEXPBbLUin4uLOPxYf0jwdLNofE=s64",
      "userId": "14932491825632509938"
     },
     "user_tz": -300
    },
    "id": "89N4c-Fg7zOh",
    "outputId": "19319b14-ccdf-464d-c092-dbb11e44b023"
   },
   "outputs": [],
   "source": [
    "from sklearn.preprocessing import LabelEncoder\n",
    "labelencoder = LabelEncoder()\n",
    "\n",
    "data['label'] = labelencoder.fit_transform(data['label'])   # label encoding the 'label' field."
   ]
  },
  {
   "cell_type": "code",
   "execution_count": 4,
   "metadata": {
    "colab": {
     "base_uri": "https://localhost:8080/"
    },
    "executionInfo": {
     "elapsed": 11276,
     "status": "ok",
     "timestamp": 1616675165301,
     "user": {
      "displayName": "Tariq Jamil",
      "photoUrl": "https://lh3.googleusercontent.com/a-/AOh14GgDTWFYRmAzAYPlKEXPBbLUin4uLOPxYf0jwdLNofE=s64",
      "userId": "14932491825632509938"
     },
     "user_tz": -300
    },
    "id": "89N4c-Fg7zOh",
    "outputId": "19319b14-ccdf-464d-c092-dbb11e44b023"
   },
   "outputs": [],
   "source": [
    "from sklearn.preprocessing import StandardScaler"
   ]
  },
  {
   "cell_type": "code",
   "execution_count": 5,
   "metadata": {
    "colab": {
     "base_uri": "https://localhost:8080/"
    },
    "executionInfo": {
     "elapsed": 11276,
     "status": "ok",
     "timestamp": 1616675165301,
     "user": {
      "displayName": "Tariq Jamil",
      "photoUrl": "https://lh3.googleusercontent.com/a-/AOh14GgDTWFYRmAzAYPlKEXPBbLUin4uLOPxYf0jwdLNofE=s64",
      "userId": "14932491825632509938"
     },
     "user_tz": -300
    },
    "id": "89N4c-Fg7zOh",
    "outputId": "19319b14-ccdf-464d-c092-dbb11e44b023"
   },
   "outputs": [],
   "source": [
    "x = data.iloc[:,:34]    # starting standardizing the features excluding the first 2 an the last\n",
    "y = data.iloc[:,34:]"
   ]
  },
  {
   "cell_type": "code",
   "execution_count": 6,
   "metadata": {
    "colab": {
     "base_uri": "https://localhost:8080/"
    },
    "executionInfo": {
     "elapsed": 11276,
     "status": "ok",
     "timestamp": 1616675165301,
     "user": {
      "displayName": "Tariq Jamil",
      "photoUrl": "https://lh3.googleusercontent.com/a-/AOh14GgDTWFYRmAzAYPlKEXPBbLUin4uLOPxYf0jwdLNofE=s64",
      "userId": "14932491825632509938"
     },
     "user_tz": -300
    },
    "id": "89N4c-Fg7zOh",
    "outputId": "19319b14-ccdf-464d-c092-dbb11e44b023"
   },
   "outputs": [
    {
     "data": {
      "text/html": [
       "<div>\n",
       "<style scoped>\n",
       "    .dataframe tbody tr th:only-of-type {\n",
       "        vertical-align: middle;\n",
       "    }\n",
       "\n",
       "    .dataframe tbody tr th {\n",
       "        vertical-align: top;\n",
       "    }\n",
       "\n",
       "    .dataframe thead th {\n",
       "        text-align: right;\n",
       "    }\n",
       "</style>\n",
       "<table border=\"1\" class=\"dataframe\">\n",
       "  <thead>\n",
       "    <tr style=\"text-align: right;\">\n",
       "      <th></th>\n",
       "      <th>0</th>\n",
       "      <th>1</th>\n",
       "      <th>2</th>\n",
       "      <th>3</th>\n",
       "      <th>4</th>\n",
       "      <th>5</th>\n",
       "      <th>6</th>\n",
       "      <th>7</th>\n",
       "      <th>8</th>\n",
       "      <th>9</th>\n",
       "      <th>...</th>\n",
       "      <th>24</th>\n",
       "      <th>25</th>\n",
       "      <th>26</th>\n",
       "      <th>27</th>\n",
       "      <th>28</th>\n",
       "      <th>29</th>\n",
       "      <th>30</th>\n",
       "      <th>31</th>\n",
       "      <th>32</th>\n",
       "      <th>33</th>\n",
       "    </tr>\n",
       "  </thead>\n",
       "  <tbody>\n",
       "    <tr>\n",
       "      <th>0</th>\n",
       "      <td>0.348433</td>\n",
       "      <td>0.0</td>\n",
       "      <td>-0.085457</td>\n",
       "      <td>0.232570</td>\n",
       "      <td>0.188034</td>\n",
       "      <td>-0.554704</td>\n",
       "      <td>0.612103</td>\n",
       "      <td>-0.497532</td>\n",
       "      <td>0.588419</td>\n",
       "      <td>-0.324665</td>\n",
       "      <td>...</td>\n",
       "      <td>0.285782</td>\n",
       "      <td>-0.512561</td>\n",
       "      <td>0.141229</td>\n",
       "      <td>-0.179944</td>\n",
       "      <td>0.258866</td>\n",
       "      <td>0.014169</td>\n",
       "      <td>0.326102</td>\n",
       "      <td>-0.602186</td>\n",
       "      <td>0.622389</td>\n",
       "      <td>-0.502107</td>\n",
       "    </tr>\n",
       "    <tr>\n",
       "      <th>1</th>\n",
       "      <td>0.348433</td>\n",
       "      <td>0.0</td>\n",
       "      <td>0.613620</td>\n",
       "      <td>0.296294</td>\n",
       "      <td>0.594067</td>\n",
       "      <td>0.468411</td>\n",
       "      <td>0.611574</td>\n",
       "      <td>0.731219</td>\n",
       "      <td>0.444229</td>\n",
       "      <td>0.946009</td>\n",
       "      <td>...</td>\n",
       "      <td>-1.491405</td>\n",
       "      <td>1.646429</td>\n",
       "      <td>-2.186885</td>\n",
       "      <td>1.334364</td>\n",
       "      <td>-1.839333</td>\n",
       "      <td>1.091271</td>\n",
       "      <td>-1.937593</td>\n",
       "      <td>0.835878</td>\n",
       "      <td>-2.225374</td>\n",
       "      <td>0.526953</td>\n",
       "    </tr>\n",
       "    <tr>\n",
       "      <th>2</th>\n",
       "      <td>0.348433</td>\n",
       "      <td>0.0</td>\n",
       "      <td>0.414001</td>\n",
       "      <td>0.206345</td>\n",
       "      <td>0.260656</td>\n",
       "      <td>-0.385522</td>\n",
       "      <td>0.668023</td>\n",
       "      <td>-0.070692</td>\n",
       "      <td>0.745408</td>\n",
       "      <td>-0.564481</td>\n",
       "      <td>...</td>\n",
       "      <td>0.811139</td>\n",
       "      <td>-0.157459</td>\n",
       "      <td>0.523464</td>\n",
       "      <td>0.038813</td>\n",
       "      <td>0.701877</td>\n",
       "      <td>0.041157</td>\n",
       "      <td>0.709617</td>\n",
       "      <td>-0.122818</td>\n",
       "      <td>0.973862</td>\n",
       "      <td>-0.162487</td>\n",
       "    </tr>\n",
       "    <tr>\n",
       "      <th>3</th>\n",
       "      <td>0.348433</td>\n",
       "      <td>0.0</td>\n",
       "      <td>0.389233</td>\n",
       "      <td>0.557067</td>\n",
       "      <td>0.176244</td>\n",
       "      <td>0.784806</td>\n",
       "      <td>-0.117400</td>\n",
       "      <td>1.085464</td>\n",
       "      <td>-0.576562</td>\n",
       "      <td>1.420364</td>\n",
       "      <td>...</td>\n",
       "      <td>-1.329795</td>\n",
       "      <td>-0.902679</td>\n",
       "      <td>-1.379600</td>\n",
       "      <td>-0.981522</td>\n",
       "      <td>-0.511586</td>\n",
       "      <td>-1.157167</td>\n",
       "      <td>-0.176764</td>\n",
       "      <td>-0.937688</td>\n",
       "      <td>0.108343</td>\n",
       "      <td>-0.786603</td>\n",
       "    </tr>\n",
       "    <tr>\n",
       "      <th>4</th>\n",
       "      <td>0.348433</td>\n",
       "      <td>0.0</td>\n",
       "      <td>0.331848</td>\n",
       "      <td>0.195819</td>\n",
       "      <td>0.249542</td>\n",
       "      <td>0.276736</td>\n",
       "      <td>0.195253</td>\n",
       "      <td>0.136574</td>\n",
       "      <td>-0.281663</td>\n",
       "      <td>0.567977</td>\n",
       "      <td>...</td>\n",
       "      <td>-0.944494</td>\n",
       "      <td>0.928072</td>\n",
       "      <td>-1.437606</td>\n",
       "      <td>0.763413</td>\n",
       "      <td>-1.072515</td>\n",
       "      <td>0.637392</td>\n",
       "      <td>-1.084436</td>\n",
       "      <td>0.473350</td>\n",
       "      <td>-1.126275</td>\n",
       "      <td>0.635192</td>\n",
       "    </tr>\n",
       "    <tr>\n",
       "      <th>...</th>\n",
       "      <td>...</td>\n",
       "      <td>...</td>\n",
       "      <td>...</td>\n",
       "      <td>...</td>\n",
       "      <td>...</td>\n",
       "      <td>...</td>\n",
       "      <td>...</td>\n",
       "      <td>...</td>\n",
       "      <td>...</td>\n",
       "      <td>...</td>\n",
       "      <td>...</td>\n",
       "      <td>...</td>\n",
       "      <td>...</td>\n",
       "      <td>...</td>\n",
       "      <td>...</td>\n",
       "      <td>...</td>\n",
       "      <td>...</td>\n",
       "      <td>...</td>\n",
       "      <td>...</td>\n",
       "      <td>...</td>\n",
       "      <td>...</td>\n",
       "    </tr>\n",
       "    <tr>\n",
       "      <th>346</th>\n",
       "      <td>0.348433</td>\n",
       "      <td>0.0</td>\n",
       "      <td>0.638791</td>\n",
       "      <td>0.129123</td>\n",
       "      <td>0.768477</td>\n",
       "      <td>-0.293530</td>\n",
       "      <td>0.880239</td>\n",
       "      <td>-0.180402</td>\n",
       "      <td>0.904312</td>\n",
       "      <td>-0.568145</td>\n",
       "      <td>...</td>\n",
       "      <td>0.899432</td>\n",
       "      <td>-0.168508</td>\n",
       "      <td>0.805343</td>\n",
       "      <td>-0.000751</td>\n",
       "      <td>0.923957</td>\n",
       "      <td>0.080783</td>\n",
       "      <td>1.134610</td>\n",
       "      <td>-0.203135</td>\n",
       "      <td>1.115263</td>\n",
       "      <td>-0.178246</td>\n",
       "    </tr>\n",
       "    <tr>\n",
       "      <th>347</th>\n",
       "      <td>0.348433</td>\n",
       "      <td>0.0</td>\n",
       "      <td>0.135530</td>\n",
       "      <td>-0.662882</td>\n",
       "      <td>0.081700</td>\n",
       "      <td>-0.157358</td>\n",
       "      <td>-0.199054</td>\n",
       "      <td>0.506242</td>\n",
       "      <td>0.277128</td>\n",
       "      <td>0.002617</td>\n",
       "      <td>...</td>\n",
       "      <td>-0.143855</td>\n",
       "      <td>-0.099559</td>\n",
       "      <td>-0.082140</td>\n",
       "      <td>0.048972</td>\n",
       "      <td>0.182649</td>\n",
       "      <td>-0.032672</td>\n",
       "      <td>0.509869</td>\n",
       "      <td>-0.484313</td>\n",
       "      <td>0.296955</td>\n",
       "      <td>0.285137</td>\n",
       "    </tr>\n",
       "    <tr>\n",
       "      <th>348</th>\n",
       "      <td>0.348433</td>\n",
       "      <td>0.0</td>\n",
       "      <td>0.415470</td>\n",
       "      <td>0.139763</td>\n",
       "      <td>0.768477</td>\n",
       "      <td>0.598520</td>\n",
       "      <td>0.914531</td>\n",
       "      <td>-2.152585</td>\n",
       "      <td>0.311117</td>\n",
       "      <td>-0.200979</td>\n",
       "      <td>...</td>\n",
       "      <td>0.890187</td>\n",
       "      <td>-0.516264</td>\n",
       "      <td>0.889208</td>\n",
       "      <td>0.416862</td>\n",
       "      <td>-0.002843</td>\n",
       "      <td>0.016633</td>\n",
       "      <td>1.134610</td>\n",
       "      <td>0.445427</td>\n",
       "      <td>1.246625</td>\n",
       "      <td>0.768940</td>\n",
       "    </tr>\n",
       "    <tr>\n",
       "      <th>349</th>\n",
       "      <td>-2.869990</td>\n",
       "      <td>0.0</td>\n",
       "      <td>0.721648</td>\n",
       "      <td>-2.369235</td>\n",
       "      <td>0.768477</td>\n",
       "      <td>1.921340</td>\n",
       "      <td>0.914531</td>\n",
       "      <td>-2.152585</td>\n",
       "      <td>0.964074</td>\n",
       "      <td>1.694372</td>\n",
       "      <td>...</td>\n",
       "      <td>1.045426</td>\n",
       "      <td>2.109592</td>\n",
       "      <td>0.889208</td>\n",
       "      <td>1.947300</td>\n",
       "      <td>1.080843</td>\n",
       "      <td>2.026431</td>\n",
       "      <td>1.134610</td>\n",
       "      <td>1.957315</td>\n",
       "      <td>1.246625</td>\n",
       "      <td>-2.169224</td>\n",
       "    </tr>\n",
       "    <tr>\n",
       "      <th>350</th>\n",
       "      <td>0.348433</td>\n",
       "      <td>0.0</td>\n",
       "      <td>0.207924</td>\n",
       "      <td>0.140670</td>\n",
       "      <td>0.550917</td>\n",
       "      <td>-0.230508</td>\n",
       "      <td>0.681622</td>\n",
       "      <td>-0.201248</td>\n",
       "      <td>0.711952</td>\n",
       "      <td>-0.404679</td>\n",
       "      <td>...</td>\n",
       "      <td>0.824418</td>\n",
       "      <td>0.363682</td>\n",
       "      <td>0.567734</td>\n",
       "      <td>0.236103</td>\n",
       "      <td>0.636859</td>\n",
       "      <td>-0.014890</td>\n",
       "      <td>0.814109</td>\n",
       "      <td>0.139992</td>\n",
       "      <td>0.878253</td>\n",
       "      <td>0.122415</td>\n",
       "    </tr>\n",
       "  </tbody>\n",
       "</table>\n",
       "<p>351 rows × 34 columns</p>\n",
       "</div>"
      ],
      "text/plain": [
       "           0    1         2         3         4         5         6   \\\n",
       "0    0.348433  0.0 -0.085457  0.232570  0.188034 -0.554704  0.612103   \n",
       "1    0.348433  0.0  0.613620  0.296294  0.594067  0.468411  0.611574   \n",
       "2    0.348433  0.0  0.414001  0.206345  0.260656 -0.385522  0.668023   \n",
       "3    0.348433  0.0  0.389233  0.557067  0.176244  0.784806 -0.117400   \n",
       "4    0.348433  0.0  0.331848  0.195819  0.249542  0.276736  0.195253   \n",
       "..        ...  ...       ...       ...       ...       ...       ...   \n",
       "346  0.348433  0.0  0.638791  0.129123  0.768477 -0.293530  0.880239   \n",
       "347  0.348433  0.0  0.135530 -0.662882  0.081700 -0.157358 -0.199054   \n",
       "348  0.348433  0.0  0.415470  0.139763  0.768477  0.598520  0.914531   \n",
       "349 -2.869990  0.0  0.721648 -2.369235  0.768477  1.921340  0.914531   \n",
       "350  0.348433  0.0  0.207924  0.140670  0.550917 -0.230508  0.681622   \n",
       "\n",
       "           7         8         9   ...        24        25        26  \\\n",
       "0   -0.497532  0.588419 -0.324665  ...  0.285782 -0.512561  0.141229   \n",
       "1    0.731219  0.444229  0.946009  ... -1.491405  1.646429 -2.186885   \n",
       "2   -0.070692  0.745408 -0.564481  ...  0.811139 -0.157459  0.523464   \n",
       "3    1.085464 -0.576562  1.420364  ... -1.329795 -0.902679 -1.379600   \n",
       "4    0.136574 -0.281663  0.567977  ... -0.944494  0.928072 -1.437606   \n",
       "..        ...       ...       ...  ...       ...       ...       ...   \n",
       "346 -0.180402  0.904312 -0.568145  ...  0.899432 -0.168508  0.805343   \n",
       "347  0.506242  0.277128  0.002617  ... -0.143855 -0.099559 -0.082140   \n",
       "348 -2.152585  0.311117 -0.200979  ...  0.890187 -0.516264  0.889208   \n",
       "349 -2.152585  0.964074  1.694372  ...  1.045426  2.109592  0.889208   \n",
       "350 -0.201248  0.711952 -0.404679  ...  0.824418  0.363682  0.567734   \n",
       "\n",
       "           27        28        29        30        31        32        33  \n",
       "0   -0.179944  0.258866  0.014169  0.326102 -0.602186  0.622389 -0.502107  \n",
       "1    1.334364 -1.839333  1.091271 -1.937593  0.835878 -2.225374  0.526953  \n",
       "2    0.038813  0.701877  0.041157  0.709617 -0.122818  0.973862 -0.162487  \n",
       "3   -0.981522 -0.511586 -1.157167 -0.176764 -0.937688  0.108343 -0.786603  \n",
       "4    0.763413 -1.072515  0.637392 -1.084436  0.473350 -1.126275  0.635192  \n",
       "..        ...       ...       ...       ...       ...       ...       ...  \n",
       "346 -0.000751  0.923957  0.080783  1.134610 -0.203135  1.115263 -0.178246  \n",
       "347  0.048972  0.182649 -0.032672  0.509869 -0.484313  0.296955  0.285137  \n",
       "348  0.416862 -0.002843  0.016633  1.134610  0.445427  1.246625  0.768940  \n",
       "349  1.947300  1.080843  2.026431  1.134610  1.957315  1.246625 -2.169224  \n",
       "350  0.236103  0.636859 -0.014890  0.814109  0.139992  0.878253  0.122415  \n",
       "\n",
       "[351 rows x 34 columns]"
      ]
     },
     "execution_count": 6,
     "metadata": {},
     "output_type": "execute_result"
    }
   ],
   "source": [
    "x = pd.DataFrame(StandardScaler().fit_transform(x))  # applying standard scaling\n",
    "x"
   ]
  },
  {
   "cell_type": "code",
   "execution_count": 7,
   "metadata": {
    "executionInfo": {
     "elapsed": 1616,
     "status": "aborted",
     "timestamp": 1617089068011,
     "user": {
      "displayName": "Tariq Jamil",
      "photoUrl": "https://lh3.googleusercontent.com/a-/AOh14GgDTWFYRmAzAYPlKEXPBbLUin4uLOPxYf0jwdLNofE=s64",
      "userId": "14932491825632509938"
     },
     "user_tz": -300
    },
    "id": "QCVbB_672DJd"
   },
   "outputs": [],
   "source": [
    "from sklearn.model_selection import train_test_split\n",
    "\n",
    "# Defines ratios, w.r.t. whole dataset.\n",
    "ratio_train = 0.5  # 50%\n",
    "ratio_test  = 0.3  # 30%\n",
    "ratio_val   = 0.2  # 20%\n",
    "# Produces 30% test split.\n",
    "x_remaining, x_test, y_remaining, y_test = train_test_split(x, y, test_size=ratio_test, random_state=42)\n",
    "\n",
    "# Adjusts val ratio, w.r.t. remaining dataset \n",
    "ratio_remaining = 1 - ratio_test   # (70% left).\n",
    "ratio_val_adjusted = ratio_val / ratio_remaining  # 20% of 70%\n",
    "\n",
    "# Produces train and val splits.\n",
    "x_train, x_val, y_train, y_val = train_test_split(\n",
    "    x_remaining, y_remaining, test_size=ratio_val_adjusted)"
   ]
  },
  {
   "cell_type": "code",
   "execution_count": 8,
   "metadata": {
    "executionInfo": {
     "elapsed": 14206,
     "status": "ok",
     "timestamp": 1616675168281,
     "user": {
      "displayName": "Tariq Jamil",
      "photoUrl": "https://lh3.googleusercontent.com/a-/AOh14GgDTWFYRmAzAYPlKEXPBbLUin4uLOPxYf0jwdLNofE=s64",
      "userId": "14932491825632509938"
     },
     "user_tz": -300
    },
    "id": "s6Q0t3OA7zOo"
   },
   "outputs": [],
   "source": [
    "from keras import models\n",
    "from keras import layers\n",
    "\n",
    "model=models.Sequential()\n",
    "model.add(layers.Dense(34, activation='relu', input_shape=(x_train.shape[1],)))\n",
    "model.add(layers.Dense(10, activation='relu'))\n",
    "model.add(layers.Dense(8, activation='relu'))\n",
    "model.add(layers.Dense(6, activation='relu'))\n",
    "model.add(layers.Dense(1, activation='sigmoid'))"
   ]
  },
  {
   "cell_type": "code",
   "execution_count": 9,
   "metadata": {
    "executionInfo": {
     "elapsed": 14204,
     "status": "ok",
     "timestamp": 1616675168283,
     "user": {
      "displayName": "Tariq Jamil",
      "photoUrl": "https://lh3.googleusercontent.com/a-/AOh14GgDTWFYRmAzAYPlKEXPBbLUin4uLOPxYf0jwdLNofE=s64",
      "userId": "14932491825632509938"
     },
     "user_tz": -300
    },
    "id": "cDkTCRbw7zOp"
   },
   "outputs": [],
   "source": [
    "from keras import optimizers\n",
    "from keras import losses\n",
    "from keras import metrics\n",
    "\n",
    "model.compile(optimizer='rmsprop',\n",
    "             #loss='binary_crossebtropy',\n",
    "             loss='binary_crossentropy',\n",
    "             metrics='accuracy')"
   ]
  },
  {
   "cell_type": "code",
   "execution_count": 10,
   "metadata": {
    "executionInfo": {
     "elapsed": 14201,
     "status": "ok",
     "timestamp": 1616675168284,
     "user": {
      "displayName": "Tariq Jamil",
      "photoUrl": "https://lh3.googleusercontent.com/a-/AOh14GgDTWFYRmAzAYPlKEXPBbLUin4uLOPxYf0jwdLNofE=s64",
      "userId": "14932491825632509938"
     },
     "user_tz": -300
    },
    "id": "VjRzMdLM7zOp"
   },
   "outputs": [],
   "source": [
    "#model.compile(optimizer=optimizers.RMSprop(lr=0.001),\n",
    "#             loss=losses.mse,\n",
    "#             metrics=metrics.binary_accuracy)"
   ]
  },
  {
   "cell_type": "code",
   "execution_count": 11,
   "metadata": {
    "colab": {
     "base_uri": "https://localhost:8080/"
    },
    "executionInfo": {
     "elapsed": 29637,
     "status": "ok",
     "timestamp": 1616675183734,
     "user": {
      "displayName": "Tariq Jamil",
      "photoUrl": "https://lh3.googleusercontent.com/a-/AOh14GgDTWFYRmAzAYPlKEXPBbLUin4uLOPxYf0jwdLNofE=s64",
      "userId": "14932491825632509938"
     },
     "user_tz": -300
    },
    "id": "g-G5kMoF7zOr",
    "outputId": "db91c041-71d5-483d-c1f3-64e3ca3c6453"
   },
   "outputs": [
    {
     "name": "stdout",
     "output_type": "stream",
     "text": [
      "Epoch 1/6\n",
      "174/174 [==============================] - 3s 11ms/step - loss: 0.6204 - accuracy: 0.6635 - val_loss: 0.4167 - val_accuracy: 0.8592\n",
      "Epoch 2/6\n",
      "174/174 [==============================] - 1s 6ms/step - loss: 0.3821 - accuracy: 0.8454 - val_loss: 0.2917 - val_accuracy: 0.9296\n",
      "Epoch 3/6\n",
      "174/174 [==============================] - 1s 6ms/step - loss: 0.2383 - accuracy: 0.9000 - val_loss: 0.1990 - val_accuracy: 0.9718\n",
      "Epoch 4/6\n",
      "174/174 [==============================] - 1s 7ms/step - loss: 0.1628 - accuracy: 0.9451 - val_loss: 0.1518 - val_accuracy: 0.9577\n",
      "Epoch 5/6\n",
      "174/174 [==============================] - 1s 8ms/step - loss: 0.1361 - accuracy: 0.9497 - val_loss: 0.1238 - val_accuracy: 0.9577\n",
      "Epoch 6/6\n",
      "174/174 [==============================] - 1s 7ms/step - loss: 0.0854 - accuracy: 0.9812 - val_loss: 0.1459 - val_accuracy: 0.9577\n"
     ]
    }
   ],
   "source": [
    "history = model.fit(x_train,\n",
    "                    y_train,\n",
    "                    epochs=6,\n",
    "                    batch_size=1,\n",
    "                    validation_data=(x_val, y_val))"
   ]
  },
  {
   "cell_type": "code",
   "execution_count": 12,
   "metadata": {
    "colab": {
     "base_uri": "https://localhost:8080/"
    },
    "executionInfo": {
     "elapsed": 29625,
     "status": "ok",
     "timestamp": 1616675183734,
     "user": {
      "displayName": "Tariq Jamil",
      "photoUrl": "https://lh3.googleusercontent.com/a-/AOh14GgDTWFYRmAzAYPlKEXPBbLUin4uLOPxYf0jwdLNofE=s64",
      "userId": "14932491825632509938"
     },
     "user_tz": -300
    },
    "id": "XbaOnEpE7zOs",
    "outputId": "9886f7fc-33bf-4d78-f2f2-c6435d1e5b54"
   },
   "outputs": [
    {
     "data": {
      "text/plain": [
       "dict_keys(['loss', 'accuracy', 'val_loss', 'val_accuracy'])"
      ]
     },
     "execution_count": 12,
     "metadata": {},
     "output_type": "execute_result"
    }
   ],
   "source": [
    "history_dict=history.history\n",
    "history_dict.keys()"
   ]
  },
  {
   "cell_type": "code",
   "execution_count": 13,
   "metadata": {
    "colab": {
     "base_uri": "https://localhost:8080/",
     "height": 295
    },
    "executionInfo": {
     "elapsed": 30748,
     "status": "ok",
     "timestamp": 1616675184864,
     "user": {
      "displayName": "Tariq Jamil",
      "photoUrl": "https://lh3.googleusercontent.com/a-/AOh14GgDTWFYRmAzAYPlKEXPBbLUin4uLOPxYf0jwdLNofE=s64",
      "userId": "14932491825632509938"
     },
     "user_tz": -300
    },
    "id": "2BSBPe0-9YuM",
    "outputId": "00db4370-e274-4616-f9d2-c19ffc068d83"
   },
   "outputs": [
    {
     "data": {
      "image/png": "[encoded data removed]",
      "text/plain": [
       "<Figure size 432x288 with 1 Axes>"
      ]
     },
     "metadata": {
      "needs_background": "light"
     },
     "output_type": "display_data"
    }
   ],
   "source": [
    "import matplotlib.pyplot as plt\n",
    "\n",
    "history_dict=history.history\n",
    "loss_value = history_dict['loss']\n",
    "val_loss_value=history_dict['val_loss']\n",
    "acc=history_dict['accuracy']   # missing in the book\n",
    "val_acc=history_dict['val_accuracy']\n",
    "\n",
    "epochs = np.arange(1, len(acc)+1)\n",
    "\n",
    "plt.plot(epochs, loss_value, 'bo', label='Training loss')\n",
    "plt.plot(epochs, val_loss_value, 'b', label='Validation loss')\n",
    "\n",
    "plt.title('Training & Validation Loss')\n",
    "plt.xlabel('Epochs')\n",
    "plt.ylabel('Loss')\n",
    "plt.legend()\n",
    "\n",
    "plt.show()"
   ]
  },
  {
   "cell_type": "code",
   "execution_count": 14,
   "metadata": {
    "colab": {
     "base_uri": "https://localhost:8080/",
     "height": 295
    },
    "executionInfo": {
     "elapsed": 30737,
     "status": "ok",
     "timestamp": 1616675184865,
     "user": {
      "displayName": "Tariq Jamil",
      "photoUrl": "https://lh3.googleusercontent.com/a-/AOh14GgDTWFYRmAzAYPlKEXPBbLUin4uLOPxYf0jwdLNofE=s64",
      "userId": "14932491825632509938"
     },
     "user_tz": -300
    },
    "id": "a0CHQAwQY0_I",
    "outputId": "b94ab7ca-46d2-42b1-dfef-96e10f5a54d6"
   },
   "outputs": [
    {
     "data": {
      "image/png": "[encoded data removed]",
      "text/plain": [
       "<Figure size 432x288 with 1 Axes>"
      ]
     },
     "metadata": {
      "needs_background": "light"
     },
     "output_type": "display_data"
    }
   ],
   "source": [
    "plt.plot(epochs, acc, 'bo', label='Training Accuracy')\n",
    "plt.plot(epochs, val_acc, 'b', label='Validation Accuracy')\n",
    "plt.title('Training & Validation Accuracy')\n",
    "plt.xlabel('Epochs')\n",
    "plt.ylabel('Accuracy')\n",
    "plt.legend()\n",
    "plt.show()"
   ]
  },
  {
   "cell_type": "code",
   "execution_count": 15,
   "metadata": {},
   "outputs": [
    {
     "name": "stdout",
     "output_type": "stream",
     "text": [
      "4/4 [==============================] - 1s 10ms/step - loss: 0.2741 - accuracy: 0.8774\n"
     ]
    },
    {
     "data": {
      "text/plain": [
       "0.2741304039955139"
      ]
     },
     "metadata": {},
     "output_type": "display_data"
    },
    {
     "data": {
      "text/plain": [
       "0.8773584961891174"
      ]
     },
     "metadata": {},
     "output_type": "display_data"
    }
   ],
   "source": [
    "test_loss_score, test_acc_score = model.evaluate(x_test, y_test)\n",
    "\n",
    "display(test_loss_score, test_acc_score)"
   ]
  },
  {
   "cell_type": "code",
   "execution_count": null,
   "metadata": {},
   "outputs": [],
   "source": [
    "# agter 6 epochs loss and accuracy values start diverging."
   ]
  }
 ],
 "metadata": {
  "kernelspec": {
   "display_name": "Python 3",
   "language": "python",
   "name": "python3"
  },
  "language_info": {
   "codemirror_mode": {
    "name": "ipython",
    "version": 3
   },
   "file_extension": ".py",
   "mimetype": "text/x-python",
   "name": "python",
   "nbconvert_exporter": "python",
   "pygments_lexer": "ipython3",
   "version": "3.8.5"
  }
 },
 "nbformat": 4,
 "nbformat_minor": 4
}
