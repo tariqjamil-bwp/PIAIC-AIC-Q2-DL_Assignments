{
 "cells": [
  {
   "cell_type": "markdown",
   "metadata": {},
   "source": [
    "# Credit Card Fraud Detection::"
   ]
  },
  {
   "cell_type": "markdown",
   "metadata": {},
   "source": [
    "Download dataset from this link:\n",
    "\n",
    "https://www.kaggle.com/mlg-ulb/creditcardfraud"
   ]
  },
  {
   "cell_type": "markdown",
   "metadata": {},
   "source": [
    "# Description about dataset::"
   ]
  },
  {
   "cell_type": "markdown",
   "metadata": {},
   "source": [
    "The datasets contains transactions made by credit cards in September 2013 by european cardholders.\n",
    "This dataset presents transactions that occurred in two days, where we have 492 frauds out of 284,807 transactions. The dataset is highly unbalanced, the positive class (frauds) account for 0.172% of all transactions.\n",
    "\n",
    "It contains only numerical input variables which are the result of a PCA transformation. Unfortunately, due to confidentiality issues, we cannot provide the original features and more background information about the data. Features V1, V2, … V28 are the principal components obtained with PCA, the only features which have not been transformed with PCA are 'Time' and 'Amount'. Feature 'Time' contains the seconds elapsed between each transaction and the first transaction in the dataset. The feature 'Amount' is the transaction Amount, this feature can be used for example-dependant cost-senstive learning. \n",
    "\n",
    "\n",
    "### Feature 'Class' is the response variable and it takes value 1 in case of fraud and 0 otherwise."
   ]
  },
  {
   "cell_type": "markdown",
   "metadata": {},
   "source": [
    "# WORKFLOW :"
   ]
  },
  {
   "cell_type": "markdown",
   "metadata": {},
   "source": [
    "1.Load Data\n",
    "\n",
    "2.Check Missing Values ( If Exist ; Fill each record with mean of its feature )\n",
    "\n",
    "3.Standardized the Input Variables. \n",
    "\n",
    "4.Split into 50% Training(Samples,Labels) , 30% Test(Samples,Labels) and 20% Validation Data(Samples,Labels).\n",
    "\n",
    "5.Model : input Layer (No. of features ), 3 hidden layers including 10,8,6 unit & Output Layer with activation function relu/tanh (check by experiment).\n",
    "\n",
    "6.Compilation Step (Note : Its a Binary problem , select loss , metrics according to it)\n",
    "\n",
    "7.Train the Model with Epochs (100).\n",
    "\n",
    "8.If the model gets overfit tune your model by changing the units , No. of layers , epochs , add dropout layer or add Regularizer according to the need .\n",
    "\n",
    "9.Prediction should be > 92%\n",
    "10.Evaluation Step\n",
    "11Prediction\n"
   ]
  },
  {
   "cell_type": "markdown",
   "metadata": {},
   "source": [
    "# Task::"
   ]
  },
  {
   "cell_type": "markdown",
   "metadata": {},
   "source": [
    "## Identify fraudulent credit card transactions."
   ]
  },
  {
   "cell_type": "code",
   "execution_count": 1,
   "metadata": {
    "colab": {
     "base_uri": "https://localhost:8080/"
    },
    "executionInfo": {
     "elapsed": 9965,
     "status": "ok",
     "timestamp": 1616675163956,
     "user": {
      "displayName": "Tariq Jamil",
      "photoUrl": "https://lh3.googleusercontent.com/a-/AOh14GgDTWFYRmAzAYPlKEXPBbLUin4uLOPxYf0jwdLNofE=s64",
      "userId": "14932491825632509938"
     },
     "user_tz": -300
    },
    "id": "WMYdjE_u7zOV",
    "outputId": "0f4fa0fa-1848-41af-fa31-3b4295ce42b0"
   },
   "outputs": [],
   "source": [
    "import numpy as np\n",
    "import pandas as pd\n",
    "\n",
    "# 1.Loadig data from local file named \"creditcard.csv\"\n",
    "# Also shuffling the data randomly\n",
    "\n",
    "data = pd.read_csv(\"creditcard.csv\") \n",
    "# Preview the first 5 lines of the loaded data \n",
    "data = data.sample(frac=1)\n",
    "\n",
    "#data.head()"
   ]
  },
  {
   "cell_type": "code",
   "execution_count": 2,
   "metadata": {
    "colab": {
     "base_uri": "https://localhost:8080/"
    },
    "executionInfo": {
     "elapsed": 9950,
     "status": "ok",
     "timestamp": 1616675163960,
     "user": {
      "displayName": "Tariq Jamil",
      "photoUrl": "https://lh3.googleusercontent.com/a-/AOh14GgDTWFYRmAzAYPlKEXPBbLUin4uLOPxYf0jwdLNofE=s64",
      "userId": "14932491825632509938"
     },
     "user_tz": -300
    },
    "id": "-YMDEPYv7zOf",
    "outputId": "b6c9f836-cced-4800-bd4e-8bc06d902593"
   },
   "outputs": [
    {
     "name": "stdout",
     "output_type": "stream",
     "text": [
      "<class 'pandas.core.frame.DataFrame'>\n",
      "Int64Index: 284807 entries, 125997 to 223928\n",
      "Data columns (total 31 columns):\n",
      " #   Column  Non-Null Count   Dtype  \n",
      "---  ------  --------------   -----  \n",
      " 0   Time    284807 non-null  float64\n",
      " 1   V1      284807 non-null  float64\n",
      " 2   V2      284807 non-null  float64\n",
      " 3   V3      284807 non-null  float64\n",
      " 4   V4      284807 non-null  float64\n",
      " 5   V5      284807 non-null  float64\n",
      " 6   V6      284807 non-null  float64\n",
      " 7   V7      284807 non-null  float64\n",
      " 8   V8      284807 non-null  float64\n",
      " 9   V9      284807 non-null  float64\n",
      " 10  V10     284807 non-null  float64\n",
      " 11  V11     284807 non-null  float64\n",
      " 12  V12     284807 non-null  float64\n",
      " 13  V13     284807 non-null  float64\n",
      " 14  V14     284807 non-null  float64\n",
      " 15  V15     284807 non-null  float64\n",
      " 16  V16     284807 non-null  float64\n",
      " 17  V17     284807 non-null  float64\n",
      " 18  V18     284807 non-null  float64\n",
      " 19  V19     284807 non-null  float64\n",
      " 20  V20     284807 non-null  float64\n",
      " 21  V21     284807 non-null  float64\n",
      " 22  V22     284807 non-null  float64\n",
      " 23  V23     284807 non-null  float64\n",
      " 24  V24     284807 non-null  float64\n",
      " 25  V25     284807 non-null  float64\n",
      " 26  V26     284807 non-null  float64\n",
      " 27  V27     284807 non-null  float64\n",
      " 28  V28     284807 non-null  float64\n",
      " 29  Amount  284807 non-null  float64\n",
      " 30  Class   284807 non-null  int64  \n",
      "dtypes: float64(30), int64(1)\n",
      "memory usage: 69.5 MB\n",
      "None\n"
     ]
    }
   ],
   "source": [
    "# checking for NULL values\n",
    "print(data.info())\n",
    "\n",
    "# there is no null value "
   ]
  },
  {
   "cell_type": "code",
   "execution_count": 3,
   "metadata": {
    "colab": {
     "base_uri": "https://localhost:8080/"
    },
    "executionInfo": {
     "elapsed": 9950,
     "status": "ok",
     "timestamp": 1616675163960,
     "user": {
      "displayName": "Tariq Jamil",
      "photoUrl": "https://lh3.googleusercontent.com/a-/AOh14GgDTWFYRmAzAYPlKEXPBbLUin4uLOPxYf0jwdLNofE=s64",
      "userId": "14932491825632509938"
     },
     "user_tz": -300
    },
    "id": "-YMDEPYv7zOf",
    "outputId": "b6c9f836-cced-4800-bd4e-8bc06d902593"
   },
   "outputs": [],
   "source": [
    "#data1 = data.iloc[:,1:29]  # excluding time\n",
    "#data2 = data.iloc[:,30:]   # excluding amount\n",
    "#data3 = data1.join(data2)\n",
    "#data3.info()"
   ]
  },
  {
   "cell_type": "code",
   "execution_count": 4,
   "metadata": {
    "colab": {
     "base_uri": "https://localhost:8080/"
    },
    "executionInfo": {
     "elapsed": 9950,
     "status": "ok",
     "timestamp": 1616675163960,
     "user": {
      "displayName": "Tariq Jamil",
      "photoUrl": "https://lh3.googleusercontent.com/a-/AOh14GgDTWFYRmAzAYPlKEXPBbLUin4uLOPxYf0jwdLNofE=s64",
      "userId": "14932491825632509938"
     },
     "user_tz": -300
    },
    "id": "-YMDEPYv7zOf",
    "outputId": "b6c9f836-cced-4800-bd4e-8bc06d902593"
   },
   "outputs": [
    {
     "name": "stdout",
     "output_type": "stream",
     "text": [
      "                Time            V1            V2            V3            V4  \\\n",
      "count  284807.000000  2.848070e+05  2.848070e+05  2.848070e+05  2.848070e+05   \n",
      "mean    94813.859575  1.181024e-15  3.216944e-16 -1.414025e-15  2.090664e-15   \n",
      "std     47488.145955  1.958696e+00  1.651309e+00  1.516255e+00  1.415869e+00   \n",
      "min         0.000000 -5.640751e+01 -7.271573e+01 -4.832559e+01 -5.683171e+00   \n",
      "25%     54201.500000 -9.203734e-01 -5.985499e-01 -8.903648e-01 -8.486401e-01   \n",
      "50%     84692.000000  1.810880e-02  6.548556e-02  1.798463e-01 -1.984653e-02   \n",
      "75%    139320.500000  1.315642e+00  8.037239e-01  1.027196e+00  7.433413e-01   \n",
      "max    172792.000000  2.454930e+00  2.205773e+01  9.382558e+00  1.687534e+01   \n",
      "\n",
      "                 V5            V6            V7            V8            V9  \\\n",
      "count  2.848070e+05  2.848070e+05  2.848070e+05  2.848070e+05  2.848070e+05   \n",
      "mean   1.013999e-15  1.485014e-15 -5.745376e-16  1.151998e-16 -2.406747e-15   \n",
      "std    1.380247e+00  1.332271e+00  1.237094e+00  1.194353e+00  1.098632e+00   \n",
      "min   -1.137433e+02 -2.616051e+01 -4.355724e+01 -7.321672e+01 -1.343407e+01   \n",
      "25%   -6.915971e-01 -7.682956e-01 -5.540759e-01 -2.086297e-01 -6.430976e-01   \n",
      "50%   -5.433583e-02 -2.741871e-01  4.010308e-02  2.235804e-02 -5.142873e-02   \n",
      "75%    6.119264e-01  3.985649e-01  5.704361e-01  3.273459e-01  5.971390e-01   \n",
      "max    3.480167e+01  7.330163e+01  1.205895e+02  2.000721e+01  1.559499e+01   \n",
      "\n",
      "       ...           V21           V22           V23           V24  \\\n",
      "count  ...  2.848070e+05  2.848070e+05  2.848070e+05  2.848070e+05   \n",
      "mean   ...  1.688071e-16 -3.668877e-16  2.633142e-16  4.474607e-15   \n",
      "std    ...  7.345240e-01  7.257016e-01  6.244603e-01  6.056471e-01   \n",
      "min    ... -3.483038e+01 -1.093314e+01 -4.480774e+01 -2.836627e+00   \n",
      "25%    ... -2.283949e-01 -5.423504e-01 -1.618463e-01 -3.545861e-01   \n",
      "50%    ... -2.945017e-02  6.781943e-03 -1.119293e-02  4.097606e-02   \n",
      "75%    ...  1.863772e-01  5.285536e-01  1.476421e-01  4.395266e-01   \n",
      "max    ...  2.720284e+01  1.050309e+01  2.252841e+01  4.584549e+00   \n",
      "\n",
      "                V25           V26           V27           V28         Amount  \\\n",
      "count  2.848070e+05  2.848070e+05  2.848070e+05  2.848070e+05  284807.000000   \n",
      "mean   5.186607e-16  1.683192e-15 -3.691036e-16 -1.307707e-16      88.349619   \n",
      "std    5.212781e-01  4.822270e-01  4.036325e-01  3.300833e-01     250.120109   \n",
      "min   -1.029540e+01 -2.604551e+00 -2.256568e+01 -1.543008e+01       0.000000   \n",
      "25%   -3.171451e-01 -3.269839e-01 -7.083953e-02 -5.295979e-02       5.600000   \n",
      "50%    1.659350e-02 -5.213911e-02  1.342146e-03  1.124383e-02      22.000000   \n",
      "75%    3.507156e-01  2.409522e-01  9.104512e-02  7.827995e-02      77.165000   \n",
      "max    7.519589e+00  3.517346e+00  3.161220e+01  3.384781e+01   25691.160000   \n",
      "\n",
      "               Class  \n",
      "count  284807.000000  \n",
      "mean        0.001727  \n",
      "std         0.041527  \n",
      "min         0.000000  \n",
      "25%         0.000000  \n",
      "50%         0.000000  \n",
      "75%         0.000000  \n",
      "max         1.000000  \n",
      "\n",
      "[8 rows x 31 columns]\n"
     ]
    }
   ],
   "source": [
    "# Checking the data spread.\n",
    "print(data.describe())\n",
    "\n",
    "# too much spread as in time and amount as compared to other variables\n",
    "# so we need to normalize it"
   ]
  },
  {
   "cell_type": "code",
   "execution_count": 5,
   "metadata": {
    "colab": {
     "base_uri": "https://localhost:8080/"
    },
    "executionInfo": {
     "elapsed": 9950,
     "status": "ok",
     "timestamp": 1616675163960,
     "user": {
      "displayName": "Tariq Jamil",
      "photoUrl": "https://lh3.googleusercontent.com/a-/AOh14GgDTWFYRmAzAYPlKEXPBbLUin4uLOPxYf0jwdLNofE=s64",
      "userId": "14932491825632509938"
     },
     "user_tz": -300
    },
    "id": "-YMDEPYv7zOf",
    "outputId": "b6c9f836-cced-4800-bd4e-8bc06d902593"
   },
   "outputs": [],
   "source": [
    "# Appliting standard scaler on variable amount\n",
    "\n",
    "from sklearn.preprocessing import StandardScaler\n",
    "StdScaler = StandardScaler()  # normalizing the values using standard scaler between 0-1\n",
    "time   = data['Time'].values\n",
    "amount = data['Amount'].values\n",
    "\n",
    "data['Time'] = StdScaler.fit_transform(time.reshape(-1, 1))\n",
    "data['Amount'] = StdScaler.fit_transform(amount.reshape(-1, 1))\n",
    "\n",
    "#data['Amount'].head(10)"
   ]
  },
  {
   "cell_type": "code",
   "execution_count": 6,
   "metadata": {
    "colab": {
     "base_uri": "https://localhost:8080/"
    },
    "executionInfo": {
     "elapsed": 11276,
     "status": "ok",
     "timestamp": 1616675165301,
     "user": {
      "displayName": "Tariq Jamil",
      "photoUrl": "https://lh3.googleusercontent.com/a-/AOh14GgDTWFYRmAzAYPlKEXPBbLUin4uLOPxYf0jwdLNofE=s64",
      "userId": "14932491825632509938"
     },
     "user_tz": -300
    },
    "id": "89N4c-Fg7zOh",
    "outputId": "19319b14-ccdf-464d-c092-dbb11e44b023"
   },
   "outputs": [],
   "source": [
    "# splittig the features and target variables\n",
    "\n",
    "x = data.drop('Class', axis = 1).values\n",
    "y = data['Class'].values"
   ]
  },
  {
   "cell_type": "code",
   "execution_count": 7,
   "metadata": {
    "executionInfo": {
     "elapsed": 1616,
     "status": "aborted",
     "timestamp": 1617089068011,
     "user": {
      "displayName": "Tariq Jamil",
      "photoUrl": "https://lh3.googleusercontent.com/a-/AOh14GgDTWFYRmAzAYPlKEXPBbLUin4uLOPxYf0jwdLNofE=s64",
      "userId": "14932491825632509938"
     },
     "user_tz": -300
    },
    "id": "QCVbB_672DJd"
   },
   "outputs": [],
   "source": [
    "from sklearn.model_selection import train_test_split\n",
    "\n",
    "# Defines ratios, w.r.t. whole dataset.\n",
    "ratio_train = 0.5  # 50%\n",
    "ratio_test  = 0.3  # 30%\n",
    "ratio_val   = 0.2  # 20%\n",
    "# Produces 30% test split.\n",
    "x_remaining, x_test, y_remaining, y_test = train_test_split(x, y, test_size=ratio_test, random_state=42)\n",
    "\n",
    "# Adjusts val ratio, w.r.t. remaining dataset \n",
    "ratio_remaining = 1 - ratio_test   # (70% left).\n",
    "ratio_val_adjusted = ratio_val / ratio_remaining  # 20% of 70%\n",
    "\n",
    "# Produces train and val splits.\n",
    "x_train, x_val, y_train, y_val = train_test_split(\n",
    "    x_remaining, y_remaining, test_size=ratio_val_adjusted)"
   ]
  },
  {
   "cell_type": "code",
   "execution_count": 8,
   "metadata": {
    "executionInfo": {
     "elapsed": 14206,
     "status": "ok",
     "timestamp": 1616675168281,
     "user": {
      "displayName": "Tariq Jamil",
      "photoUrl": "https://lh3.googleusercontent.com/a-/AOh14GgDTWFYRmAzAYPlKEXPBbLUin4uLOPxYf0jwdLNofE=s64",
      "userId": "14932491825632509938"
     },
     "user_tz": -300
    },
    "id": "s6Q0t3OA7zOo"
   },
   "outputs": [],
   "source": [
    "# creating model\n",
    "\n",
    "from keras import models\n",
    "from keras import layers\n",
    "\n",
    "model=models.Sequential()\n",
    "model.add(layers.Dense(30, activation='relu', input_shape=(x_train.shape[1],)))\n",
    "model.add(layers.Dense(10, activation='relu'))\n",
    "model.add(layers.Dense(8, activation='relu'))\n",
    "model.add(layers.Dense(6, activation='relu'))\n",
    "model.add(layers.Dense(1, activation='sigmoid'))"
   ]
  },
  {
   "cell_type": "code",
   "execution_count": 9,
   "metadata": {
    "executionInfo": {
     "elapsed": 14204,
     "status": "ok",
     "timestamp": 1616675168283,
     "user": {
      "displayName": "Tariq Jamil",
      "photoUrl": "https://lh3.googleusercontent.com/a-/AOh14GgDTWFYRmAzAYPlKEXPBbLUin4uLOPxYf0jwdLNofE=s64",
      "userId": "14932491825632509938"
     },
     "user_tz": -300
    },
    "id": "cDkTCRbw7zOp"
   },
   "outputs": [],
   "source": [
    "# compiling model\n",
    "\n",
    "from keras import optimizers\n",
    "from keras import losses\n",
    "from keras import metrics\n",
    "\n",
    "model.compile(optimizer='rmsprop',\n",
    "             #loss='binary_crossebtropy',\n",
    "             loss='binary_crossentropy',\n",
    "             metrics='accuracy')"
   ]
  },
  {
   "cell_type": "code",
   "execution_count": 10,
   "metadata": {
    "executionInfo": {
     "elapsed": 14201,
     "status": "ok",
     "timestamp": 1616675168284,
     "user": {
      "displayName": "Tariq Jamil",
      "photoUrl": "https://lh3.googleusercontent.com/a-/AOh14GgDTWFYRmAzAYPlKEXPBbLUin4uLOPxYf0jwdLNofE=s64",
      "userId": "14932491825632509938"
     },
     "user_tz": -300
    },
    "id": "VjRzMdLM7zOp"
   },
   "outputs": [],
   "source": [
    "#model.compile(optimizer=optimizers.RMSprop(lr=0.001),\n",
    "#             loss=losses.mse,\n",
    "#             metrics=metrics.binary_accuracy)"
   ]
  },
  {
   "cell_type": "code",
   "execution_count": 11,
   "metadata": {
    "colab": {
     "base_uri": "https://localhost:8080/"
    },
    "executionInfo": {
     "elapsed": 29637,
     "status": "ok",
     "timestamp": 1616675183734,
     "user": {
      "displayName": "Tariq Jamil",
      "photoUrl": "https://lh3.googleusercontent.com/a-/AOh14GgDTWFYRmAzAYPlKEXPBbLUin4uLOPxYf0jwdLNofE=s64",
      "userId": "14932491825632509938"
     },
     "user_tz": -300
    },
    "id": "g-G5kMoF7zOr",
    "outputId": "db91c041-71d5-483d-c1f3-64e3ca3c6453"
   },
   "outputs": [
    {
     "name": "stdout",
     "output_type": "stream",
     "text": [
      "Epoch 1/50\n",
      "2226/2226 [==============================] - 3s 1ms/step - loss: 0.0802 - accuracy: 0.9856 - val_loss: 0.0053 - val_accuracy: 0.9993\n",
      "Epoch 2/50\n",
      "2226/2226 [==============================] - 2s 967us/step - loss: 0.0050 - accuracy: 0.9995 - val_loss: 0.0057 - val_accuracy: 0.9994\n",
      "Epoch 3/50\n",
      "2226/2226 [==============================] - 2s 1ms/step - loss: 0.0050 - accuracy: 0.9994 - val_loss: 0.0054 - val_accuracy: 0.9993\n",
      "Epoch 4/50\n",
      "2226/2226 [==============================] - 2s 963us/step - loss: 0.0056 - accuracy: 0.9993 - val_loss: 0.0061 - val_accuracy: 0.9993\n",
      "Epoch 5/50\n",
      "2226/2226 [==============================] - 2s 990us/step - loss: 0.0050 - accuracy: 0.9995 - val_loss: 0.0053 - val_accuracy: 0.9993\n",
      "Epoch 6/50\n",
      "2226/2226 [==============================] - 2s 982us/step - loss: 0.0052 - accuracy: 0.9994 - val_loss: 0.0058 - val_accuracy: 0.9993\n",
      "Epoch 7/50\n",
      "2226/2226 [==============================] - 2s 974us/step - loss: 0.0044 - accuracy: 0.9995 - val_loss: 0.0055 - val_accuracy: 0.9994\n",
      "Epoch 8/50\n",
      "2226/2226 [==============================] - 2s 996us/step - loss: 0.0050 - accuracy: 0.9994 - val_loss: 0.0058 - val_accuracy: 0.9994\n",
      "Epoch 9/50\n",
      "2226/2226 [==============================] - 2s 954us/step - loss: 0.0048 - accuracy: 0.9995 - val_loss: 0.0061 - val_accuracy: 0.9993\n",
      "Epoch 10/50\n",
      "2226/2226 [==============================] - 2s 981us/step - loss: 0.0053 - accuracy: 0.9994 - val_loss: 0.0070 - val_accuracy: 0.9993\n",
      "Epoch 11/50\n",
      "2226/2226 [==============================] - 2s 982us/step - loss: 0.0058 - accuracy: 0.9995 - val_loss: 0.0053 - val_accuracy: 0.9993\n",
      "Epoch 12/50\n",
      "2226/2226 [==============================] - 2s 935us/step - loss: 0.0050 - accuracy: 0.9994 - val_loss: 0.0064 - val_accuracy: 0.9993\n",
      "Epoch 13/50\n",
      "2226/2226 [==============================] - 2s 973us/step - loss: 0.0052 - accuracy: 0.9995 - val_loss: 0.0064 - val_accuracy: 0.9993\n",
      "Epoch 14/50\n",
      "2226/2226 [==============================] - 2s 985us/step - loss: 0.0051 - accuracy: 0.9994 - val_loss: 0.0069 - val_accuracy: 0.9993\n",
      "Epoch 15/50\n",
      "2226/2226 [==============================] - 2s 977us/step - loss: 0.0060 - accuracy: 0.9994 - val_loss: 0.0060 - val_accuracy: 0.9993\n",
      "Epoch 16/50\n",
      "2226/2226 [==============================] - 2s 977us/step - loss: 0.0057 - accuracy: 0.9994 - val_loss: 0.0056 - val_accuracy: 0.9994\n",
      "Epoch 17/50\n",
      "2226/2226 [==============================] - 2s 972us/step - loss: 0.0041 - accuracy: 0.9996 - val_loss: 0.0063 - val_accuracy: 0.9994\n",
      "Epoch 18/50\n",
      "2226/2226 [==============================] - 2s 975us/step - loss: 0.0049 - accuracy: 0.9994 - val_loss: 0.0049 - val_accuracy: 0.9994\n",
      "Epoch 19/50\n",
      "2226/2226 [==============================] - 2s 987us/step - loss: 0.0046 - accuracy: 0.9992 - val_loss: 0.0043 - val_accuracy: 0.9994\n",
      "Epoch 20/50\n",
      "2226/2226 [==============================] - 2s 990us/step - loss: 0.0045 - accuracy: 0.9995 - val_loss: 0.0047 - val_accuracy: 0.9994\n",
      "Epoch 21/50\n",
      "2226/2226 [==============================] - 2s 992us/step - loss: 0.0043 - accuracy: 0.9995 - val_loss: 0.0049 - val_accuracy: 0.9994\n",
      "Epoch 22/50\n",
      "2226/2226 [==============================] - 2s 981us/step - loss: 0.0050 - accuracy: 0.9995 - val_loss: 0.0048 - val_accuracy: 0.9993\n",
      "Epoch 23/50\n",
      "2226/2226 [==============================] - 2s 987us/step - loss: 0.0042 - accuracy: 0.9995 - val_loss: 0.0048 - val_accuracy: 0.9994\n",
      "Epoch 24/50\n",
      "2226/2226 [==============================] - 2s 975us/step - loss: 0.0043 - accuracy: 0.9994 - val_loss: 0.0044 - val_accuracy: 0.9994\n",
      "Epoch 25/50\n",
      "2226/2226 [==============================] - 2s 979us/step - loss: 0.0040 - accuracy: 0.9995 - val_loss: 0.0043 - val_accuracy: 0.9994\n",
      "Epoch 26/50\n",
      "2226/2226 [==============================] - 2s 1ms/step - loss: 0.0048 - accuracy: 0.9993 - val_loss: 0.0081 - val_accuracy: 0.9993\n",
      "Epoch 27/50\n",
      "2226/2226 [==============================] - 2s 997us/step - loss: 0.0046 - accuracy: 0.9995 - val_loss: 0.0065 - val_accuracy: 0.9993\n",
      "Epoch 28/50\n",
      "2226/2226 [==============================] - 2s 971us/step - loss: 0.0041 - accuracy: 0.9996 - val_loss: 0.0057 - val_accuracy: 0.9993\n",
      "Epoch 29/50\n",
      "2226/2226 [==============================] - 2s 991us/step - loss: 0.0043 - accuracy: 0.9995 - val_loss: 0.0058 - val_accuracy: 0.9994\n",
      "Epoch 30/50\n",
      "2226/2226 [==============================] - 2s 1ms/step - loss: 0.0046 - accuracy: 0.9995 - val_loss: 0.0047 - val_accuracy: 0.9993\n",
      "Epoch 31/50\n",
      "2226/2226 [==============================] - 2s 990us/step - loss: 0.0043 - accuracy: 0.9993 - val_loss: 0.0048 - val_accuracy: 0.9993\n",
      "Epoch 32/50\n",
      "2226/2226 [==============================] - 2s 991us/step - loss: 0.0052 - accuracy: 0.9991 - val_loss: 0.0044 - val_accuracy: 0.9993\n",
      "Epoch 33/50\n",
      "2226/2226 [==============================] - 2s 994us/step - loss: 0.0050 - accuracy: 0.9993 - val_loss: 0.0060 - val_accuracy: 0.9994\n",
      "Epoch 34/50\n",
      "2226/2226 [==============================] - 2s 985us/step - loss: 0.0052 - accuracy: 0.9994 - val_loss: 0.0047 - val_accuracy: 0.9994\n",
      "Epoch 35/50\n",
      "2226/2226 [==============================] - 2s 983us/step - loss: 0.0042 - accuracy: 0.9995 - val_loss: 0.0049 - val_accuracy: 0.9993\n",
      "Epoch 36/50\n",
      "2226/2226 [==============================] - 2s 970us/step - loss: 0.0044 - accuracy: 0.9995 - val_loss: 0.0044 - val_accuracy: 0.9993\n",
      "Epoch 37/50\n",
      "2226/2226 [==============================] - 2s 995us/step - loss: 0.0042 - accuracy: 0.9996 - val_loss: 0.0047 - val_accuracy: 0.9993\n",
      "Epoch 38/50\n",
      "2226/2226 [==============================] - 2s 993us/step - loss: 0.0054 - accuracy: 0.9991 - val_loss: 0.0058 - val_accuracy: 0.9993\n",
      "Epoch 39/50\n",
      "2226/2226 [==============================] - 2s 973us/step - loss: 0.0044 - accuracy: 0.9995 - val_loss: 0.0050 - val_accuracy: 0.9994\n",
      "Epoch 40/50\n",
      "2226/2226 [==============================] - 2s 968us/step - loss: 0.0046 - accuracy: 0.9994 - val_loss: 0.0049 - val_accuracy: 0.9994\n",
      "Epoch 41/50\n",
      "2226/2226 [==============================] - 2s 971us/step - loss: 0.0046 - accuracy: 0.9994 - val_loss: 0.0063 - val_accuracy: 0.9994\n",
      "Epoch 42/50\n",
      "2226/2226 [==============================] - 2s 996us/step - loss: 0.0052 - accuracy: 0.9993 - val_loss: 0.0051 - val_accuracy: 0.9994\n",
      "Epoch 43/50\n",
      "2226/2226 [==============================] - 2s 995us/step - loss: 0.0040 - accuracy: 0.9995 - val_loss: 0.0059 - val_accuracy: 0.9993\n",
      "Epoch 44/50\n",
      "2226/2226 [==============================] - 2s 995us/step - loss: 0.0040 - accuracy: 0.9995 - val_loss: 0.0061 - val_accuracy: 0.9993\n",
      "Epoch 45/50\n",
      "2226/2226 [==============================] - 2s 993us/step - loss: 0.0054 - accuracy: 0.9994 - val_loss: 0.0046 - val_accuracy: 0.9994\n",
      "Epoch 46/50\n",
      "2226/2226 [==============================] - 2s 974us/step - loss: 0.0052 - accuracy: 0.9995 - val_loss: 0.0047 - val_accuracy: 0.9994\n",
      "Epoch 47/50\n",
      "2226/2226 [==============================] - 2s 985us/step - loss: 0.0052 - accuracy: 0.9994 - val_loss: 0.0053 - val_accuracy: 0.9993\n",
      "Epoch 48/50\n",
      "2226/2226 [==============================] - 2s 985us/step - loss: 0.0036 - accuracy: 0.9995 - val_loss: 0.0056 - val_accuracy: 0.9993\n",
      "Epoch 49/50\n",
      "2226/2226 [==============================] - 2s 981us/step - loss: 0.0045 - accuracy: 0.9995 - val_loss: 0.0059 - val_accuracy: 0.9993\n",
      "Epoch 50/50\n",
      "2226/2226 [==============================] - 2s 971us/step - loss: 0.0046 - accuracy: 0.9994 - val_loss: 0.0057 - val_accuracy: 0.9994\n"
     ]
    }
   ],
   "source": [
    "# training the model\n",
    "\n",
    "history = model.fit(x_train,\n",
    "                    y_train,\n",
    "                    epochs=50,\n",
    "                    batch_size=64,\n",
    "                    validation_data=(x_val, y_val))\n",
    "\n",
    "# Model is performing acceptable lavel at around 11 epochs"
   ]
  },
  {
   "cell_type": "code",
   "execution_count": 12,
   "metadata": {
    "colab": {
     "base_uri": "https://localhost:8080/"
    },
    "executionInfo": {
     "elapsed": 29625,
     "status": "ok",
     "timestamp": 1616675183734,
     "user": {
      "displayName": "Tariq Jamil",
      "photoUrl": "https://lh3.googleusercontent.com/a-/AOh14GgDTWFYRmAzAYPlKEXPBbLUin4uLOPxYf0jwdLNofE=s64",
      "userId": "14932491825632509938"
     },
     "user_tz": -300
    },
    "id": "XbaOnEpE7zOs",
    "outputId": "9886f7fc-33bf-4d78-f2f2-c6435d1e5b54"
   },
   "outputs": [
    {
     "data": {
      "text/plain": [
       "dict_keys(['loss', 'accuracy', 'val_loss', 'val_accuracy'])"
      ]
     },
     "execution_count": 12,
     "metadata": {},
     "output_type": "execute_result"
    }
   ],
   "source": [
    "# evaluating\n",
    "\n",
    "history_dict=history.history\n",
    "history_dict.keys()"
   ]
  },
  {
   "cell_type": "code",
   "execution_count": 13,
   "metadata": {
    "colab": {
     "base_uri": "https://localhost:8080/",
     "height": 295
    },
    "executionInfo": {
     "elapsed": 30748,
     "status": "ok",
     "timestamp": 1616675184864,
     "user": {
      "displayName": "Tariq Jamil",
      "photoUrl": "https://lh3.googleusercontent.com/a-/AOh14GgDTWFYRmAzAYPlKEXPBbLUin4uLOPxYf0jwdLNofE=s64",
      "userId": "14932491825632509938"
     },
     "user_tz": -300
    },
    "id": "2BSBPe0-9YuM",
    "outputId": "00db4370-e274-4616-f9d2-c19ffc068d83"
   },
   "outputs": [
    {
     "data": {
      "image/png": "[encoded data removed]",
      "text/plain": [
       "<Figure size 432x288 with 1 Axes>"
      ]
     },
     "metadata": {
      "needs_background": "light"
     },
     "output_type": "display_data"
    }
   ],
   "source": [
    "# evaluating validation loss\n",
    "\n",
    "import matplotlib.pyplot as plt\n",
    "\n",
    "history_dict=history.history\n",
    "loss_value = history_dict['loss']\n",
    "val_loss_value=history_dict['val_loss']\n",
    "acc=history_dict['accuracy']   # missing in the book\n",
    "val_acc=history_dict['val_accuracy']\n",
    "\n",
    "epochs = np.arange(1, len(acc)+1)\n",
    "\n",
    "plt.plot(epochs, loss_value, 'bo', label='Training loss')\n",
    "plt.plot(epochs, val_loss_value, 'b', label='Validation loss')\n",
    "\n",
    "plt.title('Training & Validation Loss')\n",
    "plt.xlabel('Epochs')\n",
    "plt.ylabel('Loss')\n",
    "plt.legend()\n",
    "\n",
    "plt.show()"
   ]
  },
  {
   "cell_type": "code",
   "execution_count": 14,
   "metadata": {
    "colab": {
     "base_uri": "https://localhost:8080/",
     "height": 295
    },
    "executionInfo": {
     "elapsed": 30737,
     "status": "ok",
     "timestamp": 1616675184865,
     "user": {
      "displayName": "Tariq Jamil",
      "photoUrl": "https://lh3.googleusercontent.com/a-/AOh14GgDTWFYRmAzAYPlKEXPBbLUin4uLOPxYf0jwdLNofE=s64",
      "userId": "14932491825632509938"
     },
     "user_tz": -300
    },
    "id": "a0CHQAwQY0_I",
    "outputId": "b94ab7ca-46d2-42b1-dfef-96e10f5a54d6"
   },
   "outputs": [
    {
     "data": {
      "image/png": "[encoded data removed]",
      "text/plain": [
       "<Figure size 432x288 with 1 Axes>"
      ]
     },
     "metadata": {
      "needs_background": "light"
     },
     "output_type": "display_data"
    }
   ],
   "source": [
    "# evaluating validation accuracy\n",
    "\n",
    "plt.plot(epochs, acc, 'bo', label='Training Accuracy')\n",
    "plt.plot(epochs, val_acc, 'b', label='Validation Accuracy')\n",
    "plt.title('Training & Validation Accuracy')\n",
    "plt.xlabel('Epochs')\n",
    "plt.ylabel('Accuracy')\n",
    "plt.legend()\n",
    "plt.show()"
   ]
  },
  {
   "cell_type": "code",
   "execution_count": 15,
   "metadata": {},
   "outputs": [
    {
     "name": "stdout",
     "output_type": "stream",
     "text": [
      "2671/2671 [==============================] - 2s 573us/step - loss: 0.0057 - accuracy: 0.9994\n"
     ]
    },
    {
     "data": {
      "text/plain": [
       "0.005659253802150488"
      ]
     },
     "metadata": {},
     "output_type": "display_data"
    },
    {
     "data": {
      "text/plain": [
       "0.9993796944618225"
      ]
     },
     "metadata": {},
     "output_type": "display_data"
    }
   ],
   "source": [
    "# pridcting on test values\n",
    "\n",
    "test_loss_score, test_accuracy_score = model.evaluate(x_test, y_test)\n",
    "\n",
    "# display test loss\n",
    "display(test_loss_score)\n",
    "\n",
    "# display test predic \n",
    "display (test_accuracy_score)"
   ]
  },
  {
   "cell_type": "code",
   "execution_count": 16,
   "metadata": {},
   "outputs": [],
   "source": [
    "#The results looks to be pretty fine\n",
    "#loss value is coming lestt than 1 %\n",
    "# and accuracy is coming 99 %"
   ]
  }
 ],
 "metadata": {
  "kernelspec": {
   "display_name": "gpu2",
   "language": "python",
   "name": "gpu2"
  },
  "language_info": {
   "codemirror_mode": {
    "name": "ipython",
    "version": 3
   },
   "file_extension": ".py",
   "mimetype": "text/x-python",
   "name": "python",
   "nbconvert_exporter": "python",
   "pygments_lexer": "ipython3",
   "version": "3.8.8"
  }
 },
 "nbformat": 4,
 "nbformat_minor": 4
}
